{
  "nbformat": 4,
  "nbformat_minor": 0,
  "metadata": {
    "accelerator": "GPU",
    "colab": {
      "name": "tabNet.ipynb",
      "provenance": []
    },
    "kernelspec": {
      "display_name": "Python 3",
      "name": "python3"
    },
    "language_info": {
      "name": "python"
    }
  },
  "cells": [
    {
      "cell_type": "code",
      "metadata": {
        "colab": {
          "base_uri": "https://localhost:8080/"
        },
        "id": "KcB3Q29B7JsD",
        "outputId": "85db056f-6252-42c3-d541-675143a82d44"
      },
      "source": [
        "from google.colab import drive\n",
        "drive.mount('/content/drive')\n",
        "\n",
        "path = '/content/drive/My Drive/Colab Notebooks/home-credit-default-risk'"
      ],
      "execution_count": 1,
      "outputs": [
        {
          "output_type": "stream",
          "text": [
            "Mounted at /content/drive\n"
          ],
          "name": "stdout"
        }
      ]
    },
    {
      "cell_type": "code",
      "metadata": {
        "id": "AQueL7n-7Nfz"
      },
      "source": [
        "import pandas as pd \n",
        "import numpy as np\n",
        "\n",
        "import warnings\n",
        "warnings.filterwarnings('ignore')"
      ],
      "execution_count": 2,
      "outputs": []
    },
    {
      "cell_type": "code",
      "metadata": {
        "id": "z-3jvvjP7PPL"
      },
      "source": [
        "train = pd.read_csv(path + '/train.csv').set_index('SK_ID_CURR')\n",
        "test = pd.read_csv(path + '/test.csv').set_index('SK_ID_CURR')\n",
        "\n",
        "kaggle_test = pd.read_csv(path + '/kaggle_test.csv').set_index('SK_ID_CURR')"
      ],
      "execution_count": 11,
      "outputs": []
    },
    {
      "cell_type": "code",
      "metadata": {
        "colab": {
          "base_uri": "https://localhost:8080/"
        },
        "id": "ecTbkZ0v7Rrf",
        "outputId": "efbd6250-86bc-42e5-dbb6-090b4e8a2c5c"
      },
      "source": [
        "train.dtypes.unique()"
      ],
      "execution_count": 12,
      "outputs": [
        {
          "output_type": "execute_result",
          "data": {
            "text/plain": [
              "array([dtype('int64'), dtype('O'), dtype('float64')], dtype=object)"
            ]
          },
          "metadata": {
            "tags": []
          },
          "execution_count": 12
        }
      ]
    },
    {
      "cell_type": "code",
      "metadata": {
        "id": "CU6rYgaY7irB"
      },
      "source": [
        "categorical = train.select_dtypes('O').columns.tolist()\n",
        "numeric = train.drop(columns=['TARGET']).select_dtypes(include=np.number).columns.tolist()\n",
        "features = np.concatenate((numeric, categorical), axis=0)"
      ],
      "execution_count": 13,
      "outputs": []
    },
    {
      "cell_type": "code",
      "metadata": {
        "id": "9ahQxPu07nW8"
      },
      "source": [
        "X_train, y_train = train.drop(columns=['TARGET']), train['TARGET']\n",
        "X_test, y_test = test.drop(columns=['TARGET']), test['TARGET']"
      ],
      "execution_count": 14,
      "outputs": []
    },
    {
      "cell_type": "code",
      "metadata": {
        "id": "Aq6hBRfl74Wb"
      },
      "source": [
        "from sklearn.impute import SimpleImputer\n",
        "\n",
        "def process_features(df):\n",
        "  ########### process numeric features #############\n",
        "\n",
        "  # delete inf values\n",
        "  df[numeric] = df[numeric].replace([float(\"inf\"), float(\"-inf\")], np.nan)\n",
        "\n",
        "  # change NaNs to mean value in the column  \n",
        "  imputer = SimpleImputer(missing_values = np.nan, strategy = 'mean')\n",
        "  df[numeric] = imputer.fit_transform(df[numeric])\n",
        "\n",
        "  ########### process categorical features ########\n",
        "\n",
        "  # change NaNs to 'NULL' category\n",
        "  df[categorical] = df[categorical].astype('category')\n",
        "  for col in categorical:\n",
        "    df[col] = df[col].cat.add_categories(['NULL'])\n",
        "    df[col].fillna('NULL', inplace=True)\n",
        "  \n",
        "  return df"
      ],
      "execution_count": 15,
      "outputs": []
    },
    {
      "cell_type": "code",
      "metadata": {
        "id": "7ILPDwXR77ja"
      },
      "source": [
        "X_train = process_features(X_train)\n",
        "X_test = process_features(X_test)"
      ],
      "execution_count": 16,
      "outputs": []
    },
    {
      "cell_type": "code",
      "metadata": {
        "id": "XYsPkW0-8HWo"
      },
      "source": [
        "kaggle_test[numeric] = kaggle_test[numeric].replace([float(\"inf\"), float(\"-inf\")], np.nan)\n",
        "kaggle_test_mean = kaggle_test[numeric].mean()\n",
        "kaggle_test_mean = kaggle_test_mean.fillna(0)\n",
        "kaggle_test[numeric] = kaggle_test[numeric].fillna(kaggle_test_mean)"
      ],
      "execution_count": 17,
      "outputs": []
    },
    {
      "cell_type": "code",
      "metadata": {
        "id": "j046qhK78NO4"
      },
      "source": [
        "kaggle_test[categorical] = kaggle_test[categorical].astype('category')\n",
        "for col in categorical:\n",
        "  kaggle_test[col] = kaggle_test[col].cat.add_categories(['NULL'])\n",
        "  kaggle_test[col].fillna('NULL', inplace=True)"
      ],
      "execution_count": 18,
      "outputs": []
    },
    {
      "cell_type": "markdown",
      "metadata": {
        "id": "ZX6YXJrQ8Q_e"
      },
      "source": [
        "### Label Encoding"
      ]
    },
    {
      "cell_type": "code",
      "metadata": {
        "id": "54MLYd6v9Rhj"
      },
      "source": [
        "X_train_le, y_train_le = X_train, y_train\n",
        "X_test_le, y_test_le = X_test, y_test\n",
        "kaggle_test_le = kaggle_test"
      ],
      "execution_count": 19,
      "outputs": []
    },
    {
      "cell_type": "code",
      "metadata": {
        "id": "PJOM89GO8Wd2"
      },
      "source": [
        "from sklearn import preprocessing\n",
        "from sklearn.preprocessing import LabelEncoder\n",
        "\n",
        "categorical_dims =  {}\n",
        "\n",
        "# encode categorical features\n",
        "for column in categorical:\n",
        "    le = LabelEncoder()\n",
        "    le.fit(list(X_train_le[column].values) + list(X_test_le[column].values) + list(kaggle_test_le[column].values))\n",
        "    X_train_le[column] = le.transform(list(X_train_le[column].values))\n",
        "    X_test_le[column] = le.transform(list(X_test_le[column].values))\n",
        "    kaggle_test_le[column] = le.transform(list(kaggle_test_le[column].values))\n",
        "    categorical_dims[column] = len(le.classes_)"
      ],
      "execution_count": 20,
      "outputs": []
    },
    {
      "cell_type": "code",
      "metadata": {
        "id": "1qgbJ65K9x3g"
      },
      "source": [
        "from sklearn.preprocessing import MinMaxScaler\n",
        "\n",
        "# standardization\n",
        "X_train_le = pd.DataFrame(MinMaxScaler().fit_transform(X_train_le), columns=features)\n",
        "X_test_le = pd.DataFrame(MinMaxScaler().fit_transform(X_test_le), columns=features)\n",
        "kaggle_test_le = pd.DataFrame(MinMaxScaler().fit_transform(kaggle_test_le), columns=features)"
      ],
      "execution_count": 21,
      "outputs": []
    },
    {
      "cell_type": "markdown",
      "metadata": {
        "id": "NpbegrrRRNks"
      },
      "source": [
        "### TabNet (prod)\n"
      ]
    },
    {
      "cell_type": "code",
      "metadata": {
        "colab": {
          "base_uri": "https://localhost:8080/"
        },
        "id": "Imh0mSuzRU4I",
        "outputId": "55ee5804-0d09-4f9f-f474-12a994bde4f6"
      },
      "source": [
        "!pip install pytorch_tabnet"
      ],
      "execution_count": 22,
      "outputs": [
        {
          "output_type": "stream",
          "text": [
            "Collecting pytorch_tabnet\n",
            "  Downloading https://files.pythonhosted.org/packages/94/e5/2a808d611a5d44e3c997c0d07362c04a56c70002208e00aec9eee3d923b5/pytorch_tabnet-3.1.1-py3-none-any.whl\n",
            "Requirement already satisfied: torch<2.0,>=1.2 in /usr/local/lib/python3.7/dist-packages (from pytorch_tabnet) (1.8.1+cu101)\n",
            "Requirement already satisfied: numpy<2.0,>=1.17 in /usr/local/lib/python3.7/dist-packages (from pytorch_tabnet) (1.19.5)\n",
            "Requirement already satisfied: scikit_learn>0.21 in /usr/local/lib/python3.7/dist-packages (from pytorch_tabnet) (0.22.2.post1)\n",
            "Requirement already satisfied: scipy>1.4 in /usr/local/lib/python3.7/dist-packages (from pytorch_tabnet) (1.4.1)\n",
            "Requirement already satisfied: tqdm<5.0,>=4.36 in /usr/local/lib/python3.7/dist-packages (from pytorch_tabnet) (4.41.1)\n",
            "Requirement already satisfied: typing-extensions in /usr/local/lib/python3.7/dist-packages (from torch<2.0,>=1.2->pytorch_tabnet) (3.7.4.3)\n",
            "Requirement already satisfied: joblib>=0.11 in /usr/local/lib/python3.7/dist-packages (from scikit_learn>0.21->pytorch_tabnet) (1.0.1)\n",
            "Installing collected packages: pytorch-tabnet\n",
            "Successfully installed pytorch-tabnet-3.1.1\n"
          ],
          "name": "stdout"
        }
      ]
    },
    {
      "cell_type": "code",
      "metadata": {
        "id": "eSXHfdm8Rml0"
      },
      "source": [
        "from pytorch_tabnet.tab_model import TabNetClassifier"
      ],
      "execution_count": 23,
      "outputs": []
    },
    {
      "cell_type": "code",
      "metadata": {
        "id": "kSdhl7cHRnLL"
      },
      "source": [
        "cat_idxs = [ i for i, f in enumerate(features) if f in categorical]\n",
        "cat_dims = [ categorical_dims[f] for i, f in enumerate(features) if f in categorical]"
      ],
      "execution_count": 24,
      "outputs": []
    },
    {
      "cell_type": "code",
      "metadata": {
        "id": "dZ5ebu8VSgK2"
      },
      "source": [
        "from sklearn.model_selection import train_test_split\n",
        "\n",
        "train_X, valid_X, train_y, valid_y = train_test_split(X_train_le, y_train_le, test_size=0.25, random_state=42)"
      ],
      "execution_count": 25,
      "outputs": []
    },
    {
      "cell_type": "code",
      "metadata": {
        "id": "zndoIzHITt3-"
      },
      "source": [
        "train_X = train_X.to_numpy()\n",
        "valid_X = valid_X.to_numpy()\n",
        "train_y = train_y.to_numpy()\n",
        "valid_y = valid_y.to_numpy()\n",
        "\n",
        "test_X = X_test_le.to_numpy()"
      ],
      "execution_count": 26,
      "outputs": []
    },
    {
      "cell_type": "code",
      "metadata": {
        "colab": {
          "base_uri": "https://localhost:8080/"
        },
        "id": "Q7y7ATdRURBK",
        "outputId": "28d56474-dc0a-43c0-dff8-1a0c13195189"
      },
      "source": [
        "import torch\n",
        "\n",
        "max_epochs = 30\n",
        "batch_size = 1024\n",
        "clf = TabNetClassifier(cat_idxs=cat_idxs,\n",
        "                       cat_dims=cat_dims,\n",
        "                       cat_emb_dim=1,\n",
        "                       optimizer_fn=torch.optim.Adam,\n",
        "                       optimizer_params=dict(lr=1e-4),\n",
        "                       scheduler_fn=torch.optim.lr_scheduler.OneCycleLR,\n",
        "                       scheduler_params={\"is_batch_level\":True,\n",
        "                                         \"max_lr\":2e-2,\n",
        "                                         \"steps_per_epoch\":int(X_train_le.shape[0] / batch_size)+1,\n",
        "                                         \"epochs\":max_epochs\n",
        "                                          },\n",
        "                       mask_type='entmax',\n",
        "                      )\n"
      ],
      "execution_count": 27,
      "outputs": [
        {
          "output_type": "stream",
          "text": [
            "Device used : cuda\n"
          ],
          "name": "stdout"
        }
      ]
    },
    {
      "cell_type": "code",
      "metadata": {
        "id": "8UQzvYu9Uy4Y"
      },
      "source": [
        "from pytorch_tabnet.metrics import Metric\n",
        "from sklearn.metrics import roc_auc_score\n",
        "\n",
        "class Gini(Metric):\n",
        "    def __init__(self):\n",
        "        self._name = \"gini\"\n",
        "        self._maximize = True\n",
        "\n",
        "    def __call__(self, y_true, y_score):\n",
        "        auc = roc_auc_score(y_true, y_score[:, 1])\n",
        "        return max(2*auc - 1, 0.)"
      ],
      "execution_count": 28,
      "outputs": []
    },
    {
      "cell_type": "code",
      "metadata": {
        "colab": {
          "base_uri": "https://localhost:8080/"
        },
        "id": "GYx6xGsEU37d",
        "outputId": "6a1c5fd5-b6f8-4ce0-f1c0-aa5504acc6bd"
      },
      "source": [
        "clf.fit(\n",
        "    X_train=train_X, y_train=train_y,\n",
        "    eval_set=[(train_X, train_y), (valid_X, valid_y)],\n",
        "    eval_name=['train', 'val'],\n",
        "    eval_metric=[Gini],\n",
        "    max_epochs=max_epochs , patience=10,\n",
        "    batch_size=batch_size,\n",
        "    virtual_batch_size=128,\n",
        "    num_workers=0,\n",
        "    weights=1,\n",
        "    drop_last=False\n",
        ")"
      ],
      "execution_count": 29,
      "outputs": [
        {
          "output_type": "stream",
          "text": [
            "epoch 0  | loss: 0.80049 | train_gini: 0.19758 | val_gini: 0.207   |  0:00:16s\n",
            "epoch 1  | loss: 0.7078  | train_gini: 0.22245 | val_gini: 0.22712 |  0:00:33s\n",
            "epoch 2  | loss: 0.68335 | train_gini: 0.37108 | val_gini: 0.37308 |  0:00:50s\n",
            "epoch 3  | loss: 0.64436 | train_gini: 0.41081 | val_gini: 0.4018  |  0:01:06s\n",
            "epoch 4  | loss: 0.63097 | train_gini: 0.43174 | val_gini: 0.42098 |  0:01:23s\n",
            "epoch 5  | loss: 0.62295 | train_gini: 0.43962 | val_gini: 0.428   |  0:01:40s\n",
            "epoch 6  | loss: 0.61924 | train_gini: 0.44949 | val_gini: 0.43398 |  0:01:56s\n",
            "epoch 7  | loss: 0.61033 | train_gini: 0.48314 | val_gini: 0.46683 |  0:02:13s\n",
            "epoch 8  | loss: 0.60047 | train_gini: 0.50128 | val_gini: 0.47712 |  0:02:30s\n",
            "epoch 9  | loss: 0.59003 | train_gini: 0.5234  | val_gini: 0.49225 |  0:02:46s\n",
            "epoch 10 | loss: 0.58257 | train_gini: 0.53753 | val_gini: 0.49922 |  0:03:03s\n",
            "epoch 11 | loss: 0.57764 | train_gini: 0.54852 | val_gini: 0.50844 |  0:03:19s\n",
            "epoch 12 | loss: 0.57128 | train_gini: 0.55936 | val_gini: 0.50404 |  0:03:36s\n",
            "epoch 13 | loss: 0.56428 | train_gini: 0.55936 | val_gini: 0.50144 |  0:03:52s\n",
            "epoch 14 | loss: 0.55741 | train_gini: 0.58067 | val_gini: 0.493   |  0:04:09s\n",
            "epoch 15 | loss: 0.55024 | train_gini: 0.57354 | val_gini: 0.49488 |  0:04:26s\n",
            "epoch 16 | loss: 0.53918 | train_gini: 0.59878 | val_gini: 0.49065 |  0:04:42s\n",
            "epoch 17 | loss: 0.52879 | train_gini: 0.63004 | val_gini: 0.49095 |  0:04:58s\n",
            "epoch 18 | loss: 0.52195 | train_gini: 0.63626 | val_gini: 0.48754 |  0:05:15s\n",
            "epoch 19 | loss: 0.51664 | train_gini: 0.61491 | val_gini: 0.47346 |  0:05:31s\n",
            "epoch 20 | loss: 0.51014 | train_gini: 0.65599 | val_gini: 0.47493 |  0:05:48s\n",
            "epoch 21 | loss: 0.50302 | train_gini: 0.65664 | val_gini: 0.48359 |  0:06:04s\n",
            "\n",
            "Early stopping occurred at epoch 21 with best_epoch = 11 and best_val_gini = 0.50844\n",
            "Best weights from best epoch are automatically used!\n"
          ],
          "name": "stdout"
        }
      ]
    },
    {
      "cell_type": "code",
      "metadata": {
        "colab": {
          "base_uri": "https://localhost:8080/"
        },
        "id": "GQx3lVLGU4u-",
        "outputId": "83e711ed-7477-4bfa-ce2b-f643c163e426"
      },
      "source": [
        "preds = clf.predict_proba(test_X)[:,1]\n",
        "\n",
        "from sklearn.metrics import roc_auc_score\n",
        "roc_auc_score(y_test, preds)"
      ],
      "execution_count": 30,
      "outputs": [
        {
          "output_type": "execute_result",
          "data": {
            "text/plain": [
              "0.7276268065715816"
            ]
          },
          "metadata": {
            "tags": []
          },
          "execution_count": 30
        }
      ]
    },
    {
      "cell_type": "code",
      "metadata": {
        "id": "a1i54MC2H-Gg"
      },
      "source": [
        "# kaggle test\n",
        "def create_submission(kaggle_test_preds, i):\n",
        "    kaggle_test2 = pd.read_csv(path + '/kaggle_test.csv')\n",
        "    ids = kaggle_test2['SK_ID_CURR'].values\n",
        "    A = pd.DataFrame(ids)\n",
        "    A['TARGET'] = kaggle_test_preds\n",
        "    A['SK_ID_CURR'] = ids\n",
        "    A = A.set_index('SK_ID_CURR')\n",
        "    A[A['TARGET']<0]\n",
        "    sample = pd.read_csv(path + '/sample_submission.csv')\n",
        "    sample = sample.set_index('SK_ID_CURR')\n",
        "    sample['TARGET'] = A['TARGET']\n",
        "    filename = '/my_submission' + i +'.csv'\n",
        "    sample.to_csv(path+filename)"
      ],
      "execution_count": 31,
      "outputs": []
    },
    {
      "cell_type": "code",
      "metadata": {
        "id": "Qkw9bUHvWXvH"
      },
      "source": [
        "kaggle_test_preds2= clf.predict(kaggle_test_le.to_numpy())"
      ],
      "execution_count": null,
      "outputs": []
    },
    {
      "cell_type": "code",
      "metadata": {
        "colab": {
          "base_uri": "https://localhost:8080/"
        },
        "id": "VNDB-RvlXfdx",
        "outputId": "be64d30d-1292-4a43-82c2-90b46e53f6d3"
      },
      "source": [
        "max_epochs = 20\n",
        "batch_size = 256\n",
        "clf1 = TabNetClassifier(n_a=16, n_d=16,\n",
        "                       cat_idxs=cat_idxs,\n",
        "                       cat_dims=cat_dims,\n",
        "                       cat_emb_dim=1,\n",
        "                       optimizer_fn=torch.optim.Adam,\n",
        "                       optimizer_params=dict(lr=1e-3),\n",
        "                       scheduler_fn=torch.optim.lr_scheduler.ReduceLROnPlateau,\n",
        "                       scheduler_params={\"mode\":'max', # max because default eval metric for binary is AUC\n",
        "                                          \"factor\":0.25,\n",
        "                                          \"patience\":5},\n",
        "                       mask_type='entmax', # \"sparsemax\",\n",
        "                      )"
      ],
      "execution_count": 32,
      "outputs": [
        {
          "output_type": "stream",
          "text": [
            "Device used : cuda\n"
          ],
          "name": "stdout"
        }
      ]
    },
    {
      "cell_type": "code",
      "metadata": {
        "colab": {
          "base_uri": "https://localhost:8080/"
        },
        "id": "h7cu0EObXgLh",
        "outputId": "b970b532-dd7f-4375-c2bf-d6078ee4c285"
      },
      "source": [
        "clf1.fit(\n",
        "    X_train=train_X, y_train=train_y,\n",
        "    eval_set=[(train_X, train_y), (valid_X, valid_y)],\n",
        "    eval_name=['train', 'val'],\n",
        "    eval_metric=[Gini],\n",
        "    max_epochs=max_epochs , patience=5,\n",
        "    batch_size=batch_size,\n",
        "    virtual_batch_size=128,\n",
        "    num_workers=0,\n",
        "    weights=1,\n",
        "    drop_last=False\n",
        ")"
      ],
      "execution_count": 33,
      "outputs": [
        {
          "output_type": "stream",
          "text": [
            "epoch 0  | loss: 0.74896 | train_gini: 0.30061 | val_gini: 0.28952 |  0:00:35s\n",
            "epoch 1  | loss: 0.66811 | train_gini: 0.38738 | val_gini: 0.36967 |  0:01:11s\n",
            "epoch 2  | loss: 0.63945 | train_gini: 0.43264 | val_gini: 0.41685 |  0:01:47s\n",
            "epoch 3  | loss: 0.62853 | train_gini: 0.44293 | val_gini: 0.42911 |  0:02:22s\n",
            "epoch 4  | loss: 0.62134 | train_gini: 0.4468  | val_gini: 0.43777 |  0:02:58s\n",
            "epoch 5  | loss: 0.61779 | train_gini: 0.45327 | val_gini: 0.44079 |  0:03:33s\n",
            "epoch 6  | loss: 0.6144  | train_gini: 0.45769 | val_gini: 0.44267 |  0:04:08s\n",
            "epoch 7  | loss: 0.61304 | train_gini: 0.4665  | val_gini: 0.44925 |  0:04:43s\n",
            "epoch 8  | loss: 0.60891 | train_gini: 0.47571 | val_gini: 0.45052 |  0:05:19s\n",
            "epoch 9  | loss: 0.60289 | train_gini: 0.49115 | val_gini: 0.45937 |  0:05:54s\n",
            "epoch 10 | loss: 0.59703 | train_gini: 0.50659 | val_gini: 0.46957 |  0:06:29s\n",
            "epoch 11 | loss: 0.59021 | train_gini: 0.52135 | val_gini: 0.47296 |  0:07:04s\n",
            "epoch 12 | loss: 0.58469 | train_gini: 0.5405  | val_gini: 0.47949 |  0:07:39s\n",
            "epoch 13 | loss: 0.5776  | train_gini: 0.5556  | val_gini: 0.47954 |  0:08:15s\n",
            "epoch 14 | loss: 0.57187 | train_gini: 0.57376 | val_gini: 0.47854 |  0:08:50s\n",
            "epoch 15 | loss: 0.56367 | train_gini: 0.58758 | val_gini: 0.4774  |  0:09:25s\n",
            "epoch 16 | loss: 0.5556  | train_gini: 0.58476 | val_gini: 0.46644 |  0:09:59s\n",
            "epoch 17 | loss: 0.54696 | train_gini: 0.62047 | val_gini: 0.46896 |  0:10:35s\n",
            "epoch 18 | loss: 0.53816 | train_gini: 0.61663 | val_gini: 0.45494 |  0:11:10s\n",
            "\n",
            "Early stopping occurred at epoch 18 with best_epoch = 13 and best_val_gini = 0.47954\n",
            "Best weights from best epoch are automatically used!\n"
          ],
          "name": "stdout"
        }
      ]
    },
    {
      "cell_type": "code",
      "metadata": {
        "colab": {
          "base_uri": "https://localhost:8080/"
        },
        "id": "pg5KCdoqXg7l",
        "outputId": "198625fa-9d48-4902-dee1-4e4c96fff0f6"
      },
      "source": [
        "preds1 = clf1.predict_proba(test_X)[:,1]\n",
        "\n",
        "from sklearn.metrics import roc_auc_score\n",
        "roc_auc_score(y_test, preds1)"
      ],
      "execution_count": 34,
      "outputs": [
        {
          "output_type": "execute_result",
          "data": {
            "text/plain": [
              "0.6202284379743008"
            ]
          },
          "metadata": {
            "tags": []
          },
          "execution_count": 34
        }
      ]
    },
    {
      "cell_type": "code",
      "metadata": {
        "colab": {
          "base_uri": "https://localhost:8080/"
        },
        "id": "fdmj0ttrXhkJ",
        "outputId": "572f162b-0a86-49d2-a676-98d1dc5624a1"
      },
      "source": [
        "max_epochs = 20\n",
        "batch_size = 512\n",
        "clf2 = TabNetClassifier(n_a=32, n_d=32,\n",
        "                       cat_idxs=cat_idxs,\n",
        "                       cat_dims=cat_dims,\n",
        "                       cat_emb_dim=1,\n",
        "                       optimizer_fn=torch.optim.Adam,\n",
        "                       optimizer_params=dict(lr=1e-4),\n",
        "                       mask_type='entmax'\n",
        "                      )"
      ],
      "execution_count": 46,
      "outputs": [
        {
          "output_type": "stream",
          "text": [
            "Device used : cuda\n"
          ],
          "name": "stdout"
        }
      ]
    },
    {
      "cell_type": "code",
      "metadata": {
        "colab": {
          "base_uri": "https://localhost:8080/"
        },
        "id": "2AZ30RDAXiS9",
        "outputId": "9dfbc7a7-a653-42a9-de4c-9e9b74ed45d3"
      },
      "source": [
        "clf2.fit(\n",
        "    X_train=train_X, y_train=train_y,\n",
        "    eval_set=[(train_X, train_y), (valid_X, valid_y)],\n",
        "    eval_name=['train', 'val'],\n",
        "    eval_metric=[Gini],\n",
        "    max_epochs=max_epochs , patience=10,\n",
        "    batch_size=batch_size,\n",
        "    virtual_batch_size=128,\n",
        "    num_workers=0,\n",
        "    weights=1,\n",
        "    drop_last=False,\n",
        ")"
      ],
      "execution_count": 47,
      "outputs": [
        {
          "output_type": "stream",
          "text": [
            "epoch 0  | loss: 0.87717 | train_gini: 0.03194 | val_gini: 0.03322 |  0:00:24s\n",
            "epoch 1  | loss: 0.82453 | train_gini: 0.05872 | val_gini: 0.05609 |  0:00:48s\n",
            "epoch 2  | loss: 0.79248 | train_gini: 0.06323 | val_gini: 0.06964 |  0:01:12s\n",
            "epoch 3  | loss: 0.77085 | train_gini: 0.07346 | val_gini: 0.07254 |  0:01:36s\n",
            "epoch 4  | loss: 0.75491 | train_gini: 0.09688 | val_gini: 0.09834 |  0:02:00s\n",
            "epoch 5  | loss: 0.7418  | train_gini: 0.11715 | val_gini: 0.11865 |  0:02:25s\n",
            "epoch 6  | loss: 0.73066 | train_gini: 0.15088 | val_gini: 0.15416 |  0:02:49s\n",
            "epoch 7  | loss: 0.7221  | train_gini: 0.17339 | val_gini: 0.1725  |  0:03:13s\n",
            "epoch 8  | loss: 0.71251 | train_gini: 0.23622 | val_gini: 0.22691 |  0:03:38s\n",
            "epoch 9  | loss: 0.70609 | train_gini: 0.26452 | val_gini: 0.25476 |  0:04:02s\n",
            "epoch 10 | loss: 0.70044 | train_gini: 0.289   | val_gini: 0.28239 |  0:04:26s\n",
            "epoch 11 | loss: 0.69357 | train_gini: 0.31208 | val_gini: 0.30666 |  0:04:51s\n",
            "epoch 12 | loss: 0.68751 | train_gini: 0.33575 | val_gini: 0.32591 |  0:05:15s\n",
            "epoch 13 | loss: 0.68353 | train_gini: 0.35725 | val_gini: 0.34228 |  0:05:39s\n",
            "epoch 14 | loss: 0.67836 | train_gini: 0.35932 | val_gini: 0.34504 |  0:06:04s\n",
            "epoch 15 | loss: 0.67395 | train_gini: 0.36789 | val_gini: 0.35367 |  0:06:28s\n",
            "epoch 16 | loss: 0.66981 | train_gini: 0.37208 | val_gini: 0.35827 |  0:06:52s\n",
            "epoch 17 | loss: 0.66674 | train_gini: 0.38489 | val_gini: 0.36962 |  0:07:16s\n",
            "epoch 18 | loss: 0.66371 | train_gini: 0.39502 | val_gini: 0.37465 |  0:07:41s\n",
            "epoch 19 | loss: 0.66266 | train_gini: 0.39456 | val_gini: 0.37679 |  0:08:05s\n",
            "Stop training because you reached max_epochs = 20 with best_epoch = 19 and best_val_gini = 0.37679\n",
            "Best weights from best epoch are automatically used!\n"
          ],
          "name": "stdout"
        }
      ]
    },
    {
      "cell_type": "code",
      "metadata": {
        "id": "f3jTxvyKRtAB"
      },
      "source": [
        ""
      ],
      "execution_count": null,
      "outputs": []
    },
    {
      "cell_type": "code",
      "metadata": {
        "id": "Vxc_HGH_l4aS",
        "colab": {
          "base_uri": "https://localhost:8080/"
        },
        "outputId": "e7e29c46-e61a-4683-c688-230fac5f2d33"
      },
      "source": [
        "!pip install fast_tabnet"
      ],
      "execution_count": 59,
      "outputs": [
        {
          "output_type": "stream",
          "text": [
            "Collecting fast_tabnet\n",
            "  Downloading https://files.pythonhosted.org/packages/76/f4/d099428f0820ec92dc3b287957bfbbb2fd9bbc3e82ea4060f741dd7c7286/fast_tabnet-0.2.0-py3-none-any.whl\n",
            "Requirement already satisfied: pytorch-tabnet>=2.0.1 in /usr/local/lib/python3.7/dist-packages (from fast_tabnet) (3.1.1)\n",
            "Requirement already satisfied: tqdm<5.0,>=4.36 in /usr/local/lib/python3.7/dist-packages (from pytorch-tabnet>=2.0.1->fast_tabnet) (4.41.1)\n",
            "Requirement already satisfied: scipy>1.4 in /usr/local/lib/python3.7/dist-packages (from pytorch-tabnet>=2.0.1->fast_tabnet) (1.4.1)\n",
            "Requirement already satisfied: scikit_learn>0.21 in /usr/local/lib/python3.7/dist-packages (from pytorch-tabnet>=2.0.1->fast_tabnet) (0.22.2.post1)\n",
            "Requirement already satisfied: numpy<2.0,>=1.17 in /usr/local/lib/python3.7/dist-packages (from pytorch-tabnet>=2.0.1->fast_tabnet) (1.19.5)\n",
            "Requirement already satisfied: torch<2.0,>=1.2 in /usr/local/lib/python3.7/dist-packages (from pytorch-tabnet>=2.0.1->fast_tabnet) (1.8.1+cu101)\n",
            "Requirement already satisfied: joblib>=0.11 in /usr/local/lib/python3.7/dist-packages (from scikit_learn>0.21->pytorch-tabnet>=2.0.1->fast_tabnet) (1.0.1)\n",
            "Requirement already satisfied: typing-extensions in /usr/local/lib/python3.7/dist-packages (from torch<2.0,>=1.2->pytorch-tabnet>=2.0.1->fast_tabnet) (3.7.4.3)\n",
            "Installing collected packages: fast-tabnet\n",
            "Successfully installed fast-tabnet-0.2.0\n"
          ],
          "name": "stdout"
        }
      ]
    },
    {
      "cell_type": "code",
      "metadata": {
        "id": "nSm3CnfsT46z"
      },
      "source": [
        "params = {'lambda': hp.choice('lambda', [0.01, 0.001, 0.0001, 0.00001]),\n",
        "              'n_steps': hp.quniform('n_steps', 3, 10, 1),\n",
        "              'n_a': hp.quniform('n_a', 8, 128, 8),\n",
        "              'gamma': hp.uniform('gamma', 0.1, 3),\n",
        "              'batch_momentum': hp.uniform('batch_momentum', 0.0, 1.0)\n",
        "              }"
      ],
      "execution_count": 58,
      "outputs": []
    },
    {
      "cell_type": "code",
      "metadata": {
        "colab": {
          "base_uri": "https://localhost:8080/"
        },
        "id": "N8ixoiZxT6EH",
        "outputId": "f3bb98fb-5a55-4f0d-e2b2-5281aea5e170"
      },
      "source": [
        "max_epochs = 20\n",
        "batch_size = 256\n",
        "clf4 = TabNetClassifier(n_a=16, n_d=16,\n",
        "                       cat_idxs=cat_idxs,\n",
        "                       cat_dims=cat_dims,\n",
        "                       cat_emb_dim=1,\n",
        "                       optimizer_fn=torch.optim.Adam,\n",
        "                       optimizer_params=dict(lr=1e-3),\n",
        "                       mask_type='entmax', # \"sparsemax\",\n",
        "                      )"
      ],
      "execution_count": 60,
      "outputs": [
        {
          "output_type": "stream",
          "text": [
            "Device used : cuda\n"
          ],
          "name": "stdout"
        }
      ]
    },
    {
      "cell_type": "code",
      "metadata": {
        "colab": {
          "base_uri": "https://localhost:8080/"
        },
        "id": "5tJgRezUT6sQ",
        "outputId": "8152c18f-91de-41f3-ed0f-bd351a130cc4"
      },
      "source": [
        "clf4.fit(\n",
        "    X_train=train_X, y_train=train_y,\n",
        "    eval_set=[(train_X, train_y), (valid_X, valid_y)],\n",
        "    eval_name=['train', 'val'],\n",
        "    eval_metric=[Gini],\n",
        "    max_epochs=max_epochs , patience=10,\n",
        "    batch_size=batch_size,\n",
        "    virtual_batch_size=64,\n",
        "    num_workers=0,\n",
        "    weights=1,\n",
        "    drop_last=False,\n",
        ")"
      ],
      "execution_count": 61,
      "outputs": [
        {
          "output_type": "stream",
          "text": [
            "epoch 0  | loss: 0.7509  | train_gini: 0.2222  | val_gini: 0.22173 |  0:00:43s\n",
            "epoch 1  | loss: 0.67597 | train_gini: 0.34604 | val_gini: 0.33273 |  0:01:27s\n",
            "epoch 2  | loss: 0.65602 | train_gini: 0.37057 | val_gini: 0.35808 |  0:02:11s\n",
            "epoch 3  | loss: 0.64641 | train_gini: 0.39515 | val_gini: 0.38456 |  0:02:54s\n",
            "epoch 4  | loss: 0.62927 | train_gini: 0.44752 | val_gini: 0.43634 |  0:03:37s\n",
            "epoch 5  | loss: 0.61848 | train_gini: 0.45849 | val_gini: 0.44572 |  0:04:21s\n",
            "epoch 6  | loss: 0.61387 | train_gini: 0.46872 | val_gini: 0.45102 |  0:05:04s\n",
            "epoch 7  | loss: 0.61031 | train_gini: 0.48041 | val_gini: 0.45983 |  0:05:47s\n",
            "epoch 8  | loss: 0.60473 | train_gini: 0.4946  | val_gini: 0.46723 |  0:06:31s\n",
            "epoch 9  | loss: 0.59816 | train_gini: 0.50748 | val_gini: 0.47585 |  0:07:14s\n",
            "epoch 10 | loss: 0.59354 | train_gini: 0.51762 | val_gini: 0.48207 |  0:07:57s\n",
            "epoch 11 | loss: 0.58837 | train_gini: 0.53314 | val_gini: 0.48739 |  0:08:41s\n",
            "epoch 12 | loss: 0.58234 | train_gini: 0.5436  | val_gini: 0.49142 |  0:09:24s\n",
            "epoch 13 | loss: 0.5774  | train_gini: 0.55449 | val_gini: 0.49155 |  0:10:07s\n",
            "epoch 14 | loss: 0.57375 | train_gini: 0.57404 | val_gini: 0.49353 |  0:10:50s\n",
            "epoch 15 | loss: 0.56672 | train_gini: 0.58547 | val_gini: 0.49389 |  0:11:33s\n",
            "epoch 16 | loss: 0.56037 | train_gini: 0.59888 | val_gini: 0.49072 |  0:12:16s\n",
            "epoch 17 | loss: 0.55488 | train_gini: 0.60985 | val_gini: 0.48514 |  0:12:59s\n",
            "epoch 18 | loss: 0.54756 | train_gini: 0.61961 | val_gini: 0.47877 |  0:13:42s\n",
            "epoch 19 | loss: 0.54326 | train_gini: 0.6075  | val_gini: 0.45767 |  0:14:26s\n",
            "Stop training because you reached max_epochs = 20 with best_epoch = 15 and best_val_gini = 0.49389\n",
            "Best weights from best epoch are automatically used!\n"
          ],
          "name": "stdout"
        }
      ]
    },
    {
      "cell_type": "code",
      "metadata": {
        "colab": {
          "base_uri": "https://localhost:8080/"
        },
        "id": "LWcCG6D_aTky",
        "outputId": "502f1f12-472f-4e9b-ff27-28fbd81d5a75"
      },
      "source": [
        "preds4 = clf4.predict_proba(test_X)[:,1]\n",
        "auc = roc_auc_score(y_test, preds4)\n",
        "auc"
      ],
      "execution_count": 64,
      "outputs": [
        {
          "output_type": "execute_result",
          "data": {
            "text/plain": [
              "0.6859910005506218"
            ]
          },
          "metadata": {
            "tags": []
          },
          "execution_count": 64
        }
      ]
    },
    {
      "cell_type": "code",
      "metadata": {
        "colab": {
          "base_uri": "https://localhost:8080/"
        },
        "id": "YjyFrbdaaUSo",
        "outputId": "c9e1b4ab-7c9e-40a4-b2ba-629ba71db097"
      },
      "source": [
        "n_a_ = [4, 6, 8, 10, 12, 16]\n",
        "lr_ = [0.01, 0.001, 0.0001, 0.00001]\n",
        "batch_size_ = [128, 256, 512]\n",
        "#gamma_ = [0.9, 1.1, 1.3, 1.5]\n",
        "max_epochs = 15\n",
        "\n",
        "max_auc = 0\n",
        "params = [0, 0, 0, 0] #n_a,  lamb, batch_size, gamma\n",
        "for n_a in n_a_:\n",
        "    for batch_size in batch_size_:\n",
        "      for lr in lr_:\n",
        "        model = TabNetClassifier(n_a=n_a, n_d=n_a,\n",
        "                       cat_idxs=cat_idxs,\n",
        "                       cat_dims=cat_dims,\n",
        "                       cat_emb_dim=1,\n",
        "                       optimizer_fn=torch.optim.Adam,\n",
        "                       optimizer_params=dict(lr=lr),\n",
        "                       scheduler_fn=torch.optim.lr_scheduler.OneCycleLR,\n",
        "                       scheduler_params={\"is_batch_level\":True,\n",
        "                                         \"max_lr\":2e-2,\n",
        "                                         \"steps_per_epoch\":int(X_train_le.shape[0] / batch_size)+1,\n",
        "                                         \"epochs\":max_epochs\n",
        "                                          },\n",
        "                       mask_type='entmax', # \"sparsemax\",\n",
        "                      )\n",
        "        model.fit(\n",
        "            X_train=train_X, y_train=train_y,\n",
        "            eval_set=[(train_X, train_y), (valid_X, valid_y)],\n",
        "            eval_name=['train', 'val'],\n",
        "            eval_metric=[Gini],\n",
        "            max_epochs=max_epochs , patience=10,\n",
        "            batch_size=batch_size,\n",
        "            virtual_batch_size=128,\n",
        "            num_workers=0,\n",
        "            weights=1,\n",
        "            drop_last=False,\n",
        "        )\n",
        "      test_preds = model.predict_proba(test_X)[:,1]\n",
        "      auc = roc_auc_score(y_test, test_preds)\n",
        "      if max_auc < auc:\n",
        "        max_auc = auc\n",
        "        params = [n_a, lamb, batch_size]\n",
        "      print(______________________________________________________________________________)\n",
        "\n",
        "\n",
        "print(max_auc, params)\n",
        "\n",
        "   "
      ],
      "execution_count": null,
      "outputs": [
        {
          "output_type": "stream",
          "text": [
            "Device used : cuda\n",
            "epoch 0  | loss: 0.68444 | train_gini: 0.33405 | val_gini: 0.33761 |  0:01:07s\n",
            "epoch 1  | loss: 0.64663 | train_gini: 0.39658 | val_gini: 0.40157 |  0:02:14s\n",
            "epoch 2  | loss: 0.61344 | train_gini: 0.50349 | val_gini: 0.49544 |  0:03:21s\n",
            "epoch 3  | loss: 0.59062 | train_gini: 0.52087 | val_gini: 0.50786 |  0:04:28s\n",
            "epoch 4  | loss: 0.58463 | train_gini: 0.52164 | val_gini: 0.50199 |  0:05:35s\n",
            "epoch 5  | loss: 0.58184 | train_gini: 0.4462  | val_gini: 0.43532 |  0:06:42s\n",
            "epoch 6  | loss: 0.59373 | train_gini: 0.51697 | val_gini: 0.50007 |  0:07:48s\n",
            "epoch 7  | loss: 0.57443 | train_gini: 0.54893 | val_gini: 0.50965 |  0:08:56s\n",
            "epoch 8  | loss: 0.56529 | train_gini: 0.53398 | val_gini: 0.49519 |  0:10:02s\n",
            "epoch 9  | loss: 0.55795 | train_gini: 0.49589 | val_gini: 0.45093 |  0:11:09s\n",
            "epoch 10 | loss: 0.55497 | train_gini: 0.54299 | val_gini: 0.46502 |  0:12:16s\n",
            "epoch 11 | loss: 0.54539 | train_gini: 0.54725 | val_gini: 0.48786 |  0:13:23s\n",
            "epoch 12 | loss: 0.5431  | train_gini: 0.57321 | val_gini: 0.46655 |  0:14:30s\n",
            "epoch 13 | loss: 0.53735 | train_gini: 0.57881 | val_gini: 0.48018 |  0:15:37s\n",
            "epoch 14 | loss: 0.53513 | train_gini: 0.60207 | val_gini: 0.48011 |  0:16:44s\n",
            "Stop training because you reached max_epochs = 15 with best_epoch = 7 and best_val_gini = 0.50965\n",
            "Best weights from best epoch are automatically used!\n",
            "Device used : cuda\n",
            "epoch 0  | loss: 0.68444 | train_gini: 0.33405 | val_gini: 0.33761 |  0:01:08s\n",
            "epoch 1  | loss: 0.64663 | train_gini: 0.39658 | val_gini: 0.40157 |  0:02:15s\n",
            "epoch 2  | loss: 0.61344 | train_gini: 0.50349 | val_gini: 0.49544 |  0:03:22s\n",
            "epoch 3  | loss: 0.59062 | train_gini: 0.52087 | val_gini: 0.50786 |  0:04:29s\n",
            "epoch 4  | loss: 0.58463 | train_gini: 0.52164 | val_gini: 0.50199 |  0:05:36s\n",
            "epoch 5  | loss: 0.58184 | train_gini: 0.4462  | val_gini: 0.43532 |  0:06:44s\n",
            "epoch 6  | loss: 0.59373 | train_gini: 0.51697 | val_gini: 0.50007 |  0:07:51s\n",
            "epoch 7  | loss: 0.57443 | train_gini: 0.54893 | val_gini: 0.50965 |  0:08:58s\n",
            "epoch 8  | loss: 0.56529 | train_gini: 0.53398 | val_gini: 0.49519 |  0:10:06s\n",
            "epoch 9  | loss: 0.55795 | train_gini: 0.49589 | val_gini: 0.45093 |  0:11:13s\n",
            "epoch 10 | loss: 0.55497 | train_gini: 0.54299 | val_gini: 0.46502 |  0:12:20s\n",
            "epoch 11 | loss: 0.54539 | train_gini: 0.54725 | val_gini: 0.48786 |  0:13:27s\n",
            "epoch 12 | loss: 0.5431  | train_gini: 0.57321 | val_gini: 0.46655 |  0:14:34s\n",
            "epoch 13 | loss: 0.53735 | train_gini: 0.57881 | val_gini: 0.48018 |  0:15:41s\n",
            "epoch 14 | loss: 0.53513 | train_gini: 0.60207 | val_gini: 0.48011 |  0:16:48s\n",
            "Stop training because you reached max_epochs = 15 with best_epoch = 7 and best_val_gini = 0.50965\n",
            "Best weights from best epoch are automatically used!\n",
            "Device used : cuda\n",
            "epoch 0  | loss: 0.68444 | train_gini: 0.33405 | val_gini: 0.33761 |  0:01:08s\n",
            "epoch 1  | loss: 0.64663 | train_gini: 0.39658 | val_gini: 0.40157 |  0:02:15s\n",
            "epoch 2  | loss: 0.61344 | train_gini: 0.50349 | val_gini: 0.49544 |  0:03:23s\n",
            "epoch 3  | loss: 0.59062 | train_gini: 0.52087 | val_gini: 0.50786 |  0:04:30s\n",
            "epoch 4  | loss: 0.58463 | train_gini: 0.52164 | val_gini: 0.50199 |  0:05:36s\n",
            "epoch 5  | loss: 0.58184 | train_gini: 0.4462  | val_gini: 0.43532 |  0:06:43s\n",
            "epoch 6  | loss: 0.59373 | train_gini: 0.51697 | val_gini: 0.50007 |  0:07:51s\n",
            "epoch 7  | loss: 0.57443 | train_gini: 0.54893 | val_gini: 0.50965 |  0:08:58s\n",
            "epoch 8  | loss: 0.56529 | train_gini: 0.53398 | val_gini: 0.49519 |  0:10:05s\n",
            "epoch 9  | loss: 0.55795 | train_gini: 0.49589 | val_gini: 0.45093 |  0:11:11s\n",
            "epoch 10 | loss: 0.55497 | train_gini: 0.54299 | val_gini: 0.46502 |  0:12:17s\n",
            "epoch 11 | loss: 0.54539 | train_gini: 0.54725 | val_gini: 0.48786 |  0:13:24s\n",
            "epoch 12 | loss: 0.5431  | train_gini: 0.57321 | val_gini: 0.46655 |  0:14:31s\n",
            "epoch 13 | loss: 0.53735 | train_gini: 0.57881 | val_gini: 0.48018 |  0:15:37s\n",
            "epoch 14 | loss: 0.53513 | train_gini: 0.60207 | val_gini: 0.48011 |  0:16:43s\n",
            "Stop training because you reached max_epochs = 15 with best_epoch = 7 and best_val_gini = 0.50965\n",
            "Best weights from best epoch are automatically used!\n",
            "Device used : cuda\n"
          ],
          "name": "stdout"
        }
      ]
    },
    {
      "cell_type": "code",
      "metadata": {
        "id": "MGsk4KiOaU7k"
      },
      "source": [
        "max_auc"
      ],
      "execution_count": null,
      "outputs": []
    },
    {
      "cell_type": "code",
      "metadata": {
        "id": "4rAUtANAaV14"
      },
      "source": [
        ""
      ],
      "execution_count": null,
      "outputs": []
    }
  ]
}
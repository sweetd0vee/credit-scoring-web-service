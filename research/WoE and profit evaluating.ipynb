{
  "nbformat": 4,
  "nbformat_minor": 0,
  "metadata": {
    "colab": {
      "name": "WoE",
      "provenance": [],
      "collapsed_sections": [],
      "toc_visible": true
    },
    "kernelspec": {
      "display_name": "Python 3",
      "name": "python3"
    }
  },
  "cells": [
    {
      "cell_type": "code",
      "metadata": {
        "colab": {
          "base_uri": "https://localhost:8080/"
        },
        "id": "hzYQs5UqITs5",
        "outputId": "91a34813-bba0-4025-8539-0fa55998b5c8"
      },
      "source": [
        "from google.colab import drive\n",
        "drive.mount('/content/drive')\n",
        "path = '/content/drive/My Drive/Colab Notebooks/home-credit-default-risk'"
      ],
      "execution_count": 1,
      "outputs": [
        {
          "output_type": "stream",
          "text": [
            "Drive already mounted at /content/drive; to attempt to forcibly remount, call drive.mount(\"/content/drive\", force_remount=True).\n"
          ],
          "name": "stdout"
        }
      ]
    },
    {
      "cell_type": "code",
      "metadata": {
        "id": "WoKxVV2NLF1c"
      },
      "source": [
        "import pandas as pd \n",
        "import numpy as np\n",
        "\n",
        "import warnings\n",
        "warnings.filterwarnings('ignore')"
      ],
      "execution_count": 2,
      "outputs": []
    },
    {
      "cell_type": "code",
      "metadata": {
        "id": "Ydli4tQLBRxg"
      },
      "source": [
        "train = pd.read_csv(path + '/train.csv').set_index('SK_ID_CURR')\n",
        "test = pd.read_csv(path + '/test.csv').set_index('SK_ID_CURR')"
      ],
      "execution_count": 3,
      "outputs": []
    },
    {
      "cell_type": "code",
      "metadata": {
        "id": "ADXSwn_kvfaJ"
      },
      "source": [
        "train.loc[:,['b_now_overdue_percent_Credit card', 'b_now_overdue_percent_Consumer credit', 'b_now_overdue_percent_Car loan',\n",
        "             'b_now_overdue_percent_all']] = train[['b_now_overdue_percent_Credit card', 'b_now_overdue_percent_Consumer credit', 'b_now_overdue_percent_Car loan',\n",
        "             'b_now_overdue_percent_all']].replace([np.inf], 0)\n",
        "test.loc[:,['b_now_overdue_percent_Credit card', 'b_now_overdue_percent_Consumer credit', 'b_now_overdue_percent_Car loan',\n",
        "             'b_now_overdue_percent_all']] = test[['b_now_overdue_percent_Credit card', 'b_now_overdue_percent_Consumer credit', 'b_now_overdue_percent_Car loan',\n",
        "             'b_now_overdue_percent_all']].replace([np.inf], 0)      "
      ],
      "execution_count": null,
      "outputs": []
    },
    {
      "cell_type": "code",
      "metadata": {
        "id": "EY5vqFkmPYn1"
      },
      "source": [
        "train_cash = train[train['NAME_CONTRACT_TYPE'] == 'Cash loans']\n",
        "y_train_cash = train_cash['TARGET']\n",
        "train_cash = train_cash.drop(columns=['TARGET', 'NAME_CONTRACT_TYPE'])\n",
        "test_cash = test[test['NAME_CONTRACT_TYPE'] == 'Cash loans']\n",
        "y_test_cash = test_cash['TARGET']\n",
        "test_cash = test_cash.drop(columns=['TARGET', 'NAME_CONTRACT_TYPE'])\n",
        "train_rev = train[train['NAME_CONTRACT_TYPE'] == 'Revolving loans']\n",
        "y_train_rev = train_rev['TARGET']\n",
        "train_rev = train_rev.drop(columns=['TARGET', 'NAME_CONTRACT_TYPE'])\n",
        "test_rev = test[test['NAME_CONTRACT_TYPE'] == 'Revolving loans']\n",
        "y_test_rev = test_rev['TARGET']\n",
        "test_rev = test_rev.drop(columns=['TARGET', 'NAME_CONTRACT_TYPE'])\n"
      ],
      "execution_count": null,
      "outputs": []
    },
    {
      "cell_type": "markdown",
      "metadata": {
        "id": "7M0cNHTepBEC"
      },
      "source": [
        "## Cash loans"
      ]
    },
    {
      "cell_type": "markdown",
      "metadata": {
        "id": "-xKz5pAUHJo5"
      },
      "source": [
        "### Предворительная обработка данных (выделение категориальных и интервальных переменных, разбиение интервальных переменных на бины, обработка пропусков)"
      ]
    },
    {
      "cell_type": "code",
      "metadata": {
        "id": "GnAiKBu1USnB"
      },
      "source": [
        "categorical = []\n",
        "for c in train_cash.columns:\n",
        "  if train_cash[c].dtype == 'object':\n",
        "    categorical.append(c)\n",
        "categorical += ['FLAG_MOBIL', 'FLAG_EMP_PHONE',\t'FLAG_WORK_PHONE',\t'FLAG_CONT_MOBILE',\n",
        "               'FLAG_PHONE', 'FLAG_EMAIL', 'REG_REGION_NOT_LIVE_REGION',\n",
        "               'REG_REGION_NOT_WORK_REGION',\t'LIVE_REGION_NOT_WORK_REGION',\t'REG_CITY_NOT_LIVE_CITY',\t'REG_CITY_NOT_WORK_CITY',\n",
        "               'LIVE_CITY_NOT_WORK_CITY', 'ORGANIZATION_TYPE', 'b_Microloan', 'b_overdue_all',\n",
        "               'b_overdue_Credit card', 'b_overdue_Consumer credit', 'b_overdue_Mortgage', 'b_overdue_Car loan', 'b_overdue_all_1',\n",
        "               'b_overdue_Credit card_1', 'b_overdue_Consumer credit_1', 'b_overdue_Mortgage_1', 'b_overdue_Car loan_1', 'b_overdue_all_3', \n",
        "               'b_overdue_Credit card_3', 'b_overdue_Consumer credit_3', 'b_overdue_Mortgage_3', 'b_overdue_Car loan_3', 'p_is_several_a_day',\n",
        "               'p_new_client_1', 'p_new_client_3', 'p_ins_ind']\n",
        "for i in range(2, 22):\n",
        "  categorical.append('FLAG_DOCUMENT_'+str(i))\n",
        "real = list(set(train_cash.columns) - set(categorical))"
      ],
      "execution_count": null,
      "outputs": []
    },
    {
      "cell_type": "code",
      "metadata": {
        "id": "0ITGJGAA0V9w"
      },
      "source": [
        "all_data = pd.concat([train_cash, test_cash])"
      ],
      "execution_count": null,
      "outputs": []
    },
    {
      "cell_type": "code",
      "metadata": {
        "id": "5niVYojzozET"
      },
      "source": [
        "for c in real:\n",
        "  all_data[c + '_bin'] = pd.qcut(all_data[c], 20, duplicates='drop').cat.add_categories(\"NAN\").fillna(\"NAN\")\n",
        "train_cash = all_data[:train_cash.shape[0]]\n",
        "test_cash = all_data[train_cash.shape[0]:]"
      ],
      "execution_count": null,
      "outputs": []
    },
    {
      "cell_type": "code",
      "metadata": {
        "id": "flVpJkcSK39k"
      },
      "source": [
        "from sklearn.model_selection import train_test_split\n",
        "train_cash, valid_cash, y_train_cash, y_valid_cash = train_test_split(train_cash, y_train_cash, test_size=0.2, random_state=42, stratify=(y_train_cash))\n",
        "train_cash, count_cash, y_train_cash, y_count_cash = train_test_split(train_cash, y_train_cash, test_size=0.2, random_state=42, stratify=(y_train_cash))"
      ],
      "execution_count": null,
      "outputs": []
    },
    {
      "cell_type": "code",
      "metadata": {
        "id": "cNxSvrt5jTHR"
      },
      "source": [
        "train_cash[categorical] = train_cash[categorical].fillna('NAN')\n",
        "valid_cash[categorical] = valid_cash[categorical].fillna('NAN')\n",
        "count_cash[categorical] = count_cash[categorical].fillna('NAN')\n",
        "test_cash[categorical] = test_cash[categorical].fillna('NAN')"
      ],
      "execution_count": null,
      "outputs": []
    },
    {
      "cell_type": "markdown",
      "metadata": {
        "id": "TClPhsHQHfKM"
      },
      "source": [
        "### Вычисление weight of evidence на отложенной выборке count"
      ]
    },
    {
      "cell_type": "code",
      "metadata": {
        "id": "YgjA00Kd5TGj"
      },
      "source": [
        "woe_train_cash = train_cash.copy()\n",
        "woe_valid_cash = valid_cash.copy()\n",
        "woe_count_cash = count_cash.copy()\n",
        "woe_test_cash = test_cash.copy()"
      ],
      "execution_count": null,
      "outputs": []
    },
    {
      "cell_type": "code",
      "metadata": {
        "id": "uHVelPRnObsn"
      },
      "source": [
        "def calculate_woe_iv(data, column, target):\n",
        "    lst = []\n",
        "    for i in range(data[column].nunique()):\n",
        "        val = list(data[column].unique())[i]\n",
        "        lst.append({\n",
        "            'Value': val,\n",
        "            'All': data[data[column] == val].count()[column],\n",
        "            'Good': data[(data[column] == val) & (target == 0)].count()[column],\n",
        "            'Bad': data[(data[column] == val) & (target == 1)].count()[column]\n",
        "        })\n",
        "\n",
        "    dset = pd.DataFrame(lst)\n",
        "    dset['Distr_Good'] = dset['Good'] / dset['Good'].sum()\n",
        "    dset['Distr_Bad'] = dset['Bad'] / dset['Bad'].sum()\n",
        "    dset['WoE'] = np.log(dset['Distr_Good'] / dset['Distr_Bad'])\n",
        "    dset = dset.replace({'WoE': {np.inf: 0, -np.inf: 0}})\n",
        "    dset['IV'] = (dset['Distr_Good'] - dset['Distr_Bad']) * dset['WoE']\n",
        "    iv = dset['IV'].sum()\n",
        "    \n",
        "    dset = dset.sort_values(by='WoE')\n",
        "    \n",
        "    return dset, iv"
      ],
      "execution_count": null,
      "outputs": []
    },
    {
      "cell_type": "code",
      "metadata": {
        "id": "wJ1xBkwHm6WZ"
      },
      "source": [
        "scorecard_cash = pd.DataFrame()"
      ],
      "execution_count": null,
      "outputs": []
    },
    {
      "cell_type": "code",
      "metadata": {
        "id": "WnyUERVkS5OV"
      },
      "source": [
        "res_cat = pd.DataFrame(index = categorical, columns = ['iv'])\n",
        "for c in categorical:\n",
        "  df, iv = calculate_woe_iv(count_cash, c, y_count_cash)\n",
        "  df['feature'] = c\n",
        "  for i in df.index:\n",
        "    woe_train_cash.loc[woe_train_cash[c] == df.loc[i, 'Value'], c] = df.loc[i, 'WoE']\n",
        "    woe_valid_cash.loc[woe_valid_cash[c] == df.loc[i, 'Value'], c] = df.loc[i, 'WoE']\n",
        "    woe_test_cash.loc[woe_test_cash[c] == df.loc[i, 'Value'], c] = df.loc[i, 'WoE']\n",
        "\n",
        "  res_cat.loc[c, 'iv'] = iv\n",
        "  scorecard_cash = scorecard_cash.append(df[['feature', 'Value', 'WoE']])\n",
        "    \n",
        "res_cat[res_cat['iv'] >= 0.02]"
      ],
      "execution_count": null,
      "outputs": []
    },
    {
      "cell_type": "code",
      "metadata": {
        "colab": {
          "base_uri": "https://localhost:8080/",
          "height": 419
        },
        "id": "J_bNXsDMnOZm",
        "outputId": "db60a0b1-380f-49aa-ca66-86c138278477"
      },
      "source": [
        "from sklearn.tree import DecisionTreeClassifier\n",
        "\n",
        "res_tree = pd.DataFrame(index = real, columns = ['iv'])\n",
        "\n",
        "for c in real:\n",
        "  d = pd.DataFrame(index = woe_count_cash.index, columns = ['woe'])\n",
        "  df, iv = calculate_woe_iv(count_cash, c + '_bin', y_count_cash)\n",
        "  df['feature'] = c\n",
        "  for i in df.index:\n",
        "    d.loc[woe_count_cash[c + '_bin'] == df.loc[i, 'Value'], 'woe'] = df.loc[i, 'WoE']\n",
        "\n",
        "  clf = DecisionTreeClassifier(random_state = 42, max_depth = 2)\n",
        "  clf.fit(d, y_count_cash)\n",
        "  d['leaf'] = clf.apply(d)\n",
        "  all_intervals = []\n",
        "  for i in d['leaf'].unique():\n",
        "    intervals = woe_count_cash[d['leaf'] == i][c+'_bin'].values.unique()\n",
        "    woe_count_cash.loc[:, c+'_bin'] = woe_count_cash.loc[:, c+'_bin'].replace(intervals, i)\n",
        "    woe_train_cash.loc[:, c+'_bin'] = woe_train_cash.loc[:, c+'_bin'].replace(intervals, i)\n",
        "    woe_valid_cash.loc[:, c+'_bin'] = woe_valid_cash.loc[:, c+'_bin'].replace(intervals, i)\n",
        "    woe_test_cash.loc[:, c+'_bin'] = woe_test_cash.loc[:, c+'_bin'].replace(intervals, i)\n",
        "    all_intervals.append(str(intervals).split('\\n')[0])\n",
        "\n",
        "  df, iv = calculate_woe_iv(woe_count_cash, c + '_bin', y_count_cash)\n",
        "  df['feature'] = c\n",
        "  for i in df.index:\n",
        "    woe_train_cash.loc[woe_train_cash[c + '_bin'] == df.loc[i, 'Value'], c] = df.loc[i, 'WoE']\n",
        "    woe_valid_cash.loc[woe_valid_cash[c + '_bin'] == df.loc[i, 'Value'], c] = df.loc[i, 'WoE']\n",
        "    woe_test_cash.loc[woe_test_cash[c + '_bin'] == df.loc[i, 'Value'], c] = df.loc[i, 'WoE']\n",
        "  df.loc[:, 'Value'] = df.loc[:, 'Value'].replace(d['leaf'].unique(), all_intervals)\n",
        "  res_tree.loc[c, 'iv'] = iv\n",
        "  scorecard_cash = scorecard_cash.append(df[['feature', 'Value', 'WoE']])\n",
        "\n",
        "res_tree[res_tree['iv'] >= 0.02]"
      ],
      "execution_count": null,
      "outputs": [
        {
          "output_type": "execute_result",
          "data": {
            "text/html": [
              "<div>\n",
              "<style scoped>\n",
              "    .dataframe tbody tr th:only-of-type {\n",
              "        vertical-align: middle;\n",
              "    }\n",
              "\n",
              "    .dataframe tbody tr th {\n",
              "        vertical-align: top;\n",
              "    }\n",
              "\n",
              "    .dataframe thead th {\n",
              "        text-align: right;\n",
              "    }\n",
              "</style>\n",
              "<table border=\"1\" class=\"dataframe\">\n",
              "  <thead>\n",
              "    <tr style=\"text-align: right;\">\n",
              "      <th></th>\n",
              "      <th>iv</th>\n",
              "    </tr>\n",
              "  </thead>\n",
              "  <tbody>\n",
              "    <tr>\n",
              "      <th>b_last_closed_Credit card</th>\n",
              "      <td>0.0233529</td>\n",
              "    </tr>\n",
              "    <tr>\n",
              "      <th>b_start_Consumer credit_avg</th>\n",
              "      <td>0.110112</td>\n",
              "    </tr>\n",
              "    <tr>\n",
              "      <th>p_Revolving loans_sum_app_avg</th>\n",
              "      <td>0.0218261</td>\n",
              "    </tr>\n",
              "    <tr>\n",
              "      <th>b_Credit card_sum_3</th>\n",
              "      <td>0.0413691</td>\n",
              "    </tr>\n",
              "    <tr>\n",
              "      <th>b_Credit card_avg</th>\n",
              "      <td>0.0302844</td>\n",
              "    </tr>\n",
              "    <tr>\n",
              "      <th>...</th>\n",
              "      <td>...</td>\n",
              "    </tr>\n",
              "    <tr>\n",
              "      <th>ENTRANCES_AVG</th>\n",
              "      <td>0.0269654</td>\n",
              "    </tr>\n",
              "    <tr>\n",
              "      <th>b_limit_min</th>\n",
              "      <td>0.0300389</td>\n",
              "    </tr>\n",
              "    <tr>\n",
              "      <th>b_Credit card_num_1</th>\n",
              "      <td>0.046701</td>\n",
              "    </tr>\n",
              "    <tr>\n",
              "      <th>b_active_all_dur_max</th>\n",
              "      <td>0.0509989</td>\n",
              "    </tr>\n",
              "    <tr>\n",
              "      <th>p_evening_percent</th>\n",
              "      <td>0.0201271</td>\n",
              "    </tr>\n",
              "  </tbody>\n",
              "</table>\n",
              "<p>169 rows × 1 columns</p>\n",
              "</div>"
            ],
            "text/plain": [
              "                                      iv\n",
              "b_last_closed_Credit card      0.0233529\n",
              "b_start_Consumer credit_avg     0.110112\n",
              "p_Revolving loans_sum_app_avg  0.0218261\n",
              "b_Credit card_sum_3            0.0413691\n",
              "b_Credit card_avg              0.0302844\n",
              "...                                  ...\n",
              "ENTRANCES_AVG                  0.0269654\n",
              "b_limit_min                    0.0300389\n",
              "b_Credit card_num_1             0.046701\n",
              "b_active_all_dur_max           0.0509989\n",
              "p_evening_percent              0.0201271\n",
              "\n",
              "[169 rows x 1 columns]"
            ]
          },
          "metadata": {
            "tags": []
          },
          "execution_count": 61
        }
      ]
    },
    {
      "cell_type": "code",
      "metadata": {
        "id": "N-AhGZ_ugCbR"
      },
      "source": [
        "iv_cash = pd.concat([res_cat, res_tree])"
      ],
      "execution_count": null,
      "outputs": []
    },
    {
      "cell_type": "code",
      "metadata": {
        "id": "oLN4lvUBYd_m"
      },
      "source": [
        "scorecard_cash.to_csv('scorecard_cash.csv', index=True)"
      ],
      "execution_count": null,
      "outputs": []
    },
    {
      "cell_type": "markdown",
      "metadata": {
        "id": "v7SYppZZH5KT"
      },
      "source": [
        "### Отбор признаков (по information value и корреляциям Спирмана)"
      ]
    },
    {
      "cell_type": "code",
      "metadata": {
        "id": "iQybZh8AL_2g"
      },
      "source": [
        "good_f = iv_cash[iv_cash['iv'] >= 0.02].index"
      ],
      "execution_count": null,
      "outputs": []
    },
    {
      "cell_type": "code",
      "metadata": {
        "id": "gKIaqLfmsgeB"
      },
      "source": [
        "woe_train_cash1 = woe_train_cash[good_f]\n",
        "woe_valid_cash1 = woe_valid_cash[good_f]\n",
        "woe_test_cash1 = woe_test_cash[good_f]"
      ],
      "execution_count": null,
      "outputs": []
    },
    {
      "cell_type": "code",
      "metadata": {
        "colab": {
          "base_uri": "https://localhost:8080/",
          "height": 456
        },
        "id": "ZULwFL_PXEKk",
        "outputId": "fbb8da5b-8d07-4585-9813-8866ea032792"
      },
      "source": [
        "correlations_woe = woe_train_cash1.corr('spearman')\n",
        "correlations_woe"
      ],
      "execution_count": null,
      "outputs": [
        {
          "output_type": "execute_result",
          "data": {
            "text/html": [
              "<div>\n",
              "<style scoped>\n",
              "    .dataframe tbody tr th:only-of-type {\n",
              "        vertical-align: middle;\n",
              "    }\n",
              "\n",
              "    .dataframe tbody tr th {\n",
              "        vertical-align: top;\n",
              "    }\n",
              "\n",
              "    .dataframe thead th {\n",
              "        text-align: right;\n",
              "    }\n",
              "</style>\n",
              "<table border=\"1\" class=\"dataframe\">\n",
              "  <thead>\n",
              "    <tr style=\"text-align: right;\">\n",
              "      <th></th>\n",
              "      <th>FLAG_EMP_PHONE</th>\n",
              "      <th>REG_CITY_NOT_LIVE_CITY</th>\n",
              "      <th>REG_CITY_NOT_WORK_CITY</th>\n",
              "      <th>FLAG_DOCUMENT_6</th>\n",
              "      <th>b_last_closed_Credit card</th>\n",
              "      <th>b_start_Consumer credit_avg</th>\n",
              "      <th>p_Revolving loans_sum_app_avg</th>\n",
              "      <th>b_Credit card_sum_3</th>\n",
              "      <th>b_Credit card_avg</th>\n",
              "      <th>b_active_Consumer credit_dur_max</th>\n",
              "      <th>p_all_down_payment_avg_</th>\n",
              "      <th>b_Credit card_num</th>\n",
              "      <th>b_Car loan_sum</th>\n",
              "      <th>p_Consumer loans_down_payment_avg_</th>\n",
              "      <th>b_dur_avg_Consumer credit</th>\n",
              "      <th>FLOORSMAX_MEDI</th>\n",
              "      <th>b_late_num_all</th>\n",
              "      <th>b_early_num_all</th>\n",
              "      <th>p_prod_group_Cash Street_percent</th>\n",
              "      <th>p_sum</th>\n",
              "      <th>p_Consumer loans_sum_avg_</th>\n",
              "      <th>EXT_SOURCE_1</th>\n",
              "      <th>AMT_ANNUITY</th>\n",
              "      <th>b_Consumer credit_avg</th>\n",
              "      <th>b_active_Credit card_dur_avg</th>\n",
              "      <th>AMT_REQ_CREDIT_BUREAU_QRT</th>\n",
              "      <th>b_closed_days_avg_all</th>\n",
              "      <th>b_Consumer credit_sum_3</th>\n",
              "      <th>b_start_Credit card_avg</th>\n",
              "      <th>APARTMENTS_MEDI</th>\n",
              "      <th>b_Consumer credit_avg_1</th>\n",
              "      <th>b_Mortgage_avg</th>\n",
              "      <th>b_Car loan_avg</th>\n",
              "      <th>LIVINGAREA_MEDI</th>\n",
              "      <th>b_Consumer credit_num_1</th>\n",
              "      <th>YEARS_BUILD_AVG</th>\n",
              "      <th>b_debt_sum</th>\n",
              "      <th>b_now_overdue_percent_all</th>\n",
              "      <th>REGION_RATING_CLIENT_W_CITY</th>\n",
              "      <th>b_good_percent_avg</th>\n",
              "      <th>...</th>\n",
              "      <th>BASEMENTAREA_MEDI</th>\n",
              "      <th>p_cnt_avg</th>\n",
              "      <th>b_all_sum_3</th>\n",
              "      <th>APARTMENTS_MODE</th>\n",
              "      <th>p_Revolving loans_num</th>\n",
              "      <th>YEARS_BUILD_MODE</th>\n",
              "      <th>p_cnt_max</th>\n",
              "      <th>b_long_percent_avg</th>\n",
              "      <th>p_yield_low_normal</th>\n",
              "      <th>p_Consumer loans_sum_app_avg_3</th>\n",
              "      <th>b_closed_Credit card_num</th>\n",
              "      <th>b_last_closed_Car loan</th>\n",
              "      <th>b_all_num_1</th>\n",
              "      <th>b_all_avg</th>\n",
              "      <th>b_last_closed_all</th>\n",
              "      <th>DAYS_BIRTH</th>\n",
              "      <th>b_Mortgage_num</th>\n",
              "      <th>YEARS_BEGINEXPLUATATION_AVG</th>\n",
              "      <th>b_Credit card_mean</th>\n",
              "      <th>AMT_REQ_CREDIT_BUREAU_MON</th>\n",
              "      <th>NONLIVINGAREA_AVG</th>\n",
              "      <th>b_active_Credit card_num</th>\n",
              "      <th>b_debt_num</th>\n",
              "      <th>b_all_sum_1</th>\n",
              "      <th>AMT_GOODS_PRICE</th>\n",
              "      <th>AMT_CREDIT</th>\n",
              "      <th>p_Consumer loans_high_percent</th>\n",
              "      <th>b_debt_avg_Credit card</th>\n",
              "      <th>NONLIVINGAREA_MODE</th>\n",
              "      <th>ENTRANCES_MODE</th>\n",
              "      <th>LIVINGAREA_MODE</th>\n",
              "      <th>b_Credit card_num_3</th>\n",
              "      <th>p_all_num_3</th>\n",
              "      <th>b_Mortgage_mean</th>\n",
              "      <th>b_all_num</th>\n",
              "      <th>ENTRANCES_AVG</th>\n",
              "      <th>b_limit_min</th>\n",
              "      <th>b_Credit card_num_1</th>\n",
              "      <th>b_active_all_dur_max</th>\n",
              "      <th>p_evening_percent</th>\n",
              "    </tr>\n",
              "  </thead>\n",
              "  <tbody>\n",
              "    <tr>\n",
              "      <th>FLAG_EMP_PHONE</th>\n",
              "      <td>1.000000</td>\n",
              "      <td>0.093636</td>\n",
              "      <td>0.261971</td>\n",
              "      <td>0.615325</td>\n",
              "      <td>0.031271</td>\n",
              "      <td>0.034352</td>\n",
              "      <td>0.039073</td>\n",
              "      <td>0.030811</td>\n",
              "      <td>0.005735</td>\n",
              "      <td>0.018287</td>\n",
              "      <td>-0.045206</td>\n",
              "      <td>0.041183</td>\n",
              "      <td>-0.040700</td>\n",
              "      <td>-0.037482</td>\n",
              "      <td>0.037297</td>\n",
              "      <td>-0.012412</td>\n",
              "      <td>-0.000163</td>\n",
              "      <td>-0.001424</td>\n",
              "      <td>0.013696</td>\n",
              "      <td>0.034810</td>\n",
              "      <td>-0.005741</td>\n",
              "      <td>0.027197</td>\n",
              "      <td>0.047414</td>\n",
              "      <td>0.026660</td>\n",
              "      <td>0.019141</td>\n",
              "      <td>-0.004369</td>\n",
              "      <td>0.025020</td>\n",
              "      <td>0.026209</td>\n",
              "      <td>0.005001</td>\n",
              "      <td>-0.009207</td>\n",
              "      <td>-0.006643</td>\n",
              "      <td>-0.044051</td>\n",
              "      <td>-0.040614</td>\n",
              "      <td>-0.012928</td>\n",
              "      <td>-0.011577</td>\n",
              "      <td>-0.007084</td>\n",
              "      <td>0.041115</td>\n",
              "      <td>-0.009529</td>\n",
              "      <td>-0.013559</td>\n",
              "      <td>0.005133</td>\n",
              "      <td>...</td>\n",
              "      <td>-0.008933</td>\n",
              "      <td>-0.070840</td>\n",
              "      <td>0.004222</td>\n",
              "      <td>-0.008932</td>\n",
              "      <td>0.029683</td>\n",
              "      <td>-0.007753</td>\n",
              "      <td>-0.011416</td>\n",
              "      <td>-0.008799</td>\n",
              "      <td>0.067884</td>\n",
              "      <td>0.013014</td>\n",
              "      <td>-0.015048</td>\n",
              "      <td>0.031271</td>\n",
              "      <td>0.004234</td>\n",
              "      <td>-0.046116</td>\n",
              "      <td>0.031271</td>\n",
              "      <td>0.562456</td>\n",
              "      <td>-0.012799</td>\n",
              "      <td>-0.009122</td>\n",
              "      <td>0.025575</td>\n",
              "      <td>-0.018059</td>\n",
              "      <td>-0.011263</td>\n",
              "      <td>0.037677</td>\n",
              "      <td>0.023976</td>\n",
              "      <td>0.020066</td>\n",
              "      <td>-0.003360</td>\n",
              "      <td>0.003162</td>\n",
              "      <td>-0.010999</td>\n",
              "      <td>0.035449</td>\n",
              "      <td>-0.010890</td>\n",
              "      <td>-0.005861</td>\n",
              "      <td>-0.012039</td>\n",
              "      <td>0.037917</td>\n",
              "      <td>-0.031626</td>\n",
              "      <td>-0.044032</td>\n",
              "      <td>-0.012912</td>\n",
              "      <td>-0.006853</td>\n",
              "      <td>0.010915</td>\n",
              "      <td>0.003540</td>\n",
              "      <td>0.044890</td>\n",
              "      <td>-0.101452</td>\n",
              "    </tr>\n",
              "    <tr>\n",
              "      <th>REG_CITY_NOT_LIVE_CITY</th>\n",
              "      <td>0.093636</td>\n",
              "      <td>1.000000</td>\n",
              "      <td>0.437358</td>\n",
              "      <td>0.059096</td>\n",
              "      <td>0.015454</td>\n",
              "      <td>0.083277</td>\n",
              "      <td>0.031103</td>\n",
              "      <td>0.028529</td>\n",
              "      <td>0.021427</td>\n",
              "      <td>0.007815</td>\n",
              "      <td>0.006752</td>\n",
              "      <td>0.011523</td>\n",
              "      <td>0.026433</td>\n",
              "      <td>0.009316</td>\n",
              "      <td>0.064248</td>\n",
              "      <td>0.159357</td>\n",
              "      <td>0.043951</td>\n",
              "      <td>0.046592</td>\n",
              "      <td>-0.008791</td>\n",
              "      <td>0.037691</td>\n",
              "      <td>-0.001279</td>\n",
              "      <td>0.068178</td>\n",
              "      <td>0.011153</td>\n",
              "      <td>0.036826</td>\n",
              "      <td>0.026363</td>\n",
              "      <td>0.032491</td>\n",
              "      <td>0.079888</td>\n",
              "      <td>0.011117</td>\n",
              "      <td>0.054021</td>\n",
              "      <td>0.152494</td>\n",
              "      <td>0.020291</td>\n",
              "      <td>0.024116</td>\n",
              "      <td>0.026579</td>\n",
              "      <td>0.152266</td>\n",
              "      <td>0.023960</td>\n",
              "      <td>0.108837</td>\n",
              "      <td>0.015544</td>\n",
              "      <td>0.028234</td>\n",
              "      <td>0.022552</td>\n",
              "      <td>0.027331</td>\n",
              "      <td>...</td>\n",
              "      <td>0.129704</td>\n",
              "      <td>-0.020706</td>\n",
              "      <td>0.015667</td>\n",
              "      <td>0.149333</td>\n",
              "      <td>0.018090</td>\n",
              "      <td>0.110345</td>\n",
              "      <td>-0.007938</td>\n",
              "      <td>0.029578</td>\n",
              "      <td>0.039317</td>\n",
              "      <td>0.022327</td>\n",
              "      <td>0.030418</td>\n",
              "      <td>0.015454</td>\n",
              "      <td>0.026708</td>\n",
              "      <td>0.016653</td>\n",
              "      <td>0.015454</td>\n",
              "      <td>0.170125</td>\n",
              "      <td>0.029678</td>\n",
              "      <td>0.141021</td>\n",
              "      <td>0.023117</td>\n",
              "      <td>0.032373</td>\n",
              "      <td>0.141636</td>\n",
              "      <td>0.016966</td>\n",
              "      <td>0.012088</td>\n",
              "      <td>0.028191</td>\n",
              "      <td>0.037093</td>\n",
              "      <td>0.026740</td>\n",
              "      <td>0.027998</td>\n",
              "      <td>0.030395</td>\n",
              "      <td>0.141744</td>\n",
              "      <td>0.149586</td>\n",
              "      <td>0.148418</td>\n",
              "      <td>0.027319</td>\n",
              "      <td>-0.001231</td>\n",
              "      <td>0.024073</td>\n",
              "      <td>0.026699</td>\n",
              "      <td>0.149427</td>\n",
              "      <td>0.037134</td>\n",
              "      <td>0.030844</td>\n",
              "      <td>0.022072</td>\n",
              "      <td>-0.019155</td>\n",
              "    </tr>\n",
              "    <tr>\n",
              "      <th>REG_CITY_NOT_WORK_CITY</th>\n",
              "      <td>0.261971</td>\n",
              "      <td>0.437358</td>\n",
              "      <td>1.000000</td>\n",
              "      <td>0.165817</td>\n",
              "      <td>0.011782</td>\n",
              "      <td>0.067379</td>\n",
              "      <td>0.030672</td>\n",
              "      <td>0.013361</td>\n",
              "      <td>0.007173</td>\n",
              "      <td>0.018725</td>\n",
              "      <td>-0.007222</td>\n",
              "      <td>-0.004133</td>\n",
              "      <td>0.013210</td>\n",
              "      <td>-0.003939</td>\n",
              "      <td>0.051817</td>\n",
              "      <td>0.268478</td>\n",
              "      <td>0.040384</td>\n",
              "      <td>0.039747</td>\n",
              "      <td>-0.001495</td>\n",
              "      <td>0.046241</td>\n",
              "      <td>0.011569</td>\n",
              "      <td>0.085237</td>\n",
              "      <td>0.029617</td>\n",
              "      <td>0.035358</td>\n",
              "      <td>0.018845</td>\n",
              "      <td>0.025844</td>\n",
              "      <td>0.069045</td>\n",
              "      <td>0.014764</td>\n",
              "      <td>0.050550</td>\n",
              "      <td>0.256354</td>\n",
              "      <td>0.011254</td>\n",
              "      <td>0.022188</td>\n",
              "      <td>0.013078</td>\n",
              "      <td>0.259986</td>\n",
              "      <td>0.015864</td>\n",
              "      <td>0.186790</td>\n",
              "      <td>0.025294</td>\n",
              "      <td>0.023961</td>\n",
              "      <td>0.005601</td>\n",
              "      <td>0.024540</td>\n",
              "      <td>...</td>\n",
              "      <td>0.218223</td>\n",
              "      <td>-0.023696</td>\n",
              "      <td>0.016492</td>\n",
              "      <td>0.251185</td>\n",
              "      <td>0.022678</td>\n",
              "      <td>0.188748</td>\n",
              "      <td>0.001293</td>\n",
              "      <td>0.023766</td>\n",
              "      <td>0.052918</td>\n",
              "      <td>0.032821</td>\n",
              "      <td>0.029703</td>\n",
              "      <td>0.011782</td>\n",
              "      <td>0.019066</td>\n",
              "      <td>0.009631</td>\n",
              "      <td>0.011782</td>\n",
              "      <td>0.225919</td>\n",
              "      <td>0.023740</td>\n",
              "      <td>0.234396</td>\n",
              "      <td>0.009594</td>\n",
              "      <td>0.029162</td>\n",
              "      <td>0.239724</td>\n",
              "      <td>0.007533</td>\n",
              "      <td>0.015698</td>\n",
              "      <td>0.020082</td>\n",
              "      <td>0.038747</td>\n",
              "      <td>0.027016</td>\n",
              "      <td>0.025443</td>\n",
              "      <td>0.023763</td>\n",
              "      <td>0.241043</td>\n",
              "      <td>0.248358</td>\n",
              "      <td>0.251474</td>\n",
              "      <td>0.014915</td>\n",
              "      <td>-0.007143</td>\n",
              "      <td>0.022141</td>\n",
              "      <td>0.019604</td>\n",
              "      <td>0.249164</td>\n",
              "      <td>0.026239</td>\n",
              "      <td>0.023777</td>\n",
              "      <td>0.027834</td>\n",
              "      <td>-0.007429</td>\n",
              "    </tr>\n",
              "    <tr>\n",
              "      <th>FLAG_DOCUMENT_6</th>\n",
              "      <td>0.615325</td>\n",
              "      <td>0.059096</td>\n",
              "      <td>0.165817</td>\n",
              "      <td>1.000000</td>\n",
              "      <td>0.022153</td>\n",
              "      <td>0.016839</td>\n",
              "      <td>0.052297</td>\n",
              "      <td>0.024176</td>\n",
              "      <td>0.009595</td>\n",
              "      <td>0.012729</td>\n",
              "      <td>-0.017892</td>\n",
              "      <td>0.030787</td>\n",
              "      <td>-0.025387</td>\n",
              "      <td>-0.013768</td>\n",
              "      <td>0.023186</td>\n",
              "      <td>-0.004970</td>\n",
              "      <td>-0.003575</td>\n",
              "      <td>-0.001300</td>\n",
              "      <td>0.034054</td>\n",
              "      <td>0.027282</td>\n",
              "      <td>0.011124</td>\n",
              "      <td>0.017345</td>\n",
              "      <td>0.033480</td>\n",
              "      <td>0.018429</td>\n",
              "      <td>0.017829</td>\n",
              "      <td>-0.000053</td>\n",
              "      <td>0.011488</td>\n",
              "      <td>0.019305</td>\n",
              "      <td>0.003597</td>\n",
              "      <td>-0.002705</td>\n",
              "      <td>-0.003898</td>\n",
              "      <td>-0.027185</td>\n",
              "      <td>-0.025136</td>\n",
              "      <td>-0.004044</td>\n",
              "      <td>-0.006667</td>\n",
              "      <td>0.002309</td>\n",
              "      <td>0.028436</td>\n",
              "      <td>-0.004646</td>\n",
              "      <td>-0.022570</td>\n",
              "      <td>0.010745</td>\n",
              "      <td>...</td>\n",
              "      <td>0.001787</td>\n",
              "      <td>-0.035638</td>\n",
              "      <td>0.004097</td>\n",
              "      <td>-0.002402</td>\n",
              "      <td>0.047939</td>\n",
              "      <td>0.002487</td>\n",
              "      <td>0.011863</td>\n",
              "      <td>-0.003188</td>\n",
              "      <td>0.052818</td>\n",
              "      <td>0.028292</td>\n",
              "      <td>-0.006295</td>\n",
              "      <td>0.022153</td>\n",
              "      <td>0.001900</td>\n",
              "      <td>-0.028065</td>\n",
              "      <td>0.022153</td>\n",
              "      <td>0.378175</td>\n",
              "      <td>-0.005545</td>\n",
              "      <td>-0.003157</td>\n",
              "      <td>0.020922</td>\n",
              "      <td>-0.010645</td>\n",
              "      <td>-0.003013</td>\n",
              "      <td>0.028803</td>\n",
              "      <td>0.020195</td>\n",
              "      <td>0.014119</td>\n",
              "      <td>-0.019643</td>\n",
              "      <td>-0.009582</td>\n",
              "      <td>0.014011</td>\n",
              "      <td>0.027563</td>\n",
              "      <td>-0.002307</td>\n",
              "      <td>-0.001327</td>\n",
              "      <td>-0.004668</td>\n",
              "      <td>0.028364</td>\n",
              "      <td>0.002881</td>\n",
              "      <td>-0.027198</td>\n",
              "      <td>-0.009391</td>\n",
              "      <td>-0.001043</td>\n",
              "      <td>0.008800</td>\n",
              "      <td>0.005904</td>\n",
              "      <td>0.030365</td>\n",
              "      <td>-0.060441</td>\n",
              "    </tr>\n",
              "    <tr>\n",
              "      <th>b_last_closed_Credit card</th>\n",
              "      <td>0.031271</td>\n",
              "      <td>0.015454</td>\n",
              "      <td>0.011782</td>\n",
              "      <td>0.022153</td>\n",
              "      <td>1.000000</td>\n",
              "      <td>0.161759</td>\n",
              "      <td>0.012332</td>\n",
              "      <td>0.359745</td>\n",
              "      <td>0.293829</td>\n",
              "      <td>0.253581</td>\n",
              "      <td>0.017371</td>\n",
              "      <td>0.303048</td>\n",
              "      <td>0.122240</td>\n",
              "      <td>0.019091</td>\n",
              "      <td>0.125461</td>\n",
              "      <td>-0.007348</td>\n",
              "      <td>0.096209</td>\n",
              "      <td>0.047081</td>\n",
              "      <td>0.034635</td>\n",
              "      <td>0.018150</td>\n",
              "      <td>0.017020</td>\n",
              "      <td>-0.003633</td>\n",
              "      <td>0.014377</td>\n",
              "      <td>0.100212</td>\n",
              "      <td>0.249323</td>\n",
              "      <td>0.150814</td>\n",
              "      <td>0.154331</td>\n",
              "      <td>0.163117</td>\n",
              "      <td>0.195144</td>\n",
              "      <td>-0.006973</td>\n",
              "      <td>0.328423</td>\n",
              "      <td>0.110138</td>\n",
              "      <td>0.122483</td>\n",
              "      <td>-0.008325</td>\n",
              "      <td>0.230053</td>\n",
              "      <td>-0.008679</td>\n",
              "      <td>0.519572</td>\n",
              "      <td>0.166861</td>\n",
              "      <td>0.022869</td>\n",
              "      <td>0.119757</td>\n",
              "      <td>...</td>\n",
              "      <td>-0.007065</td>\n",
              "      <td>0.043892</td>\n",
              "      <td>0.266091</td>\n",
              "      <td>-0.007841</td>\n",
              "      <td>0.021065</td>\n",
              "      <td>-0.008488</td>\n",
              "      <td>0.020727</td>\n",
              "      <td>0.154331</td>\n",
              "      <td>0.021204</td>\n",
              "      <td>0.018061</td>\n",
              "      <td>0.123328</td>\n",
              "      <td>1.000000</td>\n",
              "      <td>0.282362</td>\n",
              "      <td>0.073706</td>\n",
              "      <td>1.000000</td>\n",
              "      <td>0.031777</td>\n",
              "      <td>0.154864</td>\n",
              "      <td>-0.007100</td>\n",
              "      <td>0.326528</td>\n",
              "      <td>0.126032</td>\n",
              "      <td>-0.007861</td>\n",
              "      <td>0.273050</td>\n",
              "      <td>0.351806</td>\n",
              "      <td>0.387358</td>\n",
              "      <td>0.010056</td>\n",
              "      <td>0.011521</td>\n",
              "      <td>0.015810</td>\n",
              "      <td>0.335871</td>\n",
              "      <td>-0.008474</td>\n",
              "      <td>-0.006712</td>\n",
              "      <td>-0.006903</td>\n",
              "      <td>0.256968</td>\n",
              "      <td>0.026410</td>\n",
              "      <td>0.110113</td>\n",
              "      <td>-0.005039</td>\n",
              "      <td>-0.007073</td>\n",
              "      <td>0.196990</td>\n",
              "      <td>0.181756</td>\n",
              "      <td>0.349367</td>\n",
              "      <td>0.000800</td>\n",
              "    </tr>\n",
              "    <tr>\n",
              "      <th>...</th>\n",
              "      <td>...</td>\n",
              "      <td>...</td>\n",
              "      <td>...</td>\n",
              "      <td>...</td>\n",
              "      <td>...</td>\n",
              "      <td>...</td>\n",
              "      <td>...</td>\n",
              "      <td>...</td>\n",
              "      <td>...</td>\n",
              "      <td>...</td>\n",
              "      <td>...</td>\n",
              "      <td>...</td>\n",
              "      <td>...</td>\n",
              "      <td>...</td>\n",
              "      <td>...</td>\n",
              "      <td>...</td>\n",
              "      <td>...</td>\n",
              "      <td>...</td>\n",
              "      <td>...</td>\n",
              "      <td>...</td>\n",
              "      <td>...</td>\n",
              "      <td>...</td>\n",
              "      <td>...</td>\n",
              "      <td>...</td>\n",
              "      <td>...</td>\n",
              "      <td>...</td>\n",
              "      <td>...</td>\n",
              "      <td>...</td>\n",
              "      <td>...</td>\n",
              "      <td>...</td>\n",
              "      <td>...</td>\n",
              "      <td>...</td>\n",
              "      <td>...</td>\n",
              "      <td>...</td>\n",
              "      <td>...</td>\n",
              "      <td>...</td>\n",
              "      <td>...</td>\n",
              "      <td>...</td>\n",
              "      <td>...</td>\n",
              "      <td>...</td>\n",
              "      <td>...</td>\n",
              "      <td>...</td>\n",
              "      <td>...</td>\n",
              "      <td>...</td>\n",
              "      <td>...</td>\n",
              "      <td>...</td>\n",
              "      <td>...</td>\n",
              "      <td>...</td>\n",
              "      <td>...</td>\n",
              "      <td>...</td>\n",
              "      <td>...</td>\n",
              "      <td>...</td>\n",
              "      <td>...</td>\n",
              "      <td>...</td>\n",
              "      <td>...</td>\n",
              "      <td>...</td>\n",
              "      <td>...</td>\n",
              "      <td>...</td>\n",
              "      <td>...</td>\n",
              "      <td>...</td>\n",
              "      <td>...</td>\n",
              "      <td>...</td>\n",
              "      <td>...</td>\n",
              "      <td>...</td>\n",
              "      <td>...</td>\n",
              "      <td>...</td>\n",
              "      <td>...</td>\n",
              "      <td>...</td>\n",
              "      <td>...</td>\n",
              "      <td>...</td>\n",
              "      <td>...</td>\n",
              "      <td>...</td>\n",
              "      <td>...</td>\n",
              "      <td>...</td>\n",
              "      <td>...</td>\n",
              "      <td>...</td>\n",
              "      <td>...</td>\n",
              "      <td>...</td>\n",
              "      <td>...</td>\n",
              "      <td>...</td>\n",
              "      <td>...</td>\n",
              "    </tr>\n",
              "    <tr>\n",
              "      <th>ENTRANCES_AVG</th>\n",
              "      <td>-0.006853</td>\n",
              "      <td>0.149427</td>\n",
              "      <td>0.249164</td>\n",
              "      <td>-0.001043</td>\n",
              "      <td>-0.007073</td>\n",
              "      <td>0.036799</td>\n",
              "      <td>0.027995</td>\n",
              "      <td>-0.021748</td>\n",
              "      <td>-0.007900</td>\n",
              "      <td>0.026421</td>\n",
              "      <td>0.018177</td>\n",
              "      <td>-0.040571</td>\n",
              "      <td>0.036937</td>\n",
              "      <td>0.019978</td>\n",
              "      <td>0.017580</td>\n",
              "      <td>0.890381</td>\n",
              "      <td>0.032954</td>\n",
              "      <td>0.038207</td>\n",
              "      <td>0.002581</td>\n",
              "      <td>0.048499</td>\n",
              "      <td>0.036528</td>\n",
              "      <td>0.058774</td>\n",
              "      <td>0.017201</td>\n",
              "      <td>0.015962</td>\n",
              "      <td>-0.004065</td>\n",
              "      <td>0.026592</td>\n",
              "      <td>0.046635</td>\n",
              "      <td>-0.001590</td>\n",
              "      <td>0.041662</td>\n",
              "      <td>0.888118</td>\n",
              "      <td>0.019947</td>\n",
              "      <td>0.043900</td>\n",
              "      <td>0.037208</td>\n",
              "      <td>0.842222</td>\n",
              "      <td>0.019031</td>\n",
              "      <td>0.638952</td>\n",
              "      <td>0.008991</td>\n",
              "      <td>0.024492</td>\n",
              "      <td>0.078965</td>\n",
              "      <td>0.013628</td>\n",
              "      <td>...</td>\n",
              "      <td>0.754693</td>\n",
              "      <td>0.013490</td>\n",
              "      <td>0.017059</td>\n",
              "      <td>0.877752</td>\n",
              "      <td>0.021009</td>\n",
              "      <td>0.649033</td>\n",
              "      <td>0.026030</td>\n",
              "      <td>0.023626</td>\n",
              "      <td>0.039121</td>\n",
              "      <td>0.051589</td>\n",
              "      <td>0.039047</td>\n",
              "      <td>-0.007073</td>\n",
              "      <td>0.006914</td>\n",
              "      <td>0.038592</td>\n",
              "      <td>-0.007073</td>\n",
              "      <td>0.015770</td>\n",
              "      <td>0.027031</td>\n",
              "      <td>0.831597</td>\n",
              "      <td>-0.019058</td>\n",
              "      <td>0.044164</td>\n",
              "      <td>0.828311</td>\n",
              "      <td>-0.022746</td>\n",
              "      <td>0.014697</td>\n",
              "      <td>0.002393</td>\n",
              "      <td>0.038589</td>\n",
              "      <td>0.028633</td>\n",
              "      <td>0.046074</td>\n",
              "      <td>-0.002358</td>\n",
              "      <td>0.835034</td>\n",
              "      <td>0.977234</td>\n",
              "      <td>0.833153</td>\n",
              "      <td>-0.017579</td>\n",
              "      <td>0.011809</td>\n",
              "      <td>0.043907</td>\n",
              "      <td>0.025084</td>\n",
              "      <td>1.000000</td>\n",
              "      <td>0.017395</td>\n",
              "      <td>0.015720</td>\n",
              "      <td>0.007410</td>\n",
              "      <td>0.080386</td>\n",
              "    </tr>\n",
              "    <tr>\n",
              "      <th>b_limit_min</th>\n",
              "      <td>0.010915</td>\n",
              "      <td>0.037134</td>\n",
              "      <td>0.026239</td>\n",
              "      <td>0.008800</td>\n",
              "      <td>0.196990</td>\n",
              "      <td>0.359155</td>\n",
              "      <td>0.026049</td>\n",
              "      <td>0.570203</td>\n",
              "      <td>0.587283</td>\n",
              "      <td>0.460912</td>\n",
              "      <td>0.042065</td>\n",
              "      <td>0.519349</td>\n",
              "      <td>0.726615</td>\n",
              "      <td>0.040527</td>\n",
              "      <td>0.442044</td>\n",
              "      <td>0.018793</td>\n",
              "      <td>0.611296</td>\n",
              "      <td>0.564425</td>\n",
              "      <td>0.000134</td>\n",
              "      <td>0.033198</td>\n",
              "      <td>0.001503</td>\n",
              "      <td>0.042851</td>\n",
              "      <td>0.003575</td>\n",
              "      <td>0.600225</td>\n",
              "      <td>0.557389</td>\n",
              "      <td>0.763273</td>\n",
              "      <td>0.426623</td>\n",
              "      <td>0.512913</td>\n",
              "      <td>0.505049</td>\n",
              "      <td>0.017461</td>\n",
              "      <td>0.475478</td>\n",
              "      <td>0.726382</td>\n",
              "      <td>0.726501</td>\n",
              "      <td>0.017194</td>\n",
              "      <td>0.581976</td>\n",
              "      <td>0.013209</td>\n",
              "      <td>0.438077</td>\n",
              "      <td>0.762072</td>\n",
              "      <td>0.010194</td>\n",
              "      <td>0.537207</td>\n",
              "      <td>...</td>\n",
              "      <td>0.014302</td>\n",
              "      <td>0.003549</td>\n",
              "      <td>0.543911</td>\n",
              "      <td>0.016772</td>\n",
              "      <td>0.018913</td>\n",
              "      <td>0.014953</td>\n",
              "      <td>-0.006453</td>\n",
              "      <td>0.791455</td>\n",
              "      <td>0.037553</td>\n",
              "      <td>0.007261</td>\n",
              "      <td>0.733510</td>\n",
              "      <td>0.196990</td>\n",
              "      <td>0.424562</td>\n",
              "      <td>0.537912</td>\n",
              "      <td>0.196990</td>\n",
              "      <td>0.044512</td>\n",
              "      <td>0.799900</td>\n",
              "      <td>0.017273</td>\n",
              "      <td>0.584679</td>\n",
              "      <td>0.707520</td>\n",
              "      <td>0.013993</td>\n",
              "      <td>0.534400</td>\n",
              "      <td>0.455984</td>\n",
              "      <td>0.504305</td>\n",
              "      <td>0.040001</td>\n",
              "      <td>0.021218</td>\n",
              "      <td>0.042310</td>\n",
              "      <td>0.601375</td>\n",
              "      <td>0.014544</td>\n",
              "      <td>0.017970</td>\n",
              "      <td>0.015949</td>\n",
              "      <td>0.485841</td>\n",
              "      <td>-0.007491</td>\n",
              "      <td>0.726359</td>\n",
              "      <td>0.519399</td>\n",
              "      <td>0.017395</td>\n",
              "      <td>1.000000</td>\n",
              "      <td>0.682281</td>\n",
              "      <td>0.468083</td>\n",
              "      <td>0.027828</td>\n",
              "    </tr>\n",
              "    <tr>\n",
              "      <th>b_Credit card_num_1</th>\n",
              "      <td>0.003540</td>\n",
              "      <td>0.030844</td>\n",
              "      <td>0.023777</td>\n",
              "      <td>0.005904</td>\n",
              "      <td>0.181756</td>\n",
              "      <td>0.381517</td>\n",
              "      <td>0.033980</td>\n",
              "      <td>0.624803</td>\n",
              "      <td>0.594740</td>\n",
              "      <td>0.507894</td>\n",
              "      <td>0.040038</td>\n",
              "      <td>0.658344</td>\n",
              "      <td>0.745864</td>\n",
              "      <td>0.037862</td>\n",
              "      <td>0.454554</td>\n",
              "      <td>0.016142</td>\n",
              "      <td>0.627849</td>\n",
              "      <td>0.566355</td>\n",
              "      <td>0.009854</td>\n",
              "      <td>0.027275</td>\n",
              "      <td>0.004672</td>\n",
              "      <td>0.039755</td>\n",
              "      <td>0.004274</td>\n",
              "      <td>0.615417</td>\n",
              "      <td>0.635024</td>\n",
              "      <td>0.786548</td>\n",
              "      <td>0.447981</td>\n",
              "      <td>0.543740</td>\n",
              "      <td>0.562137</td>\n",
              "      <td>0.015620</td>\n",
              "      <td>0.528151</td>\n",
              "      <td>0.745832</td>\n",
              "      <td>0.745948</td>\n",
              "      <td>0.015559</td>\n",
              "      <td>0.636304</td>\n",
              "      <td>0.006921</td>\n",
              "      <td>0.467908</td>\n",
              "      <td>0.789671</td>\n",
              "      <td>0.005092</td>\n",
              "      <td>0.566456</td>\n",
              "      <td>...</td>\n",
              "      <td>0.013421</td>\n",
              "      <td>0.012791</td>\n",
              "      <td>0.577838</td>\n",
              "      <td>0.015542</td>\n",
              "      <td>0.026711</td>\n",
              "      <td>0.008215</td>\n",
              "      <td>0.002546</td>\n",
              "      <td>0.815029</td>\n",
              "      <td>0.034738</td>\n",
              "      <td>0.006484</td>\n",
              "      <td>0.732911</td>\n",
              "      <td>0.181756</td>\n",
              "      <td>0.594236</td>\n",
              "      <td>0.553622</td>\n",
              "      <td>0.181756</td>\n",
              "      <td>0.037205</td>\n",
              "      <td>0.824174</td>\n",
              "      <td>0.015489</td>\n",
              "      <td>0.571780</td>\n",
              "      <td>0.727828</td>\n",
              "      <td>0.013136</td>\n",
              "      <td>0.687782</td>\n",
              "      <td>0.535864</td>\n",
              "      <td>0.594750</td>\n",
              "      <td>0.042710</td>\n",
              "      <td>0.023825</td>\n",
              "      <td>0.042019</td>\n",
              "      <td>0.625276</td>\n",
              "      <td>0.013102</td>\n",
              "      <td>0.016684</td>\n",
              "      <td>0.014521</td>\n",
              "      <td>0.680509</td>\n",
              "      <td>0.011509</td>\n",
              "      <td>0.745806</td>\n",
              "      <td>0.540265</td>\n",
              "      <td>0.015720</td>\n",
              "      <td>0.682281</td>\n",
              "      <td>1.000000</td>\n",
              "      <td>0.540750</td>\n",
              "      <td>0.022108</td>\n",
              "    </tr>\n",
              "    <tr>\n",
              "      <th>b_active_all_dur_max</th>\n",
              "      <td>0.044890</td>\n",
              "      <td>0.022072</td>\n",
              "      <td>0.027834</td>\n",
              "      <td>0.030365</td>\n",
              "      <td>0.349367</td>\n",
              "      <td>0.281266</td>\n",
              "      <td>0.026393</td>\n",
              "      <td>0.541863</td>\n",
              "      <td>0.495762</td>\n",
              "      <td>0.634642</td>\n",
              "      <td>0.033751</td>\n",
              "      <td>0.547808</td>\n",
              "      <td>0.471804</td>\n",
              "      <td>0.031423</td>\n",
              "      <td>0.277224</td>\n",
              "      <td>0.007206</td>\n",
              "      <td>0.399088</td>\n",
              "      <td>0.326720</td>\n",
              "      <td>0.036606</td>\n",
              "      <td>0.011010</td>\n",
              "      <td>0.015255</td>\n",
              "      <td>0.016900</td>\n",
              "      <td>0.006334</td>\n",
              "      <td>0.406806</td>\n",
              "      <td>0.557841</td>\n",
              "      <td>0.523674</td>\n",
              "      <td>0.301882</td>\n",
              "      <td>0.449878</td>\n",
              "      <td>0.415440</td>\n",
              "      <td>0.008979</td>\n",
              "      <td>0.513833</td>\n",
              "      <td>0.514564</td>\n",
              "      <td>0.472302</td>\n",
              "      <td>0.007570</td>\n",
              "      <td>0.498758</td>\n",
              "      <td>0.000534</td>\n",
              "      <td>0.528018</td>\n",
              "      <td>0.530270</td>\n",
              "      <td>-0.000672</td>\n",
              "      <td>0.410303</td>\n",
              "      <td>...</td>\n",
              "      <td>0.005068</td>\n",
              "      <td>0.046447</td>\n",
              "      <td>0.492073</td>\n",
              "      <td>0.007713</td>\n",
              "      <td>0.031363</td>\n",
              "      <td>0.001517</td>\n",
              "      <td>0.026097</td>\n",
              "      <td>0.541863</td>\n",
              "      <td>0.026746</td>\n",
              "      <td>0.011613</td>\n",
              "      <td>0.465779</td>\n",
              "      <td>0.349367</td>\n",
              "      <td>0.470989</td>\n",
              "      <td>0.360054</td>\n",
              "      <td>0.349367</td>\n",
              "      <td>0.045597</td>\n",
              "      <td>0.549257</td>\n",
              "      <td>0.008269</td>\n",
              "      <td>0.503777</td>\n",
              "      <td>0.474592</td>\n",
              "      <td>0.006056</td>\n",
              "      <td>0.536117</td>\n",
              "      <td>0.522836</td>\n",
              "      <td>0.572950</td>\n",
              "      <td>0.027179</td>\n",
              "      <td>0.014837</td>\n",
              "      <td>0.030108</td>\n",
              "      <td>0.533283</td>\n",
              "      <td>0.005822</td>\n",
              "      <td>0.007935</td>\n",
              "      <td>0.007934</td>\n",
              "      <td>0.515136</td>\n",
              "      <td>0.030426</td>\n",
              "      <td>0.514541</td>\n",
              "      <td>0.303240</td>\n",
              "      <td>0.007410</td>\n",
              "      <td>0.468083</td>\n",
              "      <td>0.540750</td>\n",
              "      <td>1.000000</td>\n",
              "      <td>0.004393</td>\n",
              "    </tr>\n",
              "    <tr>\n",
              "      <th>p_evening_percent</th>\n",
              "      <td>-0.101452</td>\n",
              "      <td>-0.019155</td>\n",
              "      <td>-0.007429</td>\n",
              "      <td>-0.060441</td>\n",
              "      <td>0.000800</td>\n",
              "      <td>0.020597</td>\n",
              "      <td>0.133539</td>\n",
              "      <td>0.006543</td>\n",
              "      <td>0.017963</td>\n",
              "      <td>0.027820</td>\n",
              "      <td>0.166653</td>\n",
              "      <td>-0.006278</td>\n",
              "      <td>0.055021</td>\n",
              "      <td>0.150556</td>\n",
              "      <td>0.015812</td>\n",
              "      <td>0.096427</td>\n",
              "      <td>0.045192</td>\n",
              "      <td>0.026781</td>\n",
              "      <td>0.113176</td>\n",
              "      <td>0.166198</td>\n",
              "      <td>0.101648</td>\n",
              "      <td>0.022435</td>\n",
              "      <td>0.012929</td>\n",
              "      <td>0.017503</td>\n",
              "      <td>-0.001080</td>\n",
              "      <td>0.034680</td>\n",
              "      <td>0.026321</td>\n",
              "      <td>0.015969</td>\n",
              "      <td>0.027794</td>\n",
              "      <td>0.085074</td>\n",
              "      <td>0.035617</td>\n",
              "      <td>0.044769</td>\n",
              "      <td>0.055791</td>\n",
              "      <td>0.086991</td>\n",
              "      <td>0.033110</td>\n",
              "      <td>0.044924</td>\n",
              "      <td>0.011137</td>\n",
              "      <td>0.032080</td>\n",
              "      <td>0.171788</td>\n",
              "      <td>0.025725</td>\n",
              "      <td>...</td>\n",
              "      <td>0.066267</td>\n",
              "      <td>0.113110</td>\n",
              "      <td>0.021593</td>\n",
              "      <td>0.084536</td>\n",
              "      <td>0.137042</td>\n",
              "      <td>0.043878</td>\n",
              "      <td>0.102413</td>\n",
              "      <td>0.033600</td>\n",
              "      <td>0.115688</td>\n",
              "      <td>0.109005</td>\n",
              "      <td>0.038411</td>\n",
              "      <td>0.000800</td>\n",
              "      <td>0.019639</td>\n",
              "      <td>0.036483</td>\n",
              "      <td>0.000800</td>\n",
              "      <td>-0.093548</td>\n",
              "      <td>0.035509</td>\n",
              "      <td>0.078815</td>\n",
              "      <td>0.011699</td>\n",
              "      <td>0.049161</td>\n",
              "      <td>0.074202</td>\n",
              "      <td>-0.003539</td>\n",
              "      <td>0.015325</td>\n",
              "      <td>0.022923</td>\n",
              "      <td>0.041761</td>\n",
              "      <td>0.027253</td>\n",
              "      <td>0.198764</td>\n",
              "      <td>0.009242</td>\n",
              "      <td>0.071736</td>\n",
              "      <td>0.080615</td>\n",
              "      <td>0.086029</td>\n",
              "      <td>0.001594</td>\n",
              "      <td>0.105025</td>\n",
              "      <td>0.044772</td>\n",
              "      <td>0.031132</td>\n",
              "      <td>0.080386</td>\n",
              "      <td>0.027828</td>\n",
              "      <td>0.022108</td>\n",
              "      <td>0.004393</td>\n",
              "      <td>1.000000</td>\n",
              "    </tr>\n",
              "  </tbody>\n",
              "</table>\n",
              "<p>173 rows × 173 columns</p>\n",
              "</div>"
            ],
            "text/plain": [
              "                           FLAG_EMP_PHONE  ...  p_evening_percent\n",
              "FLAG_EMP_PHONE                   1.000000  ...          -0.101452\n",
              "REG_CITY_NOT_LIVE_CITY           0.093636  ...          -0.019155\n",
              "REG_CITY_NOT_WORK_CITY           0.261971  ...          -0.007429\n",
              "FLAG_DOCUMENT_6                  0.615325  ...          -0.060441\n",
              "b_last_closed_Credit card        0.031271  ...           0.000800\n",
              "...                                   ...  ...                ...\n",
              "ENTRANCES_AVG                   -0.006853  ...           0.080386\n",
              "b_limit_min                      0.010915  ...           0.027828\n",
              "b_Credit card_num_1              0.003540  ...           0.022108\n",
              "b_active_all_dur_max             0.044890  ...           0.004393\n",
              "p_evening_percent               -0.101452  ...           1.000000\n",
              "\n",
              "[173 rows x 173 columns]"
            ]
          },
          "metadata": {
            "tags": []
          },
          "execution_count": 66
        }
      ]
    },
    {
      "cell_type": "code",
      "metadata": {
        "id": "bRuzzcJse3jh"
      },
      "source": [
        "features = correlations_woe.columns\n",
        "corr = []\n",
        "for i in range(len(features)-1):\n",
        "  for j in range(i+1, len(features)):\n",
        "    if abs(correlations_woe.iloc[i, j]) >= 0.8:\n",
        "       if iv_cash.loc[features[i], 'iv'] > iv_cash.loc[features[j], 'iv']:\n",
        "         corr.append(features[j])\n",
        "       else:\n",
        "         corr.append(features[i])\n",
        "woe_train_cash1 = woe_train_cash1.drop(columns=corr)\n",
        "woe_valid_cash1 = woe_valid_cash1.drop(columns=corr)\n",
        "woe_test_cash1 = woe_test_cash1.drop(columns=corr)"
      ],
      "execution_count": null,
      "outputs": []
    },
    {
      "cell_type": "code",
      "metadata": {
        "id": "zxrefxItqI_a"
      },
      "source": [
        "from sklearn.metrics import roc_auc_score\n",
        "\n",
        "def Gini(y_true, y_pred):\n",
        "  return (2*roc_auc_score(y_true.values, y_pred) - 1)"
      ],
      "execution_count": null,
      "outputs": []
    },
    {
      "cell_type": "markdown",
      "metadata": {
        "id": "UULiEiRnIcwN"
      },
      "source": [
        "### Обучение модели"
      ]
    },
    {
      "cell_type": "code",
      "metadata": {
        "colab": {
          "base_uri": "https://localhost:8080/"
        },
        "id": "Wa_9urntbhd_",
        "outputId": "c714e28a-2c86-4083-f201-e2085e71d2bf"
      },
      "source": [
        "from sklearn.linear_model import LogisticRegression\n",
        "best_g = 0\n",
        "best_c = 0\n",
        "for c in [0.1, 0.3, 0.5, 0.7, 1]:\n",
        "  clf = LogisticRegression(random_state=42, C=c).fit(woe_train_cash1, y_train_cash)\n",
        "  pred = clf.predict_proba(woe_valid_cash1)\n",
        "  er = Gini(y_valid_cash, pred[:, 1])\n",
        "  if best_g == 0 or er > best_g:\n",
        "    best_g = er\n",
        "    best_c = c\n",
        "print('best Gini =', best_g, '\\nbest C =', best_c)"
      ],
      "execution_count": null,
      "outputs": [
        {
          "output_type": "stream",
          "text": [
            "best Gini = 0.5045837514370708 \n",
            "best C = 1\n"
          ],
          "name": "stdout"
        }
      ]
    },
    {
      "cell_type": "code",
      "metadata": {
        "colab": {
          "base_uri": "https://localhost:8080/"
        },
        "id": "W4olV-UmLgKi",
        "outputId": "69e2e383-b006-46da-e988-01b006b877df"
      },
      "source": [
        "woe_train_all_cash = pd.concat([woe_train_cash1, woe_valid_cash1])\n",
        "y_train_all_cash = pd.concat([y_train_cash, y_valid_cash])\n",
        "clf = LogisticRegression(random_state=42, C=best_c).fit(woe_train_all_cash, y_train_all_cash)\n",
        "pred = clf.predict_proba(woe_test_cash1)\n",
        "print('test Gini =', Gini(y_test_cash, pred[:, 1]))\n",
        "print('test AUC_ROC =', roc_auc_score(y_test_cash.values, pred[:, 1]))"
      ],
      "execution_count": null,
      "outputs": [
        {
          "output_type": "stream",
          "text": [
            "test Gini = 0.4832941279537375\n",
            "test AUC_ROC = 0.7416470639768687\n"
          ],
          "name": "stdout"
        }
      ]
    },
    {
      "cell_type": "markdown",
      "metadata": {
        "id": "X6J5Tz4gokE0"
      },
      "source": [
        "### Отбор признаков forward и backward selection"
      ]
    },
    {
      "cell_type": "code",
      "metadata": {
        "id": "fGVRswMJqTSC"
      },
      "source": [
        "features_cash = []\n",
        "prev_gini = 0\n",
        "while len(features_cash) < 30:\n",
        "    f = 0\n",
        "    best_change = -1\n",
        "    for i in range(woe_train_cash1.shape[1]):\n",
        "        if (~(i in features_cash)):\n",
        "            clf = LogisticRegression(random_state=42, C=best_c)\n",
        "            features_cash.append(i)\n",
        "            clf.fit(woe_train_cash1.iloc[:, features_cash], y_train_cash)\n",
        "            pred = clf.predict_proba(woe_valid_cash1.iloc[:, features_cash])\n",
        "            gini = Gini(y_valid_cash, pred[:, 1])\n",
        "            features_cash.pop()\n",
        "            if ((best_change == -1) | ((gini - prev_gini) > best_change)):\n",
        "                best_change = gini - prev_gini\n",
        "                f = i\n",
        "    features_cash.append(f)"
      ],
      "execution_count": null,
      "outputs": []
    },
    {
      "cell_type": "code",
      "metadata": {
        "id": "2nrQRIqqWdxh"
      },
      "source": [
        "woe_train_cash1 = woe_train_cash1.iloc[:, features_cash]\n",
        "woe_valid_cash = woe_valid_cash1.iloc[:, features_cash]\n",
        "woe_test_cash1 = woe_test_cash1.iloc[:, features_cash]\n",
        "woe_train_cash1.to_csv('woe_train_cash1.csv', index=True)\n",
        "woe_valid_cash1.to_csv('woe_valid_cash1.csv', index=True)\n",
        "woe_test_cash1.to_csv('woe_test_cash1.csv', index=True)"
      ],
      "execution_count": null,
      "outputs": []
    },
    {
      "cell_type": "code",
      "metadata": {
        "id": "CKUUUGnMdCIv"
      },
      "source": [
        "clf = LogisticRegression(random_state=42, C=best_c)\n",
        "clf.fit(woe_train_cash1, y_train_cash)\n",
        "pred = clf.predict_proba(woe_valid_cash1)\n",
        "prev_gini = Gini(y_valid_cash, pred[:, 1])\n",
        "features_cash = np.arange(0, woe_train_cash1.shape[1])\n",
        "while len(features_cash) > 15:\n",
        "  f = 0\n",
        "  best_change = -1\n",
        "  for i in range(len(features_cash)):\n",
        "    clf = LogisticRegression(random_state=42, C=best_c)\n",
        "    feat = np.delete(features_cash, i)\n",
        "    clf.fit(woe_train_cash1.iloc[:, feat], y_train_cash)\n",
        "    pred = clf.predict_proba(woe_valid_cash1.iloc[:, feat])\n",
        "    gini = Gini(y_valid_cash, pred[:, 1])\n",
        "    if ((gini - prev_gini) > best_change):\n",
        "      best_change = gini - prev_gini\n",
        "      f = i\n",
        "  features_cash = np.delete(features_cash, f)\n",
        "  prev_gini += best_change\n",
        "len(features_cash)"
      ],
      "execution_count": null,
      "outputs": []
    },
    {
      "cell_type": "markdown",
      "metadata": {
        "id": "jbDxr4LGJglt"
      },
      "source": [
        "### Обучение финальной модели для cash loans"
      ]
    },
    {
      "cell_type": "code",
      "metadata": {
        "id": "JqLD1zUOJo0d"
      },
      "source": [
        "best_g = 0\n",
        "best_c_cash = 0\n",
        "for c in [0.1, 0.3, 0.5, 0.7, 1]:\n",
        "  clf = LogisticRegression(random_state=42, C=c).fit(woe_train_cash1.iloc[:, features_cash], y_train_cash)\n",
        "  pred = clf.predict_proba(woe_valid_cash1.iloc[:, features_cash])\n",
        "  er = Gini(y_valid_cash, pred[:, 1])\n",
        "  if best_g == 0 or er > best_g:\n",
        "    best_g = er\n",
        "    best_c_cash = c\n",
        "print('best Gini =', best_g, '\\nbest C =', best_c_cash)"
      ],
      "execution_count": null,
      "outputs": []
    },
    {
      "cell_type": "code",
      "metadata": {
        "id": "R5xpcKP43RgW"
      },
      "source": [
        "woe_train_all_cash = pd.concat([woe_train_cash1, woe_valid_cash1])\n",
        "y_train_all_cash = pd.concat([y_train_cash, y_valid_cash])\n",
        "clf = LogisticRegression(random_state=42, C=best_c_cash).fit(woe_train_all_cash.iloc[:, features_cash], y_train_all_cash)\n",
        "pred = clf.predict_proba(woe_test_cash1.iloc[:, features_cash])\n",
        "print('test Gini =', Gini(y_test_cash, pred[:, 1]))\n",
        "print('test AUC_ROC =', roc_auc_score(y_test_cash.values, pred[:, 1]))"
      ],
      "execution_count": null,
      "outputs": []
    },
    {
      "cell_type": "code",
      "metadata": {
        "id": "7pGgbYBbBp3R"
      },
      "source": [
        "woe_train_all_cash.iloc[:, features_cash].to_csv('woe_all_train_cash_final.csv', index=True)\n",
        "woe_test_cash1.iloc[:, features_cash].to_csv('woe_test_cash_final.csv', index=True)"
      ],
      "execution_count": null,
      "outputs": []
    },
    {
      "cell_type": "markdown",
      "metadata": {
        "id": "2boxkvGgmEJI"
      },
      "source": [
        "#Revolving loans"
      ]
    },
    {
      "cell_type": "code",
      "metadata": {
        "id": "tdcmK0G72nUP"
      },
      "source": [
        "all_data = pd.concat([train_rev, test_rev])"
      ],
      "execution_count": null,
      "outputs": []
    },
    {
      "cell_type": "code",
      "metadata": {
        "id": "ehp34G355BH7"
      },
      "source": [
        "for c in real:\n",
        "  all_data[c + '_bin'] = pd.qcut(all_data[c], 20, duplicates='drop').cat.add_categories(\"0-0\").fillna(\"0-0\")\n",
        "train_rev = all_data[:train_rev.shape[0]]\n",
        "test_rev = all_data[train_rev.shape[0]:]"
      ],
      "execution_count": null,
      "outputs": []
    },
    {
      "cell_type": "code",
      "metadata": {
        "id": "o-nov2jtmOgW"
      },
      "source": [
        "from sklearn.model_selection import train_test_split\n",
        "train_rev, valid_rev, y_train_rev, y_valid_rev = train_test_split(train_rev, y_train_rev, test_size=0.2, random_state=42, stratify=(y_train_rev))"
      ],
      "execution_count": null,
      "outputs": []
    },
    {
      "cell_type": "code",
      "metadata": {
        "id": "Y0bPEimpmSBz"
      },
      "source": [
        "train_rev[categorical] = train_rev[categorical].fillna('NAN')\n",
        "valid_rev[categorical] = valid_rev[categorical].fillna('NAN')\n",
        "test_rev[categorical] = test_rev[categorical].fillna('NAN')"
      ],
      "execution_count": null,
      "outputs": []
    },
    {
      "cell_type": "code",
      "metadata": {
        "id": "Y3elWZS_nWDL"
      },
      "source": [
        "scorecard_rev = pd.DataFrame()"
      ],
      "execution_count": null,
      "outputs": []
    },
    {
      "cell_type": "code",
      "metadata": {
        "id": "adafwzGIoUhQ"
      },
      "source": [
        "woe_train_rev = train_rev.copy()\n",
        "woe_valid_rev = valid_rev.copy()\n",
        "woe_test_rev = test_rev.copy()"
      ],
      "execution_count": null,
      "outputs": []
    },
    {
      "cell_type": "code",
      "metadata": {
        "colab": {
          "base_uri": "https://localhost:8080/",
          "height": 638
        },
        "id": "T3KkzdB2nZ22",
        "outputId": "efb45125-43fe-48a4-9f5f-602105936454"
      },
      "source": [
        "res_cat = pd.DataFrame(index = categorical, columns = ['iv'])\n",
        "for c in categorical:\n",
        "  df, iv = calculate_woe_iv(train_rev, c, y_train_rev)\n",
        "  df['feature'] = c\n",
        "  for i in df.index:\n",
        "    woe_train_rev.loc[woe_train_rev[c] == df.loc[i, 'Value'], c] = df.loc[i, 'WoE']\n",
        "    woe_valid_rev.loc[woe_valid_rev[c] == df.loc[i, 'Value'], c] = df.loc[i, 'WoE']\n",
        "    woe_test_rev.loc[woe_test_rev[c] == df.loc[i, 'Value'], c] = df.loc[i, 'WoE']\n",
        "\n",
        "  res_cat.loc[c, 'iv'] = iv\n",
        "  scorecard_rev = scorecard_rev.append(df[['feature', 'Value', 'WoE']])\n",
        "    \n",
        "res_cat[res_cat['iv'] >= 0.02]"
      ],
      "execution_count": null,
      "outputs": [
        {
          "output_type": "execute_result",
          "data": {
            "text/html": [
              "<div>\n",
              "<style scoped>\n",
              "    .dataframe tbody tr th:only-of-type {\n",
              "        vertical-align: middle;\n",
              "    }\n",
              "\n",
              "    .dataframe tbody tr th {\n",
              "        vertical-align: top;\n",
              "    }\n",
              "\n",
              "    .dataframe thead th {\n",
              "        text-align: right;\n",
              "    }\n",
              "</style>\n",
              "<table border=\"1\" class=\"dataframe\">\n",
              "  <thead>\n",
              "    <tr style=\"text-align: right;\">\n",
              "      <th></th>\n",
              "      <th>iv</th>\n",
              "    </tr>\n",
              "  </thead>\n",
              "  <tbody>\n",
              "    <tr>\n",
              "      <th>NAME_INCOME_TYPE</th>\n",
              "      <td>0.062273</td>\n",
              "    </tr>\n",
              "    <tr>\n",
              "      <th>NAME_EDUCATION_TYPE</th>\n",
              "      <td>0.108189</td>\n",
              "    </tr>\n",
              "    <tr>\n",
              "      <th>NAME_FAMILY_STATUS</th>\n",
              "      <td>0.034721</td>\n",
              "    </tr>\n",
              "    <tr>\n",
              "      <th>NAME_HOUSING_TYPE</th>\n",
              "      <td>0.0350167</td>\n",
              "    </tr>\n",
              "    <tr>\n",
              "      <th>OCCUPATION_TYPE</th>\n",
              "      <td>0.127442</td>\n",
              "    </tr>\n",
              "    <tr>\n",
              "      <th>ORGANIZATION_TYPE</th>\n",
              "      <td>0.0993023</td>\n",
              "    </tr>\n",
              "    <tr>\n",
              "      <th>FONDKAPREMONT_MODE</th>\n",
              "      <td>0.0352369</td>\n",
              "    </tr>\n",
              "    <tr>\n",
              "      <th>HOUSETYPE_MODE</th>\n",
              "      <td>0.0363533</td>\n",
              "    </tr>\n",
              "    <tr>\n",
              "      <th>WALLSMATERIAL_MODE</th>\n",
              "      <td>0.0688655</td>\n",
              "    </tr>\n",
              "    <tr>\n",
              "      <th>EMERGENCYSTATE_MODE</th>\n",
              "      <td>0.0441584</td>\n",
              "    </tr>\n",
              "    <tr>\n",
              "      <th>p_most_popular_industry</th>\n",
              "      <td>0.0266068</td>\n",
              "    </tr>\n",
              "    <tr>\n",
              "      <th>FLAG_WORK_PHONE</th>\n",
              "      <td>0.054689</td>\n",
              "    </tr>\n",
              "    <tr>\n",
              "      <th>REG_CITY_NOT_LIVE_CITY</th>\n",
              "      <td>0.031768</td>\n",
              "    </tr>\n",
              "    <tr>\n",
              "      <th>REG_CITY_NOT_WORK_CITY</th>\n",
              "      <td>0.0341395</td>\n",
              "    </tr>\n",
              "    <tr>\n",
              "      <th>ORGANIZATION_TYPE</th>\n",
              "      <td>0.0993023</td>\n",
              "    </tr>\n",
              "    <tr>\n",
              "      <th>b_Microloan</th>\n",
              "      <td>0.0437464</td>\n",
              "    </tr>\n",
              "    <tr>\n",
              "      <th>p_new_client_1</th>\n",
              "      <td>0.0397593</td>\n",
              "    </tr>\n",
              "    <tr>\n",
              "      <th>p_new_client_3</th>\n",
              "      <td>0.0371362</td>\n",
              "    </tr>\n",
              "    <tr>\n",
              "      <th>FLAG_DOCUMENT_3</th>\n",
              "      <td>0.0215103</td>\n",
              "    </tr>\n",
              "  </tbody>\n",
              "</table>\n",
              "</div>"
            ],
            "text/plain": [
              "                                iv\n",
              "NAME_INCOME_TYPE          0.062273\n",
              "NAME_EDUCATION_TYPE       0.108189\n",
              "NAME_FAMILY_STATUS        0.034721\n",
              "NAME_HOUSING_TYPE        0.0350167\n",
              "OCCUPATION_TYPE           0.127442\n",
              "ORGANIZATION_TYPE        0.0993023\n",
              "FONDKAPREMONT_MODE       0.0352369\n",
              "HOUSETYPE_MODE           0.0363533\n",
              "WALLSMATERIAL_MODE       0.0688655\n",
              "EMERGENCYSTATE_MODE      0.0441584\n",
              "p_most_popular_industry  0.0266068\n",
              "FLAG_WORK_PHONE           0.054689\n",
              "REG_CITY_NOT_LIVE_CITY    0.031768\n",
              "REG_CITY_NOT_WORK_CITY   0.0341395\n",
              "ORGANIZATION_TYPE        0.0993023\n",
              "b_Microloan              0.0437464\n",
              "p_new_client_1           0.0397593\n",
              "p_new_client_3           0.0371362\n",
              "FLAG_DOCUMENT_3          0.0215103"
            ]
          },
          "metadata": {
            "tags": []
          },
          "execution_count": 89
        }
      ]
    },
    {
      "cell_type": "code",
      "metadata": {
        "colab": {
          "base_uri": "https://localhost:8080/",
          "height": 419
        },
        "id": "FeNqLbibYCvM",
        "outputId": "b775cc01-7f4f-4b53-c3cc-061d90c1d99d"
      },
      "source": [
        "from sklearn.tree import DecisionTreeClassifier\n",
        "\n",
        "res_tree = pd.DataFrame(index = real, columns = ['iv'])\n",
        "\n",
        "for c in real:\n",
        "  d = pd.DataFrame(index = woe_train_rev.index, columns = ['woe'])\n",
        "  df, iv = calculate_woe_iv(train_rev, c + '_bin', y_train_rev)\n",
        "  df['feature'] = c\n",
        "  for i in df.index:\n",
        "    d.loc[woe_train_rev[c + '_bin'] == df.loc[i, 'Value'], 'woe'] = df.loc[i, 'WoE']\n",
        "\n",
        "  clf = DecisionTreeClassifier(random_state = 42, max_depth = 2)\n",
        "  clf.fit(d, y_train_rev)\n",
        "  d['leaf'] = clf.apply(d)\n",
        "  all_intervals = []\n",
        "  for i in d['leaf'].unique():\n",
        "    intervals = woe_train_rev[d['leaf'] == i][c+'_bin'].values.unique()\n",
        "    woe_train_rev.loc[:, c+'_bin'] = woe_train_rev.loc[:, c+'_bin'].replace(intervals, i)\n",
        "    woe_valid_rev.loc[:, c+'_bin'] = woe_valid_rev.loc[:, c+'_bin'].replace(intervals, i)\n",
        "    woe_test_rev.loc[:, c+'_bin'] = woe_test_rev.loc[:, c+'_bin'].replace(intervals, i)\n",
        "    all_intervals.append(str(intervals).split('\\n')[0])\n",
        "\n",
        "  df, iv = calculate_woe_iv(woe_train_rev, c + '_bin', y_train_rev)\n",
        "  df['feature'] = c\n",
        "  for i in df.index:\n",
        "    woe_train_rev.loc[woe_train_rev[c + '_bin'] == df.loc[i, 'Value'], c] = df.loc[i, 'WoE']\n",
        "    woe_valid_rev.loc[woe_valid_rev[c + '_bin'] == df.loc[i, 'Value'], c] = df.loc[i, 'WoE']\n",
        "    woe_test_rev.loc[woe_test_rev[c + '_bin'] == df.loc[i, 'Value'], c] = df.loc[i, 'WoE']\n",
        "  df.loc[:, 'Value'] = df.loc[:, 'Value'].replace(d['leaf'].unique(), all_intervals)\n",
        "  res_tree.loc[c, 'iv'] = iv\n",
        "  scorecard_rev = scorecard_rev.append(df[['feature', 'Value', 'WoE']])\n",
        "\n",
        "res_tree[res_tree['iv'] >= 0.02]"
      ],
      "execution_count": null,
      "outputs": [
        {
          "output_type": "execute_result",
          "data": {
            "text/html": [
              "<div>\n",
              "<style scoped>\n",
              "    .dataframe tbody tr th:only-of-type {\n",
              "        vertical-align: middle;\n",
              "    }\n",
              "\n",
              "    .dataframe tbody tr th {\n",
              "        vertical-align: top;\n",
              "    }\n",
              "\n",
              "    .dataframe thead th {\n",
              "        text-align: right;\n",
              "    }\n",
              "</style>\n",
              "<table border=\"1\" class=\"dataframe\">\n",
              "  <thead>\n",
              "    <tr style=\"text-align: right;\">\n",
              "      <th></th>\n",
              "      <th>iv</th>\n",
              "    </tr>\n",
              "  </thead>\n",
              "  <tbody>\n",
              "    <tr>\n",
              "      <th>b_last_closed_Credit card</th>\n",
              "      <td>0.0360395</td>\n",
              "    </tr>\n",
              "    <tr>\n",
              "      <th>b_start_Consumer credit_avg</th>\n",
              "      <td>0.153994</td>\n",
              "    </tr>\n",
              "    <tr>\n",
              "      <th>b_Credit card_sum_3</th>\n",
              "      <td>0.0284058</td>\n",
              "    </tr>\n",
              "    <tr>\n",
              "      <th>b_Credit card_avg</th>\n",
              "      <td>0.0473227</td>\n",
              "    </tr>\n",
              "    <tr>\n",
              "      <th>b_active_Consumer credit_dur_max</th>\n",
              "      <td>0.0697788</td>\n",
              "    </tr>\n",
              "    <tr>\n",
              "      <th>...</th>\n",
              "      <td>...</td>\n",
              "    </tr>\n",
              "    <tr>\n",
              "      <th>b_all_num</th>\n",
              "      <td>0.0302053</td>\n",
              "    </tr>\n",
              "    <tr>\n",
              "      <th>ENTRANCES_AVG</th>\n",
              "      <td>0.0513033</td>\n",
              "    </tr>\n",
              "    <tr>\n",
              "      <th>b_limit_min</th>\n",
              "      <td>0.0270723</td>\n",
              "    </tr>\n",
              "    <tr>\n",
              "      <th>b_Credit card_num_1</th>\n",
              "      <td>0.0346794</td>\n",
              "    </tr>\n",
              "    <tr>\n",
              "      <th>b_active_all_dur_max</th>\n",
              "      <td>0.0733894</td>\n",
              "    </tr>\n",
              "  </tbody>\n",
              "</table>\n",
              "<p>160 rows × 1 columns</p>\n",
              "</div>"
            ],
            "text/plain": [
              "                                         iv\n",
              "b_last_closed_Credit card         0.0360395\n",
              "b_start_Consumer credit_avg        0.153994\n",
              "b_Credit card_sum_3               0.0284058\n",
              "b_Credit card_avg                 0.0473227\n",
              "b_active_Consumer credit_dur_max  0.0697788\n",
              "...                                     ...\n",
              "b_all_num                         0.0302053\n",
              "ENTRANCES_AVG                     0.0513033\n",
              "b_limit_min                       0.0270723\n",
              "b_Credit card_num_1               0.0346794\n",
              "b_active_all_dur_max              0.0733894\n",
              "\n",
              "[160 rows x 1 columns]"
            ]
          },
          "metadata": {
            "tags": []
          },
          "execution_count": 90
        }
      ]
    },
    {
      "cell_type": "code",
      "metadata": {
        "id": "AaIncGv3njdR"
      },
      "source": [
        "iv_rev = pd.concat([res_cat, res_tree])\n",
        "good_f = iv_rev[iv_rev['iv'] >= 0.02].index"
      ],
      "execution_count": null,
      "outputs": []
    },
    {
      "cell_type": "code",
      "metadata": {
        "id": "KYTtUaetY-cc"
      },
      "source": [
        "scorecard_rev.to_csv('scorecard_rev.csv', index=True)\n",
        "iv_cash.to_csv('iv_cash.csv', index=True)\n",
        "iv_rev.to_csv('iv_rev.csv', index=True)"
      ],
      "execution_count": null,
      "outputs": []
    },
    {
      "cell_type": "code",
      "metadata": {
        "id": "REz5DwtHntMs"
      },
      "source": [
        "woe_train_rev1 = woe_train_rev[good_f]\n",
        "woe_valid_rev1 = woe_valid_rev[good_f]\n",
        "woe_test_rev1 = woe_test_rev[good_f]"
      ],
      "execution_count": null,
      "outputs": []
    },
    {
      "cell_type": "code",
      "metadata": {
        "colab": {
          "base_uri": "https://localhost:8080/",
          "height": 456
        },
        "id": "_LZnUEGDnwdR",
        "outputId": "6ae49b76-97da-4927-b020-7b5471df1ab9"
      },
      "source": [
        "correlations_woe = woe_train_rev1.corr('spearman')\n",
        "correlations_woe"
      ],
      "execution_count": null,
      "outputs": [
        {
          "output_type": "execute_result",
          "data": {
            "text/html": [
              "<div>\n",
              "<style scoped>\n",
              "    .dataframe tbody tr th:only-of-type {\n",
              "        vertical-align: middle;\n",
              "    }\n",
              "\n",
              "    .dataframe tbody tr th {\n",
              "        vertical-align: top;\n",
              "    }\n",
              "\n",
              "    .dataframe thead th {\n",
              "        text-align: right;\n",
              "    }\n",
              "</style>\n",
              "<table border=\"1\" class=\"dataframe\">\n",
              "  <thead>\n",
              "    <tr style=\"text-align: right;\">\n",
              "      <th></th>\n",
              "      <th>FLAG_WORK_PHONE</th>\n",
              "      <th>REG_CITY_NOT_LIVE_CITY</th>\n",
              "      <th>REG_CITY_NOT_WORK_CITY</th>\n",
              "      <th>FLAG_DOCUMENT_3</th>\n",
              "      <th>b_last_closed_Credit card</th>\n",
              "      <th>b_start_Consumer credit_avg</th>\n",
              "      <th>b_Credit card_sum_3</th>\n",
              "      <th>b_Credit card_avg</th>\n",
              "      <th>b_active_Consumer credit_dur_max</th>\n",
              "      <th>p_type_suite_Family_percent</th>\n",
              "      <th>p_all_down_payment_avg_</th>\n",
              "      <th>p_prod_group_POS household_percent</th>\n",
              "      <th>p_Consumer loans_down_payment_avg_</th>\n",
              "      <th>b_dur_avg_Consumer credit</th>\n",
              "      <th>LANDAREA_AVG</th>\n",
              "      <th>FLOORSMAX_MEDI</th>\n",
              "      <th>b_early_num_all</th>\n",
              "      <th>p_sum</th>\n",
              "      <th>p_Consumer loans_sum_avg_</th>\n",
              "      <th>EXT_SOURCE_1</th>\n",
              "      <th>AMT_ANNUITY</th>\n",
              "      <th>b_Consumer credit_avg</th>\n",
              "      <th>b_active_Credit card_dur_avg</th>\n",
              "      <th>b_closed_days_avg_all</th>\n",
              "      <th>b_active_Mortgage_dur_max</th>\n",
              "      <th>b_Consumer credit_sum_3</th>\n",
              "      <th>b_start_Credit card_avg</th>\n",
              "      <th>APARTMENTS_MEDI</th>\n",
              "      <th>b_Consumer credit_avg_1</th>\n",
              "      <th>AMT_INCOME_TOTAL</th>\n",
              "      <th>b_Mortgage_avg</th>\n",
              "      <th>LIVINGAREA_MEDI</th>\n",
              "      <th>b_Consumer credit_num_1</th>\n",
              "      <th>YEARS_BUILD_AVG</th>\n",
              "      <th>b_debt_sum</th>\n",
              "      <th>LANDAREA_MODE</th>\n",
              "      <th>OBS_60_CNT_SOCIAL_CIRCLE</th>\n",
              "      <th>LIVINGAPARTMENTS_MEDI</th>\n",
              "      <th>p_Consumer loans_sum_avg_1</th>\n",
              "      <th>b_all_num_3</th>\n",
              "      <th>...</th>\n",
              "      <th>p_all_low_percent</th>\n",
              "      <th>EXT_SOURCE_2</th>\n",
              "      <th>BASEMENTAREA_MEDI</th>\n",
              "      <th>p_cnt_avg</th>\n",
              "      <th>b_all_sum_3</th>\n",
              "      <th>APARTMENTS_MODE</th>\n",
              "      <th>FLOORSMIN_AVG</th>\n",
              "      <th>YEARS_BUILD_MODE</th>\n",
              "      <th>p_all_sum_app_avg_1</th>\n",
              "      <th>LIVINGAPARTMENTS_MODE</th>\n",
              "      <th>OBS_30_CNT_SOCIAL_CIRCLE</th>\n",
              "      <th>p_yield_low_normal</th>\n",
              "      <th>p_Consumer loans_sum_app_avg_3</th>\n",
              "      <th>b_last_closed_Car loan</th>\n",
              "      <th>b_all_num_1</th>\n",
              "      <th>b_all_avg</th>\n",
              "      <th>NONLIVINGAPARTMENTS_MODE</th>\n",
              "      <th>b_last_closed_all</th>\n",
              "      <th>DAYS_BIRTH</th>\n",
              "      <th>YEARS_BEGINEXPLUATATION_AVG</th>\n",
              "      <th>b_Credit card_mean</th>\n",
              "      <th>AMT_REQ_CREDIT_BUREAU_MON</th>\n",
              "      <th>NONLIVINGAREA_AVG</th>\n",
              "      <th>b_debt_num</th>\n",
              "      <th>b_all_sum_1</th>\n",
              "      <th>AMT_GOODS_PRICE</th>\n",
              "      <th>AMT_CREDIT</th>\n",
              "      <th>b_debt_avg_Credit card</th>\n",
              "      <th>p_prod_group_POS mobile_percent</th>\n",
              "      <th>DEF_30_CNT_SOCIAL_CIRCLE</th>\n",
              "      <th>NONLIVINGAREA_MODE</th>\n",
              "      <th>ENTRANCES_MODE</th>\n",
              "      <th>LIVINGAREA_MODE</th>\n",
              "      <th>b_Credit card_num_3</th>\n",
              "      <th>b_Mortgage_mean</th>\n",
              "      <th>b_all_num</th>\n",
              "      <th>ENTRANCES_AVG</th>\n",
              "      <th>b_limit_min</th>\n",
              "      <th>b_Credit card_num_1</th>\n",
              "      <th>b_active_all_dur_max</th>\n",
              "    </tr>\n",
              "  </thead>\n",
              "  <tbody>\n",
              "    <tr>\n",
              "      <th>FLAG_WORK_PHONE</th>\n",
              "      <td>1.000000</td>\n",
              "      <td>0.072000</td>\n",
              "      <td>0.121056</td>\n",
              "      <td>0.058850</td>\n",
              "      <td>-0.009527</td>\n",
              "      <td>0.059059</td>\n",
              "      <td>0.028143</td>\n",
              "      <td>0.035070</td>\n",
              "      <td>0.028922</td>\n",
              "      <td>-0.029682</td>\n",
              "      <td>-0.033360</td>\n",
              "      <td>-0.033493</td>\n",
              "      <td>-0.020240</td>\n",
              "      <td>0.043232</td>\n",
              "      <td>0.038538</td>\n",
              "      <td>0.058399</td>\n",
              "      <td>0.061336</td>\n",
              "      <td>0.054192</td>\n",
              "      <td>0.037167</td>\n",
              "      <td>0.011888</td>\n",
              "      <td>0.066054</td>\n",
              "      <td>0.037135</td>\n",
              "      <td>0.050435</td>\n",
              "      <td>0.039169</td>\n",
              "      <td>0.063160</td>\n",
              "      <td>0.037945</td>\n",
              "      <td>0.029056</td>\n",
              "      <td>0.046341</td>\n",
              "      <td>0.033201</td>\n",
              "      <td>0.072580</td>\n",
              "      <td>0.060619</td>\n",
              "      <td>0.040850</td>\n",
              "      <td>0.051687</td>\n",
              "      <td>0.039738</td>\n",
              "      <td>0.009626</td>\n",
              "      <td>0.037572</td>\n",
              "      <td>0.047212</td>\n",
              "      <td>0.043233</td>\n",
              "      <td>0.027202</td>\n",
              "      <td>0.037087</td>\n",
              "      <td>...</td>\n",
              "      <td>-0.073414</td>\n",
              "      <td>0.026574</td>\n",
              "      <td>0.036979</td>\n",
              "      <td>-0.000041</td>\n",
              "      <td>0.042013</td>\n",
              "      <td>0.036486</td>\n",
              "      <td>0.044731</td>\n",
              "      <td>0.038597</td>\n",
              "      <td>-0.011236</td>\n",
              "      <td>0.040701</td>\n",
              "      <td>0.044357</td>\n",
              "      <td>-0.000391</td>\n",
              "      <td>0.044113</td>\n",
              "      <td>-0.009527</td>\n",
              "      <td>0.040393</td>\n",
              "      <td>0.057775</td>\n",
              "      <td>0.041021</td>\n",
              "      <td>-0.009527</td>\n",
              "      <td>0.099636</td>\n",
              "      <td>0.037646</td>\n",
              "      <td>0.035194</td>\n",
              "      <td>0.075464</td>\n",
              "      <td>0.041948</td>\n",
              "      <td>0.036112</td>\n",
              "      <td>0.018251</td>\n",
              "      <td>0.113145</td>\n",
              "      <td>0.066054</td>\n",
              "      <td>0.012657</td>\n",
              "      <td>0.042094</td>\n",
              "      <td>0.067487</td>\n",
              "      <td>0.035054</td>\n",
              "      <td>0.047084</td>\n",
              "      <td>0.043141</td>\n",
              "      <td>0.025421</td>\n",
              "      <td>0.060852</td>\n",
              "      <td>0.060986</td>\n",
              "      <td>0.044151</td>\n",
              "      <td>0.056069</td>\n",
              "      <td>0.052718</td>\n",
              "      <td>0.016068</td>\n",
              "    </tr>\n",
              "    <tr>\n",
              "      <th>REG_CITY_NOT_LIVE_CITY</th>\n",
              "      <td>0.072000</td>\n",
              "      <td>1.000000</td>\n",
              "      <td>0.484076</td>\n",
              "      <td>0.010096</td>\n",
              "      <td>0.013926</td>\n",
              "      <td>0.083048</td>\n",
              "      <td>0.013302</td>\n",
              "      <td>0.039259</td>\n",
              "      <td>0.003724</td>\n",
              "      <td>0.016789</td>\n",
              "      <td>0.010299</td>\n",
              "      <td>-0.010010</td>\n",
              "      <td>0.005995</td>\n",
              "      <td>0.054502</td>\n",
              "      <td>0.151792</td>\n",
              "      <td>0.171042</td>\n",
              "      <td>0.043004</td>\n",
              "      <td>0.049006</td>\n",
              "      <td>0.008334</td>\n",
              "      <td>0.078954</td>\n",
              "      <td>0.102767</td>\n",
              "      <td>0.009886</td>\n",
              "      <td>0.032279</td>\n",
              "      <td>0.091532</td>\n",
              "      <td>0.022691</td>\n",
              "      <td>0.006916</td>\n",
              "      <td>0.069338</td>\n",
              "      <td>0.183571</td>\n",
              "      <td>0.011547</td>\n",
              "      <td>0.025012</td>\n",
              "      <td>0.021491</td>\n",
              "      <td>0.179702</td>\n",
              "      <td>0.022394</td>\n",
              "      <td>0.129350</td>\n",
              "      <td>0.007197</td>\n",
              "      <td>0.137611</td>\n",
              "      <td>0.008721</td>\n",
              "      <td>0.106956</td>\n",
              "      <td>0.028559</td>\n",
              "      <td>0.012396</td>\n",
              "      <td>...</td>\n",
              "      <td>-0.004650</td>\n",
              "      <td>0.062952</td>\n",
              "      <td>0.143597</td>\n",
              "      <td>0.011683</td>\n",
              "      <td>0.011243</td>\n",
              "      <td>0.158738</td>\n",
              "      <td>0.134488</td>\n",
              "      <td>0.131598</td>\n",
              "      <td>0.038806</td>\n",
              "      <td>0.114828</td>\n",
              "      <td>-0.000037</td>\n",
              "      <td>0.027670</td>\n",
              "      <td>0.037685</td>\n",
              "      <td>0.013926</td>\n",
              "      <td>0.026400</td>\n",
              "      <td>0.032352</td>\n",
              "      <td>0.133031</td>\n",
              "      <td>0.013926</td>\n",
              "      <td>0.174752</td>\n",
              "      <td>0.172723</td>\n",
              "      <td>0.031173</td>\n",
              "      <td>0.028461</td>\n",
              "      <td>0.170152</td>\n",
              "      <td>0.007794</td>\n",
              "      <td>0.019643</td>\n",
              "      <td>0.100632</td>\n",
              "      <td>0.102767</td>\n",
              "      <td>0.019652</td>\n",
              "      <td>0.050223</td>\n",
              "      <td>0.023210</td>\n",
              "      <td>0.153824</td>\n",
              "      <td>0.178999</td>\n",
              "      <td>0.164821</td>\n",
              "      <td>0.027702</td>\n",
              "      <td>0.021212</td>\n",
              "      <td>0.021422</td>\n",
              "      <td>0.179093</td>\n",
              "      <td>0.025875</td>\n",
              "      <td>0.026127</td>\n",
              "      <td>0.014740</td>\n",
              "    </tr>\n",
              "    <tr>\n",
              "      <th>REG_CITY_NOT_WORK_CITY</th>\n",
              "      <td>0.121056</td>\n",
              "      <td>0.484076</td>\n",
              "      <td>1.000000</td>\n",
              "      <td>0.008389</td>\n",
              "      <td>0.006975</td>\n",
              "      <td>0.067396</td>\n",
              "      <td>0.012893</td>\n",
              "      <td>0.040159</td>\n",
              "      <td>0.022860</td>\n",
              "      <td>0.024369</td>\n",
              "      <td>0.009060</td>\n",
              "      <td>0.004226</td>\n",
              "      <td>0.007451</td>\n",
              "      <td>0.024617</td>\n",
              "      <td>0.244736</td>\n",
              "      <td>0.275195</td>\n",
              "      <td>0.035842</td>\n",
              "      <td>0.058258</td>\n",
              "      <td>0.030916</td>\n",
              "      <td>0.094471</td>\n",
              "      <td>0.114345</td>\n",
              "      <td>0.028548</td>\n",
              "      <td>0.026400</td>\n",
              "      <td>0.067828</td>\n",
              "      <td>0.022935</td>\n",
              "      <td>0.026386</td>\n",
              "      <td>0.060466</td>\n",
              "      <td>0.285437</td>\n",
              "      <td>0.024021</td>\n",
              "      <td>0.029147</td>\n",
              "      <td>0.025928</td>\n",
              "      <td>0.271390</td>\n",
              "      <td>0.018154</td>\n",
              "      <td>0.194551</td>\n",
              "      <td>0.014569</td>\n",
              "      <td>0.225182</td>\n",
              "      <td>0.013865</td>\n",
              "      <td>0.175614</td>\n",
              "      <td>0.029550</td>\n",
              "      <td>0.001129</td>\n",
              "      <td>...</td>\n",
              "      <td>-0.004061</td>\n",
              "      <td>0.094699</td>\n",
              "      <td>0.230415</td>\n",
              "      <td>0.018754</td>\n",
              "      <td>0.013422</td>\n",
              "      <td>0.249174</td>\n",
              "      <td>0.212492</td>\n",
              "      <td>0.198921</td>\n",
              "      <td>0.043793</td>\n",
              "      <td>0.184507</td>\n",
              "      <td>0.013415</td>\n",
              "      <td>0.051642</td>\n",
              "      <td>0.050532</td>\n",
              "      <td>0.006975</td>\n",
              "      <td>0.012761</td>\n",
              "      <td>0.034603</td>\n",
              "      <td>0.207176</td>\n",
              "      <td>0.006975</td>\n",
              "      <td>0.192634</td>\n",
              "      <td>0.262190</td>\n",
              "      <td>0.038705</td>\n",
              "      <td>0.031279</td>\n",
              "      <td>0.266013</td>\n",
              "      <td>0.016995</td>\n",
              "      <td>0.015300</td>\n",
              "      <td>0.110612</td>\n",
              "      <td>0.114345</td>\n",
              "      <td>0.008509</td>\n",
              "      <td>0.061790</td>\n",
              "      <td>0.020199</td>\n",
              "      <td>0.233213</td>\n",
              "      <td>0.275308</td>\n",
              "      <td>0.260288</td>\n",
              "      <td>-0.001661</td>\n",
              "      <td>0.027137</td>\n",
              "      <td>0.020121</td>\n",
              "      <td>0.276305</td>\n",
              "      <td>0.020663</td>\n",
              "      <td>0.015256</td>\n",
              "      <td>0.015190</td>\n",
              "    </tr>\n",
              "    <tr>\n",
              "      <th>FLAG_DOCUMENT_3</th>\n",
              "      <td>0.058850</td>\n",
              "      <td>0.010096</td>\n",
              "      <td>0.008389</td>\n",
              "      <td>1.000000</td>\n",
              "      <td>0.021349</td>\n",
              "      <td>0.020983</td>\n",
              "      <td>0.007035</td>\n",
              "      <td>0.005871</td>\n",
              "      <td>0.031420</td>\n",
              "      <td>-0.070032</td>\n",
              "      <td>-0.061723</td>\n",
              "      <td>-0.077269</td>\n",
              "      <td>-0.047823</td>\n",
              "      <td>0.004920</td>\n",
              "      <td>-0.000648</td>\n",
              "      <td>-0.000824</td>\n",
              "      <td>0.023977</td>\n",
              "      <td>-0.007760</td>\n",
              "      <td>-0.045524</td>\n",
              "      <td>0.026990</td>\n",
              "      <td>0.006224</td>\n",
              "      <td>0.028774</td>\n",
              "      <td>0.017603</td>\n",
              "      <td>0.005951</td>\n",
              "      <td>0.022366</td>\n",
              "      <td>0.028816</td>\n",
              "      <td>0.009927</td>\n",
              "      <td>-0.003270</td>\n",
              "      <td>0.029860</td>\n",
              "      <td>0.011694</td>\n",
              "      <td>0.022209</td>\n",
              "      <td>-0.009928</td>\n",
              "      <td>0.030556</td>\n",
              "      <td>-0.000970</td>\n",
              "      <td>0.029132</td>\n",
              "      <td>-0.000151</td>\n",
              "      <td>0.025159</td>\n",
              "      <td>0.004295</td>\n",
              "      <td>-0.020571</td>\n",
              "      <td>0.031698</td>\n",
              "      <td>...</td>\n",
              "      <td>-0.078801</td>\n",
              "      <td>0.027718</td>\n",
              "      <td>0.000125</td>\n",
              "      <td>-0.022220</td>\n",
              "      <td>0.008625</td>\n",
              "      <td>0.007787</td>\n",
              "      <td>-0.003788</td>\n",
              "      <td>0.001139</td>\n",
              "      <td>-0.025670</td>\n",
              "      <td>0.011063</td>\n",
              "      <td>0.020130</td>\n",
              "      <td>-0.040294</td>\n",
              "      <td>-0.015207</td>\n",
              "      <td>0.021349</td>\n",
              "      <td>0.030725</td>\n",
              "      <td>0.018432</td>\n",
              "      <td>-0.001839</td>\n",
              "      <td>0.021349</td>\n",
              "      <td>0.048892</td>\n",
              "      <td>-0.016669</td>\n",
              "      <td>0.007046</td>\n",
              "      <td>0.036984</td>\n",
              "      <td>-0.005946</td>\n",
              "      <td>0.030176</td>\n",
              "      <td>0.035530</td>\n",
              "      <td>0.028624</td>\n",
              "      <td>0.006224</td>\n",
              "      <td>0.028115</td>\n",
              "      <td>-0.029268</td>\n",
              "      <td>0.029416</td>\n",
              "      <td>-0.007491</td>\n",
              "      <td>-0.006256</td>\n",
              "      <td>-0.007809</td>\n",
              "      <td>0.030956</td>\n",
              "      <td>0.021782</td>\n",
              "      <td>0.018737</td>\n",
              "      <td>-0.006571</td>\n",
              "      <td>0.041572</td>\n",
              "      <td>0.030708</td>\n",
              "      <td>0.026045</td>\n",
              "    </tr>\n",
              "    <tr>\n",
              "      <th>b_last_closed_Credit card</th>\n",
              "      <td>-0.009527</td>\n",
              "      <td>0.013926</td>\n",
              "      <td>0.006975</td>\n",
              "      <td>0.021349</td>\n",
              "      <td>1.000000</td>\n",
              "      <td>0.138117</td>\n",
              "      <td>0.139919</td>\n",
              "      <td>0.050294</td>\n",
              "      <td>0.280946</td>\n",
              "      <td>0.013088</td>\n",
              "      <td>0.006272</td>\n",
              "      <td>0.013562</td>\n",
              "      <td>-0.000024</td>\n",
              "      <td>0.093922</td>\n",
              "      <td>0.005217</td>\n",
              "      <td>-0.005747</td>\n",
              "      <td>0.057153</td>\n",
              "      <td>0.014005</td>\n",
              "      <td>0.002034</td>\n",
              "      <td>0.008271</td>\n",
              "      <td>0.010694</td>\n",
              "      <td>0.090447</td>\n",
              "      <td>0.059281</td>\n",
              "      <td>0.077738</td>\n",
              "      <td>0.092491</td>\n",
              "      <td>0.200368</td>\n",
              "      <td>-0.005110</td>\n",
              "      <td>-0.004216</td>\n",
              "      <td>0.228521</td>\n",
              "      <td>-0.023483</td>\n",
              "      <td>0.096125</td>\n",
              "      <td>-0.004277</td>\n",
              "      <td>0.182454</td>\n",
              "      <td>-0.002369</td>\n",
              "      <td>0.327481</td>\n",
              "      <td>0.001312</td>\n",
              "      <td>0.007388</td>\n",
              "      <td>-0.002958</td>\n",
              "      <td>0.006337</td>\n",
              "      <td>0.291559</td>\n",
              "      <td>...</td>\n",
              "      <td>0.015734</td>\n",
              "      <td>0.023722</td>\n",
              "      <td>0.003160</td>\n",
              "      <td>0.011673</td>\n",
              "      <td>0.120373</td>\n",
              "      <td>-0.008886</td>\n",
              "      <td>-0.010459</td>\n",
              "      <td>-0.005185</td>\n",
              "      <td>0.003338</td>\n",
              "      <td>-0.004962</td>\n",
              "      <td>0.009500</td>\n",
              "      <td>0.005278</td>\n",
              "      <td>0.001934</td>\n",
              "      <td>1.000000</td>\n",
              "      <td>0.223668</td>\n",
              "      <td>-0.008692</td>\n",
              "      <td>-0.004763</td>\n",
              "      <td>1.000000</td>\n",
              "      <td>0.022350</td>\n",
              "      <td>-0.006715</td>\n",
              "      <td>0.015280</td>\n",
              "      <td>0.108095</td>\n",
              "      <td>-0.004393</td>\n",
              "      <td>0.283606</td>\n",
              "      <td>0.288997</td>\n",
              "      <td>0.005838</td>\n",
              "      <td>0.010694</td>\n",
              "      <td>0.274674</td>\n",
              "      <td>0.005363</td>\n",
              "      <td>0.006971</td>\n",
              "      <td>0.000618</td>\n",
              "      <td>-0.002763</td>\n",
              "      <td>0.001457</td>\n",
              "      <td>0.204995</td>\n",
              "      <td>0.096865</td>\n",
              "      <td>0.052236</td>\n",
              "      <td>-0.005580</td>\n",
              "      <td>0.110802</td>\n",
              "      <td>0.150778</td>\n",
              "      <td>0.241113</td>\n",
              "    </tr>\n",
              "    <tr>\n",
              "      <th>...</th>\n",
              "      <td>...</td>\n",
              "      <td>...</td>\n",
              "      <td>...</td>\n",
              "      <td>...</td>\n",
              "      <td>...</td>\n",
              "      <td>...</td>\n",
              "      <td>...</td>\n",
              "      <td>...</td>\n",
              "      <td>...</td>\n",
              "      <td>...</td>\n",
              "      <td>...</td>\n",
              "      <td>...</td>\n",
              "      <td>...</td>\n",
              "      <td>...</td>\n",
              "      <td>...</td>\n",
              "      <td>...</td>\n",
              "      <td>...</td>\n",
              "      <td>...</td>\n",
              "      <td>...</td>\n",
              "      <td>...</td>\n",
              "      <td>...</td>\n",
              "      <td>...</td>\n",
              "      <td>...</td>\n",
              "      <td>...</td>\n",
              "      <td>...</td>\n",
              "      <td>...</td>\n",
              "      <td>...</td>\n",
              "      <td>...</td>\n",
              "      <td>...</td>\n",
              "      <td>...</td>\n",
              "      <td>...</td>\n",
              "      <td>...</td>\n",
              "      <td>...</td>\n",
              "      <td>...</td>\n",
              "      <td>...</td>\n",
              "      <td>...</td>\n",
              "      <td>...</td>\n",
              "      <td>...</td>\n",
              "      <td>...</td>\n",
              "      <td>...</td>\n",
              "      <td>...</td>\n",
              "      <td>...</td>\n",
              "      <td>...</td>\n",
              "      <td>...</td>\n",
              "      <td>...</td>\n",
              "      <td>...</td>\n",
              "      <td>...</td>\n",
              "      <td>...</td>\n",
              "      <td>...</td>\n",
              "      <td>...</td>\n",
              "      <td>...</td>\n",
              "      <td>...</td>\n",
              "      <td>...</td>\n",
              "      <td>...</td>\n",
              "      <td>...</td>\n",
              "      <td>...</td>\n",
              "      <td>...</td>\n",
              "      <td>...</td>\n",
              "      <td>...</td>\n",
              "      <td>...</td>\n",
              "      <td>...</td>\n",
              "      <td>...</td>\n",
              "      <td>...</td>\n",
              "      <td>...</td>\n",
              "      <td>...</td>\n",
              "      <td>...</td>\n",
              "      <td>...</td>\n",
              "      <td>...</td>\n",
              "      <td>...</td>\n",
              "      <td>...</td>\n",
              "      <td>...</td>\n",
              "      <td>...</td>\n",
              "      <td>...</td>\n",
              "      <td>...</td>\n",
              "      <td>...</td>\n",
              "      <td>...</td>\n",
              "      <td>...</td>\n",
              "      <td>...</td>\n",
              "      <td>...</td>\n",
              "      <td>...</td>\n",
              "      <td>...</td>\n",
              "    </tr>\n",
              "    <tr>\n",
              "      <th>b_all_num</th>\n",
              "      <td>0.060986</td>\n",
              "      <td>0.021422</td>\n",
              "      <td>0.020121</td>\n",
              "      <td>0.018737</td>\n",
              "      <td>0.052236</td>\n",
              "      <td>0.356228</td>\n",
              "      <td>0.457666</td>\n",
              "      <td>0.333132</td>\n",
              "      <td>0.189916</td>\n",
              "      <td>-0.010707</td>\n",
              "      <td>0.005023</td>\n",
              "      <td>0.004557</td>\n",
              "      <td>0.008569</td>\n",
              "      <td>0.382386</td>\n",
              "      <td>0.016796</td>\n",
              "      <td>0.004334</td>\n",
              "      <td>0.602932</td>\n",
              "      <td>0.080103</td>\n",
              "      <td>-0.038463</td>\n",
              "      <td>0.050022</td>\n",
              "      <td>0.053557</td>\n",
              "      <td>0.387241</td>\n",
              "      <td>0.459669</td>\n",
              "      <td>0.217547</td>\n",
              "      <td>0.679084</td>\n",
              "      <td>0.378170</td>\n",
              "      <td>0.163740</td>\n",
              "      <td>0.004801</td>\n",
              "      <td>0.206210</td>\n",
              "      <td>0.050022</td>\n",
              "      <td>0.678202</td>\n",
              "      <td>0.005778</td>\n",
              "      <td>0.440656</td>\n",
              "      <td>0.012852</td>\n",
              "      <td>0.196699</td>\n",
              "      <td>0.011446</td>\n",
              "      <td>-0.011785</td>\n",
              "      <td>-0.011689</td>\n",
              "      <td>-0.001492</td>\n",
              "      <td>0.324968</td>\n",
              "      <td>...</td>\n",
              "      <td>-0.015638</td>\n",
              "      <td>0.038270</td>\n",
              "      <td>0.007244</td>\n",
              "      <td>0.019815</td>\n",
              "      <td>0.419353</td>\n",
              "      <td>0.002412</td>\n",
              "      <td>0.010683</td>\n",
              "      <td>0.014179</td>\n",
              "      <td>-0.003752</td>\n",
              "      <td>-0.002154</td>\n",
              "      <td>-0.017472</td>\n",
              "      <td>0.038576</td>\n",
              "      <td>0.004866</td>\n",
              "      <td>0.052236</td>\n",
              "      <td>0.334014</td>\n",
              "      <td>0.451923</td>\n",
              "      <td>0.008169</td>\n",
              "      <td>0.052236</td>\n",
              "      <td>0.081666</td>\n",
              "      <td>0.018944</td>\n",
              "      <td>0.393951</td>\n",
              "      <td>0.672646</td>\n",
              "      <td>0.009937</td>\n",
              "      <td>0.252884</td>\n",
              "      <td>0.232915</td>\n",
              "      <td>0.070174</td>\n",
              "      <td>0.053557</td>\n",
              "      <td>0.297197</td>\n",
              "      <td>0.029826</td>\n",
              "      <td>-0.004150</td>\n",
              "      <td>0.007679</td>\n",
              "      <td>0.017666</td>\n",
              "      <td>0.004062</td>\n",
              "      <td>0.396857</td>\n",
              "      <td>0.679881</td>\n",
              "      <td>1.000000</td>\n",
              "      <td>0.013110</td>\n",
              "      <td>0.572638</td>\n",
              "      <td>0.609758</td>\n",
              "      <td>0.200573</td>\n",
              "    </tr>\n",
              "    <tr>\n",
              "      <th>ENTRANCES_AVG</th>\n",
              "      <td>0.044151</td>\n",
              "      <td>0.179093</td>\n",
              "      <td>0.276305</td>\n",
              "      <td>-0.006571</td>\n",
              "      <td>-0.005580</td>\n",
              "      <td>0.043744</td>\n",
              "      <td>0.027529</td>\n",
              "      <td>0.045171</td>\n",
              "      <td>0.045555</td>\n",
              "      <td>0.020336</td>\n",
              "      <td>0.048200</td>\n",
              "      <td>0.032975</td>\n",
              "      <td>0.040857</td>\n",
              "      <td>-0.007113</td>\n",
              "      <td>0.720215</td>\n",
              "      <td>0.777203</td>\n",
              "      <td>0.023062</td>\n",
              "      <td>0.023462</td>\n",
              "      <td>0.058156</td>\n",
              "      <td>0.084088</td>\n",
              "      <td>0.111290</td>\n",
              "      <td>0.031053</td>\n",
              "      <td>0.037976</td>\n",
              "      <td>0.030961</td>\n",
              "      <td>0.041777</td>\n",
              "      <td>0.040336</td>\n",
              "      <td>0.062301</td>\n",
              "      <td>0.849527</td>\n",
              "      <td>0.029631</td>\n",
              "      <td>0.138372</td>\n",
              "      <td>0.047212</td>\n",
              "      <td>0.827961</td>\n",
              "      <td>0.019034</td>\n",
              "      <td>0.603699</td>\n",
              "      <td>0.014541</td>\n",
              "      <td>0.665549</td>\n",
              "      <td>0.045489</td>\n",
              "      <td>0.483212</td>\n",
              "      <td>0.050645</td>\n",
              "      <td>0.008015</td>\n",
              "      <td>...</td>\n",
              "      <td>0.054200</td>\n",
              "      <td>0.119865</td>\n",
              "      <td>0.707530</td>\n",
              "      <td>0.021007</td>\n",
              "      <td>0.022638</td>\n",
              "      <td>0.720795</td>\n",
              "      <td>0.602140</td>\n",
              "      <td>0.605660</td>\n",
              "      <td>0.051018</td>\n",
              "      <td>0.511534</td>\n",
              "      <td>0.048157</td>\n",
              "      <td>0.036081</td>\n",
              "      <td>0.050976</td>\n",
              "      <td>-0.005580</td>\n",
              "      <td>0.011564</td>\n",
              "      <td>0.049246</td>\n",
              "      <td>0.610811</td>\n",
              "      <td>-0.005580</td>\n",
              "      <td>0.026396</td>\n",
              "      <td>0.819429</td>\n",
              "      <td>0.055628</td>\n",
              "      <td>0.028693</td>\n",
              "      <td>0.806634</td>\n",
              "      <td>0.019466</td>\n",
              "      <td>0.009282</td>\n",
              "      <td>0.116580</td>\n",
              "      <td>0.111290</td>\n",
              "      <td>-0.006734</td>\n",
              "      <td>0.020791</td>\n",
              "      <td>0.039372</td>\n",
              "      <td>0.717200</td>\n",
              "      <td>0.972231</td>\n",
              "      <td>0.778166</td>\n",
              "      <td>-0.016158</td>\n",
              "      <td>0.047445</td>\n",
              "      <td>0.013110</td>\n",
              "      <td>1.000000</td>\n",
              "      <td>0.020555</td>\n",
              "      <td>0.011643</td>\n",
              "      <td>0.029261</td>\n",
              "    </tr>\n",
              "    <tr>\n",
              "      <th>b_limit_min</th>\n",
              "      <td>0.056069</td>\n",
              "      <td>0.025875</td>\n",
              "      <td>0.020663</td>\n",
              "      <td>0.041572</td>\n",
              "      <td>0.110802</td>\n",
              "      <td>0.345051</td>\n",
              "      <td>0.482202</td>\n",
              "      <td>0.408069</td>\n",
              "      <td>0.262358</td>\n",
              "      <td>-0.024505</td>\n",
              "      <td>0.004561</td>\n",
              "      <td>-0.008728</td>\n",
              "      <td>0.006807</td>\n",
              "      <td>0.339099</td>\n",
              "      <td>0.021875</td>\n",
              "      <td>0.021903</td>\n",
              "      <td>0.557028</td>\n",
              "      <td>0.071269</td>\n",
              "      <td>-0.027781</td>\n",
              "      <td>0.051937</td>\n",
              "      <td>0.052835</td>\n",
              "      <td>0.422475</td>\n",
              "      <td>0.487281</td>\n",
              "      <td>0.171448</td>\n",
              "      <td>0.696178</td>\n",
              "      <td>0.448905</td>\n",
              "      <td>0.135330</td>\n",
              "      <td>0.015908</td>\n",
              "      <td>0.273460</td>\n",
              "      <td>0.054596</td>\n",
              "      <td>0.697819</td>\n",
              "      <td>0.007602</td>\n",
              "      <td>0.496886</td>\n",
              "      <td>0.015786</td>\n",
              "      <td>0.276653</td>\n",
              "      <td>0.010888</td>\n",
              "      <td>-0.007312</td>\n",
              "      <td>-0.003909</td>\n",
              "      <td>0.014146</td>\n",
              "      <td>0.433308</td>\n",
              "      <td>...</td>\n",
              "      <td>-0.011485</td>\n",
              "      <td>0.047307</td>\n",
              "      <td>0.012427</td>\n",
              "      <td>0.020283</td>\n",
              "      <td>0.454799</td>\n",
              "      <td>0.011663</td>\n",
              "      <td>0.011660</td>\n",
              "      <td>0.016527</td>\n",
              "      <td>0.018068</td>\n",
              "      <td>0.000090</td>\n",
              "      <td>-0.015005</td>\n",
              "      <td>0.037491</td>\n",
              "      <td>0.009858</td>\n",
              "      <td>0.110802</td>\n",
              "      <td>0.418650</td>\n",
              "      <td>0.472903</td>\n",
              "      <td>0.010563</td>\n",
              "      <td>0.110802</td>\n",
              "      <td>0.086750</td>\n",
              "      <td>0.023190</td>\n",
              "      <td>0.425009</td>\n",
              "      <td>0.691941</td>\n",
              "      <td>0.020536</td>\n",
              "      <td>0.367518</td>\n",
              "      <td>0.290058</td>\n",
              "      <td>0.071812</td>\n",
              "      <td>0.052835</td>\n",
              "      <td>0.400692</td>\n",
              "      <td>0.023363</td>\n",
              "      <td>-0.003916</td>\n",
              "      <td>0.014355</td>\n",
              "      <td>0.024312</td>\n",
              "      <td>0.012665</td>\n",
              "      <td>0.476693</td>\n",
              "      <td>0.699230</td>\n",
              "      <td>0.572638</td>\n",
              "      <td>0.020555</td>\n",
              "      <td>1.000000</td>\n",
              "      <td>0.656541</td>\n",
              "      <td>0.252157</td>\n",
              "    </tr>\n",
              "    <tr>\n",
              "      <th>b_Credit card_num_1</th>\n",
              "      <td>0.052718</td>\n",
              "      <td>0.026127</td>\n",
              "      <td>0.015256</td>\n",
              "      <td>0.030708</td>\n",
              "      <td>0.150778</td>\n",
              "      <td>0.391251</td>\n",
              "      <td>0.521019</td>\n",
              "      <td>0.422918</td>\n",
              "      <td>0.303631</td>\n",
              "      <td>-0.014415</td>\n",
              "      <td>0.008698</td>\n",
              "      <td>0.000223</td>\n",
              "      <td>0.012566</td>\n",
              "      <td>0.371527</td>\n",
              "      <td>0.018629</td>\n",
              "      <td>0.005008</td>\n",
              "      <td>0.600170</td>\n",
              "      <td>0.066721</td>\n",
              "      <td>-0.033274</td>\n",
              "      <td>0.048113</td>\n",
              "      <td>0.051334</td>\n",
              "      <td>0.450141</td>\n",
              "      <td>0.520325</td>\n",
              "      <td>0.201012</td>\n",
              "      <td>0.750594</td>\n",
              "      <td>0.498711</td>\n",
              "      <td>0.230038</td>\n",
              "      <td>0.006193</td>\n",
              "      <td>0.319962</td>\n",
              "      <td>0.039075</td>\n",
              "      <td>0.752334</td>\n",
              "      <td>0.002268</td>\n",
              "      <td>0.567501</td>\n",
              "      <td>0.008272</td>\n",
              "      <td>0.323667</td>\n",
              "      <td>0.011383</td>\n",
              "      <td>-0.005965</td>\n",
              "      <td>-0.008610</td>\n",
              "      <td>0.008474</td>\n",
              "      <td>0.564809</td>\n",
              "      <td>...</td>\n",
              "      <td>-0.008027</td>\n",
              "      <td>0.055397</td>\n",
              "      <td>0.006665</td>\n",
              "      <td>0.012345</td>\n",
              "      <td>0.503406</td>\n",
              "      <td>0.001860</td>\n",
              "      <td>0.003540</td>\n",
              "      <td>0.008766</td>\n",
              "      <td>0.012122</td>\n",
              "      <td>-0.003989</td>\n",
              "      <td>-0.013422</td>\n",
              "      <td>0.023291</td>\n",
              "      <td>0.009740</td>\n",
              "      <td>0.150778</td>\n",
              "      <td>0.613946</td>\n",
              "      <td>0.486328</td>\n",
              "      <td>0.006513</td>\n",
              "      <td>0.150778</td>\n",
              "      <td>0.097464</td>\n",
              "      <td>0.016866</td>\n",
              "      <td>0.406961</td>\n",
              "      <td>0.746521</td>\n",
              "      <td>0.005196</td>\n",
              "      <td>0.471750</td>\n",
              "      <td>0.411610</td>\n",
              "      <td>0.070451</td>\n",
              "      <td>0.051334</td>\n",
              "      <td>0.487103</td>\n",
              "      <td>0.015334</td>\n",
              "      <td>-0.010501</td>\n",
              "      <td>0.003814</td>\n",
              "      <td>0.012918</td>\n",
              "      <td>-0.000446</td>\n",
              "      <td>0.700158</td>\n",
              "      <td>0.754257</td>\n",
              "      <td>0.609758</td>\n",
              "      <td>0.011643</td>\n",
              "      <td>0.656541</td>\n",
              "      <td>1.000000</td>\n",
              "      <td>0.332610</td>\n",
              "    </tr>\n",
              "    <tr>\n",
              "      <th>b_active_all_dur_max</th>\n",
              "      <td>0.016068</td>\n",
              "      <td>0.014740</td>\n",
              "      <td>0.015190</td>\n",
              "      <td>0.026045</td>\n",
              "      <td>0.241113</td>\n",
              "      <td>0.230099</td>\n",
              "      <td>0.234731</td>\n",
              "      <td>0.168124</td>\n",
              "      <td>0.471370</td>\n",
              "      <td>0.011693</td>\n",
              "      <td>0.015200</td>\n",
              "      <td>0.021001</td>\n",
              "      <td>0.020385</td>\n",
              "      <td>0.136841</td>\n",
              "      <td>0.033281</td>\n",
              "      <td>0.023058</td>\n",
              "      <td>0.172942</td>\n",
              "      <td>0.025068</td>\n",
              "      <td>0.004041</td>\n",
              "      <td>0.029053</td>\n",
              "      <td>0.028642</td>\n",
              "      <td>0.232761</td>\n",
              "      <td>0.263748</td>\n",
              "      <td>0.108978</td>\n",
              "      <td>0.313810</td>\n",
              "      <td>0.345360</td>\n",
              "      <td>0.127181</td>\n",
              "      <td>0.022182</td>\n",
              "      <td>0.305449</td>\n",
              "      <td>-0.010109</td>\n",
              "      <td>0.306764</td>\n",
              "      <td>0.023885</td>\n",
              "      <td>0.318728</td>\n",
              "      <td>0.017777</td>\n",
              "      <td>0.330480</td>\n",
              "      <td>0.025300</td>\n",
              "      <td>0.005542</td>\n",
              "      <td>0.007886</td>\n",
              "      <td>0.015077</td>\n",
              "      <td>0.405576</td>\n",
              "      <td>...</td>\n",
              "      <td>0.006077</td>\n",
              "      <td>0.039258</td>\n",
              "      <td>0.024715</td>\n",
              "      <td>0.014306</td>\n",
              "      <td>0.258914</td>\n",
              "      <td>0.005903</td>\n",
              "      <td>0.021035</td>\n",
              "      <td>0.024158</td>\n",
              "      <td>-0.000604</td>\n",
              "      <td>0.010115</td>\n",
              "      <td>0.010889</td>\n",
              "      <td>0.006919</td>\n",
              "      <td>0.019773</td>\n",
              "      <td>0.241113</td>\n",
              "      <td>0.365545</td>\n",
              "      <td>0.144585</td>\n",
              "      <td>0.022528</td>\n",
              "      <td>0.241113</td>\n",
              "      <td>0.045434</td>\n",
              "      <td>0.030857</td>\n",
              "      <td>0.130319</td>\n",
              "      <td>0.269626</td>\n",
              "      <td>0.026993</td>\n",
              "      <td>0.381778</td>\n",
              "      <td>0.377040</td>\n",
              "      <td>0.030591</td>\n",
              "      <td>0.028642</td>\n",
              "      <td>0.330243</td>\n",
              "      <td>0.007903</td>\n",
              "      <td>0.014306</td>\n",
              "      <td>0.031802</td>\n",
              "      <td>0.026672</td>\n",
              "      <td>0.024866</td>\n",
              "      <td>0.369401</td>\n",
              "      <td>0.308543</td>\n",
              "      <td>0.200573</td>\n",
              "      <td>0.029261</td>\n",
              "      <td>0.252157</td>\n",
              "      <td>0.332610</td>\n",
              "      <td>1.000000</td>\n",
              "    </tr>\n",
              "  </tbody>\n",
              "</table>\n",
              "<p>164 rows × 164 columns</p>\n",
              "</div>"
            ],
            "text/plain": [
              "                           FLAG_WORK_PHONE  ...  b_active_all_dur_max\n",
              "FLAG_WORK_PHONE                   1.000000  ...              0.016068\n",
              "REG_CITY_NOT_LIVE_CITY            0.072000  ...              0.014740\n",
              "REG_CITY_NOT_WORK_CITY            0.121056  ...              0.015190\n",
              "FLAG_DOCUMENT_3                   0.058850  ...              0.026045\n",
              "b_last_closed_Credit card        -0.009527  ...              0.241113\n",
              "...                                    ...  ...                   ...\n",
              "b_all_num                         0.060986  ...              0.200573\n",
              "ENTRANCES_AVG                     0.044151  ...              0.029261\n",
              "b_limit_min                       0.056069  ...              0.252157\n",
              "b_Credit card_num_1               0.052718  ...              0.332610\n",
              "b_active_all_dur_max              0.016068  ...              1.000000\n",
              "\n",
              "[164 rows x 164 columns]"
            ]
          },
          "metadata": {
            "tags": []
          },
          "execution_count": 94
        }
      ]
    },
    {
      "cell_type": "code",
      "metadata": {
        "id": "5mi9VzWJn0MS"
      },
      "source": [
        "features = correlations_woe.columns\n",
        "corr = []\n",
        "for i in range(len(features)-1):\n",
        "  for j in range(i+1, len(features)):\n",
        "    if abs(correlations_woe.iloc[i, j]) >= 0.8:\n",
        "       if iv_rev.loc[features[i], 'iv'] > iv_rev.loc[features[j], 'iv']:\n",
        "         corr.append(features[j])\n",
        "       else:\n",
        "         corr.append(features[i])\n",
        "woe_train_rev1 = woe_train_rev1.drop(columns=corr)\n",
        "woe_valid_rev1 = woe_valid_rev1.drop(columns=corr)\n",
        "woe_test_rev1 = woe_test_rev1.drop(columns=corr)"
      ],
      "execution_count": null,
      "outputs": []
    },
    {
      "cell_type": "code",
      "metadata": {
        "colab": {
          "base_uri": "https://localhost:8080/"
        },
        "id": "o6LqBIOin6ZR",
        "outputId": "222db843-cd38-4ecf-db7a-741196e0f3ff"
      },
      "source": [
        "from sklearn.linear_model import LogisticRegression\n",
        "best_g = 0\n",
        "best_c = 0\n",
        "for c in [0.1, 0.3, 0.5, 0.7, 1]:\n",
        "  clf = LogisticRegression(random_state=42, C=c).fit(woe_train_rev1, y_train_rev)\n",
        "  pred = clf.predict_proba(woe_valid_rev1)\n",
        "  er = Gini(y_valid_rev, pred[:, 1])\n",
        "  if best_g == 0 or er > best_g:\n",
        "    best_g = er\n",
        "    best_c = c\n",
        "print('best Gini =', best_g, '\\nbest C =', best_c)"
      ],
      "execution_count": null,
      "outputs": [
        {
          "output_type": "stream",
          "text": [
            "best Gini = 0.4398526845343136 \n",
            "best C = 0.1\n"
          ],
          "name": "stdout"
        }
      ]
    },
    {
      "cell_type": "code",
      "metadata": {
        "colab": {
          "base_uri": "https://localhost:8080/"
        },
        "id": "chCX1l_NNjoq",
        "outputId": "f927a6dc-edff-4969-c97e-6231e814cb23"
      },
      "source": [
        "clf = LogisticRegression(random_state=42, C=best_c).fit(woe_train_rev, y_train_rev)\n",
        "pred = clf.predict_proba(woe_test_rev)\n",
        "print('test Gini =', Gini(y_test_rev, pred[:, 1]))\n",
        "print('test AUC_ROC =', roc_auc_score(y_test_rev.values, pred[:, 1]))"
      ],
      "execution_count": null,
      "outputs": [
        {
          "output_type": "stream",
          "text": [
            "test Gini = 0.45711226910278047\n",
            "test AUC_ROC = 0.7285561345513902\n"
          ],
          "name": "stdout"
        }
      ]
    },
    {
      "cell_type": "code",
      "metadata": {
        "id": "jGxFTpE9VzT_"
      },
      "source": [
        "features_rev = []\n",
        "prev_gini = 0\n",
        "while len(features_rev) < 30:\n",
        "    f = 0\n",
        "    best_change = -1\n",
        "    for i in range(woe_train_rev1.shape[1]):\n",
        "        if (~(i in features_rev)):\n",
        "            clf = LogisticRegression(random_state=42, C=best_c)\n",
        "            features_rev.append(i)\n",
        "            clf.fit(woe_train_rev1.iloc[:, features_rev], y_train_rev)\n",
        "            pred = clf.predict_proba(woe_valid_rev1.iloc[:, features_rev])\n",
        "            gini = Gini(y_valid_rev, pred[:, 1])\n",
        "            features_rev.pop()\n",
        "            if ((best_change == -1) | ((gini - prev_gini) > best_change)):\n",
        "                best_change = gini - prev_gini\n",
        "                f = i\n",
        "    features_rev.append(f)"
      ],
      "execution_count": null,
      "outputs": []
    },
    {
      "cell_type": "code",
      "metadata": {
        "id": "I7ZRjDNxYOGj"
      },
      "source": [
        "woe_train_rev1 = woe_train_rev1.iloc[:, features_rev]\n",
        "woe_valid_rev = woe_valid_rev1.iloc[:, features_rev]\n",
        "woe_test_rev1 = woe_test_rev1.iloc[:, features_rev]\n",
        "woe_train_rev1.to_csv('woe_train_rev1.csv', index=True)\n",
        "woe_valid_rev1.to_csv('woe_valid_rev1.csv', index=True)\n",
        "woe_test_rev1.to_csv('woe_test_rev1.csv', index=True)"
      ],
      "execution_count": null,
      "outputs": []
    },
    {
      "cell_type": "code",
      "metadata": {
        "id": "KE4H-j3jV_2K"
      },
      "source": [
        "clf = LogisticRegression(random_state=42, C=best_c)\n",
        "clf.fit(woe_train_rev1, y_train_rev)\n",
        "pred = clf.predict_proba(woe_valid_rev1)\n",
        "prev_gini = Gini(y_valid_rev, pred[:, 1])\n",
        "features_rev = np.arange(0, woe_train_rev1.shape[1])\n",
        "while len(features_rev) > 15:\n",
        "  f = 0\n",
        "  best_change = -1\n",
        "  for i in range(len(features_rev)):\n",
        "    clf = LogisticRegression(random_state=42, C=best_c)\n",
        "    feat = np.delete(features_rev, i)\n",
        "    clf.fit(woe_train_rev1.iloc[:, feat], y_train_rev)\n",
        "    pred = clf.predict_proba(woe_valid_rev1.iloc[:, feat])\n",
        "    gini = Gini(y_valid_rev, pred[:, 1])\n",
        "    if ((gini - prev_gini) > best_change):\n",
        "      best_change = gini - prev_gini\n",
        "      f = i\n",
        "  features_rev = np.delete(features_rev, f)\n",
        "  prev_gini += best_change\n",
        "len(features_rev)"
      ],
      "execution_count": null,
      "outputs": []
    },
    {
      "cell_type": "code",
      "metadata": {
        "id": "2woA_cOPLgNG"
      },
      "source": [
        "best_g = 0\n",
        "best_c_rev = 0\n",
        "for c in [0.1, 0.3, 0.5, 0.7, 1]:\n",
        "  clf = LogisticRegression(random_state=42, C=c).fit(woe_train_rev1, y_train_rev)\n",
        "  pred = clf.predict_proba(woe_valid_rev1)\n",
        "  er = Gini(y_valid_rev, pred[:, 1])\n",
        "  if best_g == 0 or er > best_g:\n",
        "    best_g = er\n",
        "    best_c_rev = c\n",
        "print('best Gini =', best_g, '\\nbest C =', best_c_rev)"
      ],
      "execution_count": null,
      "outputs": []
    },
    {
      "cell_type": "code",
      "metadata": {
        "id": "H1z4n4jgWJb-"
      },
      "source": [
        "woe_train_all_rev = pd.concat([woe_train_rev1, woe_valid_rev1])\n",
        "y_train_all_rev = pd.concat([y_train_rev, y_valid_rev])\n",
        "clf = LogisticRegression(random_state=42, C=best_c_rev).fit(woe_train_all_rev.iloc[:, features_rev], y_train_all_rev)\n",
        "pred = clf.predict_proba(woe_test_rev1.iloc[:, features_rev])\n",
        "print('test Gini =', Gini(y_test_rev, pred[:, 1]))\n",
        "print('test AUC_ROC =', roc_auc_score(y_test_rev.values, pred[:, 1]))"
      ],
      "execution_count": null,
      "outputs": []
    },
    {
      "cell_type": "code",
      "metadata": {
        "id": "N8JZpPS8p89p"
      },
      "source": [
        "woe_train_all_rev.iloc[:, features_rev].to_csv('woe_all_train_rev_final.csv', index=True)\n",
        "woe_test_rev1.iloc[:, features_rev].to_csv('woe_test_rev_final.csv', index=True)"
      ],
      "execution_count": null,
      "outputs": []
    },
    {
      "cell_type": "markdown",
      "metadata": {
        "id": "hVxrpfc_OmFT"
      },
      "source": [
        "##Результат на нашем тесте"
      ]
    },
    {
      "cell_type": "code",
      "metadata": {
        "id": "uuMlbbl2GPQu"
      },
      "source": [
        "clf_cash = LogisticRegression(random_state=42, C=best_c_cash).fit(woe_train_all_cash.iloc[:, features_cash], y_train_all_cash)\n",
        "pred_cash = pd.DataFrame(clf_cash.predict_proba(woe_test_cash1.iloc[:, features_cash]), index=woe_test_cash1.index)\n",
        "\n",
        "clf_rev = LogisticRegression(random_state=42, C=best_c_rev).fit(woe_train_all_rev.iloc[:, features_rev], y_train_all_rev)\n",
        "pred_rev = pd.DataFrame(clf_rev.predict_proba(woe_test_rev1.iloc[:, features_rev]), index=woe_test_rev1.index)\n",
        "\n",
        "pred_test = pd.concat([pred_cash, pred_rev])\n",
        "y_test = pd.concat([y_test_cash, y_test_rev])\n",
        "\n",
        "print('test Gini =', Gini(y_test, pred_test.iloc[:,1]))\n",
        "print('test AUC_ROC =', roc_auc_score(y_test.values, pred_test.iloc[:,1]))"
      ],
      "execution_count": null,
      "outputs": []
    },
    {
      "cell_type": "markdown",
      "metadata": {
        "id": "-NPbJHuxtmZR"
      },
      "source": [
        "## Построение скоркарты"
      ]
    },
    {
      "cell_type": "code",
      "metadata": {
        "id": "Np8oIdTbVGgd"
      },
      "source": [
        "import pandas as pd \n",
        "import numpy as np\n",
        "\n",
        "import warnings\n",
        "warnings.filterwarnings('ignore')"
      ],
      "execution_count": 1,
      "outputs": []
    },
    {
      "cell_type": "code",
      "metadata": {
        "id": "GbTOzUGwVP6c"
      },
      "source": [
        "from sklearn.metrics import roc_auc_score\n",
        "\n",
        "def Gini(y_true, y_pred):\n",
        "  return (2*roc_auc_score(y_true.values, y_pred) - 1)"
      ],
      "execution_count": null,
      "outputs": []
    },
    {
      "cell_type": "code",
      "metadata": {
        "id": "u3C6XcNW_9hu"
      },
      "source": [
        "woe_test_cash = pd.read_csv('/content/drive/My Drive/woe_test_cash1.csv').set_index('SK_ID_CURR')\n",
        "woe_train_cash = pd.read_csv('/content/drive/My Drive/woe_train_cash1.csv').set_index('SK_ID_CURR')\n",
        "woe_test_rev = pd.read_csv('/content/drive/My Drive/woe_test_rev1.csv').set_index('SK_ID_CURR')\n",
        "woe_train_rev = pd.read_csv('/content/drive/My Drive/woe_train_rev1.csv').set_index('SK_ID_CURR')"
      ],
      "execution_count": null,
      "outputs": []
    },
    {
      "cell_type": "code",
      "metadata": {
        "id": "lKfTyBCTuxqA"
      },
      "source": [
        "y_test_cash = pd.read_csv('/content/drive/My Drive/y_test_cash.csv').set_index('SK_ID_CURR')\n",
        "y_train_cash = pd.read_csv('/content/drive/My Drive/y_train_cash.csv').set_index('SK_ID_CURR')\n",
        "y_test_rev = pd.read_csv('/content/drive/My Drive/y_test_rev.csv').set_index('SK_ID_CURR')\n",
        "y_train_rev = pd.read_csv('/content/drive/My Drive/y_train_rev.csv').set_index('SK_ID_CURR')"
      ],
      "execution_count": null,
      "outputs": []
    },
    {
      "cell_type": "code",
      "metadata": {
        "colab": {
          "base_uri": "https://localhost:8080/"
        },
        "id": "S76-VqHtWJxA",
        "outputId": "17f55cf8-3fde-478e-9b3a-432688c3a8bd"
      },
      "source": [
        "from sklearn.linear_model import LogisticRegression\n",
        "clf_rev = LogisticRegression(random_state=42, C=0.1).fit(woe_train_rev, y_train_rev)\n",
        "pred_rev = clf_rev.predict_proba(woe_test_rev)\n",
        "print('test Gini =', Gini(y_test_rev, pred_rev[:, 1]))\n",
        "print('test AUC_ROC =', roc_auc_score(y_test_rev.values, pred_rev[:, 1]))\n",
        "\n",
        "clf_cash = LogisticRegression(random_state=42, C=0.1).fit(woe_train_cash, y_train_cash)\n",
        "pred_cash = clf_cash.predict_proba(woe_test_cash)\n",
        "print('test Gini =', Gini(y_test_cash, pred_cash[:, 1]))\n",
        "print('test AUC_ROC =', roc_auc_score(y_test_cash.values, pred_cash[:, 1]))"
      ],
      "execution_count": null,
      "outputs": [
        {
          "output_type": "stream",
          "text": [
            "test Gini = 0.48576706507755474\n",
            "test AUC_ROC = 0.7428835325387774\n",
            "test Gini = 0.47251207062438483\n",
            "test AUC_ROC = 0.7362560353121924\n"
          ],
          "name": "stdout"
        }
      ]
    },
    {
      "cell_type": "code",
      "metadata": {
        "id": "qK1Rxi4ODcn9"
      },
      "source": [
        "coef_cash = pd.DataFrame(columns = ['feature', 'coef'])\n",
        "coef_cash['feature'] = woe_train_cash.columns.values\n",
        "coef_cash['coef'] = clf_cash.coef_[0]\n",
        "\n",
        "coef_rev = pd.DataFrame(columns = ['feature', 'coef'])\n",
        "coef_rev['feature'] = woe_train_rev.columns.values\n",
        "coef_rev['coef'] = clf_rev.coef_[0]"
      ],
      "execution_count": null,
      "outputs": []
    },
    {
      "cell_type": "code",
      "metadata": {
        "colab": {
          "base_uri": "https://localhost:8080/"
        },
        "id": "6xRW3HbCDwns",
        "outputId": "0b2836dd-ff68-4cb5-dc2e-a2adc74a8ac3"
      },
      "source": [
        "coef_cash = coef_cash[coef_cash['coef'] < -0.3]\n",
        "clf_cash = LogisticRegression(random_state=42, C=0.1).fit(woe_train_cash[coef_cash['feature']], y_train_cash)\n",
        "pred_cash = clf_cash.predict_proba(woe_test_cash[coef_cash['feature']])\n",
        "print('test Gini =', Gini(y_test_cash, pred_cash[:, 1]))\n",
        "print('test AUC_ROC =', roc_auc_score(y_test_cash.values, pred_cash[:, 1]))"
      ],
      "execution_count": null,
      "outputs": [
        {
          "output_type": "stream",
          "text": [
            "test Gini = 0.4604392095347627\n",
            "test AUC_ROC = 0.7302196047673813\n"
          ],
          "name": "stdout"
        }
      ]
    },
    {
      "cell_type": "code",
      "metadata": {
        "colab": {
          "base_uri": "https://localhost:8080/"
        },
        "id": "5AgYPepNEdQq",
        "outputId": "f9237928-5d21-4d1c-8d06-fa3c5f7ad3a1"
      },
      "source": [
        "coef_rev = coef_rev[coef_rev['coef'] < -0.3]\n",
        "clf_rev = LogisticRegression(random_state=42, C=0.1).fit(woe_train_rev[coef_rev['feature']], y_train_rev)\n",
        "pred_rev = clf_rev.predict_proba(woe_test_rev[coef_rev['feature']])\n",
        "print('test Gini =', Gini(y_test_rev, pred_rev[:, 1]))\n",
        "print('test AUC_ROC =', roc_auc_score(y_test_rev.values, pred_rev[:, 1]))"
      ],
      "execution_count": null,
      "outputs": [
        {
          "output_type": "stream",
          "text": [
            "test Gini = 0.4804451459479342\n",
            "test AUC_ROC = 0.7402225729739671\n"
          ],
          "name": "stdout"
        }
      ]
    },
    {
      "cell_type": "code",
      "metadata": {
        "colab": {
          "base_uri": "https://localhost:8080/"
        },
        "id": "IzDl_fEmE2Ow",
        "outputId": "f6d415c0-29a4-49e4-b7dc-37fbbb6604cb"
      },
      "source": [
        "pred_test = pd.concat([pd.DataFrame(pred_cash, index=woe_test_cash.index), pd.DataFrame(pred_rev, index=woe_test_rev.index)])\n",
        "y_test = pd.concat([y_test_cash, y_test_rev])\n",
        "\n",
        "print('test Gini =', Gini(y_test, pred_test.iloc[:,1]))\n",
        "print('test AUC_ROC =', roc_auc_score(y_test.values, pred_test.iloc[:,1]))"
      ],
      "execution_count": null,
      "outputs": [
        {
          "output_type": "stream",
          "text": [
            "test Gini = 0.4652468071881404\n",
            "test AUC_ROC = 0.7326234035940702\n"
          ],
          "name": "stdout"
        }
      ]
    },
    {
      "cell_type": "code",
      "metadata": {
        "id": "0b281Cp-GUwB"
      },
      "source": [
        "scorecard_cash = pd.read_csv('/content/drive/My Drive/scorecard_cash.csv').set_index('Unnamed: 0').rename_axis(None, axis=1).rename_axis('', axis=0)\n",
        "scorecard_rev = pd.read_csv('/content/drive/My Drive/scorecard_rev.csv').set_index('Unnamed: 0').rename_axis(None, axis=1).rename_axis('', axis=0)\n",
        "iv_cash = pd.read_csv('/content/drive/My Drive/iv_cash.csv')\n",
        "iv_rev = pd.read_csv('/content/drive/My Drive/iv_rev.csv')"
      ],
      "execution_count": null,
      "outputs": []
    },
    {
      "cell_type": "code",
      "metadata": {
        "id": "BhkClSkf37wl"
      },
      "source": [
        "scorecard_cash['iv'] = 0\n",
        "for f in scorecard_cash['feature'].unique():\n",
        "  scorecard_cash.loc[scorecard_cash['feature'] == f, 'iv'] = iv_cash[iv_cash['Unnamed: 0'] == f]['iv'].values[0]"
      ],
      "execution_count": null,
      "outputs": []
    },
    {
      "cell_type": "code",
      "metadata": {
        "id": "t7jDD-Is4Cnk"
      },
      "source": [
        "scorecard_rev['iv'] = 0\n",
        "for f in scorecard_rev['feature'].unique():\n",
        "  scorecard_rev.loc[scorecard_rev['feature'] == f, 'iv'] = iv_rev[iv_rev['Unnamed: 0'] == f]['iv'].values[0]"
      ],
      "execution_count": null,
      "outputs": []
    },
    {
      "cell_type": "code",
      "metadata": {
        "id": "iJllACXGYrsk"
      },
      "source": [
        "name_features_cash = list(coef_cash['feature'])\n",
        "name_features_rev = list(coef_rev['feature'])\n",
        "scorecard_cash['feature'] = np.vectorize(lambda x: x if x in name_features_cash else '')(scorecard_cash['feature'])\n",
        "scorecard_cash = scorecard_cash[scorecard_cash['feature'] != '']\n",
        "scorecard_rev['feature'] = np.vectorize(lambda x: x if x in name_features_rev else '')(scorecard_rev['feature'])\n",
        "scorecard_rev = scorecard_rev[scorecard_rev['feature'] != '']"
      ],
      "execution_count": null,
      "outputs": []
    },
    {
      "cell_type": "code",
      "metadata": {
        "id": "wDITWDrP4aoB"
      },
      "source": [
        "scorecard_cash = scorecard_cash.sort_values(by='iv', ascending=False)\n",
        "scorecard_rev = scorecard_rev.sort_values(by='iv', ascending=False)\n",
        "scorecard_cash.index = np.arange(0, scorecard_cash.shape[0])\n",
        "scorecard_rev.index = np.arange(0, scorecard_rev.shape[0])"
      ],
      "execution_count": null,
      "outputs": []
    },
    {
      "cell_type": "code",
      "metadata": {
        "id": "AirQ9XcdqZaO"
      },
      "source": [
        "R = 40 / np.log(2)\n",
        "A = 600 - R * np.log(72)\n",
        "scorecard_cash_final['score'] = 0\n",
        "for f in scorecard_cash_final['feature'].unique():\n",
        "  scorecard_cash_final.loc[scorecard_cash_final['feature'] == f, 'score'] = (scorecard_cash_final[scorecard_cash_final['feature'] == f]['WoE']*coef_cash[coef_cash['feature'] == f]['coef'].values[0] - clf_cash.intercept_[0]/17)*R + A/17\n",
        "scorecard_rev_final['score'] = 0\n",
        "for f in scorecard_rev_final['feature'].unique():\n",
        "  scorecard_rev_final.loc[scorecard_rev_final['feature'] == f, 'score'] = (scorecard_rev_final[scorecard_rev_final['feature'] == f]['WoE']*coef_rev[coef_rev['feature'] == f]['coef'].values[0] - clf_rev.intercept_[0]/16)*R + A/16"
      ],
      "execution_count": null,
      "outputs": []
    },
    {
      "cell_type": "code",
      "metadata": {
        "id": "hmXmcq2KTIJ9"
      },
      "source": [
        "scorecard_cash_final = pd.read_csv('/content/drive/My Drive/scorecard_cash_final.csv').set_index('Unnamed: 0').rename_axis(None, axis=1).rename_axis('', axis=0)\n",
        "scorecard_rev_final = pd.read_csv('/content/drive/My Drive/scorecard_rev_final.csv').set_index('Unnamed: 0').rename_axis(None, axis=1).rename_axis('', axis=0)"
      ],
      "execution_count": 14,
      "outputs": []
    },
    {
      "cell_type": "markdown",
      "metadata": {
        "id": "LF24ZBqMnBg9"
      },
      "source": [
        "#### Парсинг строкового представление интервалов в pd.Interval"
      ]
    },
    {
      "cell_type": "code",
      "metadata": {
        "id": "VRj3-NV3GyFZ"
      },
      "source": [
        "res_res = []\n",
        "for i in range(scorecard_cash_final.shape[0]):\n",
        "  s = scorecard_cash_final.loc[i, 'Value']\n",
        "  j = 0\n",
        "  if s[:9] != '[Interval':\n",
        "    res = [[s]]\n",
        "    res_res.append(res)\n",
        "    continue\n",
        "  res = []\n",
        "  while j < len(s):\n",
        "    while j < len(s) and s[j] != '(':\n",
        "      if s[j] == 'N':\n",
        "        res.append(['NAN'])\n",
        "        j += 3\n",
        "      else:\n",
        "        j += 1\n",
        "    first = ''\n",
        "    j += 1\n",
        "    while j < len(s) and s[j] != ',':\n",
        "      first += s[j]\n",
        "      j += 1\n",
        "    j += 1\n",
        "    second = ''\n",
        "    while j < len(s) and s[j] != ',':\n",
        "      second += s[j]\n",
        "      j += 1\n",
        "    if first != '' and second != '':\n",
        "      res.append(pd.Interval(left=float(first), right=float(second), closed='right'))  \n",
        "  res_res.append(res)\n",
        "\n",
        "    \n"
      ],
      "execution_count": 3,
      "outputs": []
    },
    {
      "cell_type": "code",
      "metadata": {
        "id": "CP6Fn2S6m_bW"
      },
      "source": [
        "scorecard_cash_final.loc[:, 'Value'] = res_res"
      ],
      "execution_count": null,
      "outputs": []
    },
    {
      "cell_type": "code",
      "metadata": {
        "id": "9Gqo5fwQ7vZh"
      },
      "source": [
        "res_res = []\n",
        "for i in range(scorecard_rev_final.shape[0]):\n",
        "  s = scorecard_rev_final.loc[i, 'Value']\n",
        "  j = 0\n",
        "  if s[:9] != '[Interval':\n",
        "    res = [[s]]\n",
        "    res_res.append(res)\n",
        "    continue\n",
        "  res = []\n",
        "  while j < len(s):\n",
        "    while j < len(s) and s[j] != '(':\n",
        "      if s[j] == 'N':\n",
        "        res.append(['NAN'])\n",
        "        j += 3\n",
        "      else:\n",
        "        j += 1\n",
        "    first = ''\n",
        "    j += 1\n",
        "    while j < len(s) and s[j] != ',':\n",
        "      first += s[j]\n",
        "      j += 1\n",
        "    j += 1\n",
        "    second = ''\n",
        "    while j < len(s) and s[j] != ',':\n",
        "      second += s[j]\n",
        "      j += 1\n",
        "    if first != '' and second != '':\n",
        "      res.append('('+str(first)+', '+str(second)+']')  \n",
        "  res_res.append(res)\n",
        "\n",
        "    \n"
      ],
      "execution_count": 24,
      "outputs": []
    },
    {
      "cell_type": "code",
      "metadata": {
        "id": "7fLRUgOMMhBU"
      },
      "source": [
        "scorecard_rev_final.loc[:, 'Value'] = res_res"
      ],
      "execution_count": 25,
      "outputs": []
    },
    {
      "cell_type": "code",
      "metadata": {
        "id": "shE2bwCJnlNb"
      },
      "source": [
        "scorecard_cash_final.loc[:, 'WoE'] = np.round(scorecard_cash_final.loc[:, 'WoE'], decimals=3)\n",
        "scorecard_cash_final.loc[:, 'iv'] = np.round(scorecard_cash_final.loc[:, 'iv'], decimals=3)\n",
        "scorecard_cash_final.loc[:, 'score'] = np.round(scorecard_cash_final.loc[:, 'score'], decimals=3)\n",
        "scorecard_cash_final.to_csv('cash_beautiful.csv')"
      ],
      "execution_count": null,
      "outputs": []
    },
    {
      "cell_type": "code",
      "metadata": {
        "id": "i5Wno0dV-NXs"
      },
      "source": [
        "scorecard_rev_final.loc[:, 'WoE'] = np.round(scorecard_rev_final.loc[:, 'WoE'], decimals=3)\n",
        "scorecard_rev_final.loc[:, 'iv'] = np.round(scorecard_rev_final.loc[:, 'iv'], decimals=3)\n",
        "scorecard_rev_final.loc[:, 'score'] = np.round(scorecard_rev_final.loc[:, 'score'], decimals=3)\n",
        "scorecard_rev_final.to_csv('rev_beautiful.csv')"
      ],
      "execution_count": 26,
      "outputs": []
    },
    {
      "cell_type": "code",
      "metadata": {
        "id": "_tfyAhRtlK9t"
      },
      "source": [
        "from sklearn.model_selection import train_test_split\n",
        "a, valid_cash, b, y_valid_cash = train_test_split(train_cash, y_train_cash, test_size=0.2, random_state=11, stratify=y_train_cash)\n",
        "b, valid_rev, b, y_valid_rev = train_test_split(train_rev, y_train_rev, test_size=0.2, random_state=11, stratify=y_train_rev)"
      ],
      "execution_count": null,
      "outputs": []
    },
    {
      "cell_type": "code",
      "metadata": {
        "id": "QCfUFk5zMRch"
      },
      "source": [
        "test_cash = test_cash[scorecard_cash_final['feature'].unique()]\n",
        "test_rev = test_rev[scorecard_rev_final['feature'].unique()]"
      ],
      "execution_count": null,
      "outputs": []
    },
    {
      "cell_type": "code",
      "metadata": {
        "id": "7ZPoj3JJNhN6"
      },
      "source": [
        "test_cash = test_cash.fillna('NAN')\n",
        "test_rev = test_rev.fillna('NAN')"
      ],
      "execution_count": null,
      "outputs": []
    },
    {
      "cell_type": "code",
      "metadata": {
        "id": "NaihiH9Amk_C"
      },
      "source": [
        "valid_cash = valid_cash[scorecard_cash_final['feature'].unique()]\n",
        "valid_rev = valid_rev[scorecard_rev_final['feature'].unique()]\n",
        "valid_cash = valid_cash.fillna('NAN')\n",
        "valid_rev = valid_rev.fillna('NAN')"
      ],
      "execution_count": null,
      "outputs": []
    },
    {
      "cell_type": "code",
      "metadata": {
        "id": "7EnZ2MCsPd3T"
      },
      "source": [
        "score_cash = pd.Series(0, index=test_cash.index)\n",
        "score_rev = pd.Series(0, index=test_rev.index)"
      ],
      "execution_count": null,
      "outputs": []
    },
    {
      "cell_type": "code",
      "metadata": {
        "id": "iqqpbFognCqq"
      },
      "source": [
        "score_cash_valid = pd.Series(0, index=valid_cash.index)\n",
        "score_rev_valid = pd.Series(0, index=valid_rev.index)"
      ],
      "execution_count": null,
      "outputs": []
    },
    {
      "cell_type": "code",
      "metadata": {
        "id": "kMWcJqDTOe6q"
      },
      "source": [
        "for i in test_cash.index:\n",
        "  for f in scorecard_cash_final['feature'].unique():\n",
        "    val = test_cash.loc[i, f]\n",
        "    for n, row in scorecard_cash_final[scorecard_cash_final['feature'] == f].iterrows():\n",
        "      for interval in row['Value']:\n",
        "        if (type(val) == str and type(interval) == list) or type(val) == float:\n",
        "          if val in interval:\n",
        "            score_cash[i] += row['score']"
      ],
      "execution_count": null,
      "outputs": []
    },
    {
      "cell_type": "code",
      "metadata": {
        "id": "9C9L80IfnIM8"
      },
      "source": [
        "for i in valid_cash.index:\n",
        "  for f in scorecard_cash_final['feature'].unique():\n",
        "    val = valid_cash.loc[i, f]\n",
        "    for n, row in scorecard_cash_final[scorecard_cash_final['feature'] == f].iterrows():\n",
        "      for interval in row['Value']:\n",
        "        if (type(val) == str and type(interval) == list) or type(val) == float:\n",
        "          if val in interval:\n",
        "            score_cash_valid[i] += row['score']"
      ],
      "execution_count": null,
      "outputs": []
    },
    {
      "cell_type": "code",
      "metadata": {
        "id": "vwSHOIvMGhnS"
      },
      "source": [
        "for i in test_rev.index:\n",
        "  for f in scorecard_rev_final['feature'].unique():\n",
        "    val = test_rev.loc[i, f]\n",
        "    for n, row in scorecard_rev_final[scorecard_rev_final['feature'] == f].iterrows():\n",
        "      for interval in row['Value']:\n",
        "        if (type(val) == str and type(interval) == list) or type(val) == float:\n",
        "          if val in interval:\n",
        "            score_rev[i] += row['score']"
      ],
      "execution_count": null,
      "outputs": []
    },
    {
      "cell_type": "code",
      "metadata": {
        "id": "axB0EjA2nTtn"
      },
      "source": [
        "for i in valid_rev.index:\n",
        "  for f in scorecard_rev_final['feature'].unique():\n",
        "    val = valid_rev.loc[i, f]\n",
        "    for n, row in scorecard_rev_final[scorecard_rev_final['feature'] == f].iterrows():\n",
        "      for interval in row['Value']:\n",
        "        if (type(val) == str and type(interval) == list) or type(val) == float:\n",
        "          if val in interval:\n",
        "            score_rev_valid[i] += row['score']"
      ],
      "execution_count": null,
      "outputs": []
    },
    {
      "cell_type": "code",
      "metadata": {
        "id": "6pXgjPWqjaxf"
      },
      "source": [
        "test_cash_for_effect = pd.DataFrame(index = score_cash.index, columns=['target', 'score', 'sum'])\n",
        "test_cash_for_effect['target'] = y_test_cash\n",
        "test_cash_for_effect['score'] = score_cash\n",
        "test_cash_for_effect['sum'] = test.loc[score_cash.index, 'AMT_CREDIT']\n",
        "test_cash_for_effect.to_csv('test_cash_for_effect.csv')\n",
        "\n",
        "valid_cash_for_effect = pd.DataFrame(index = score_cash_valid.index, columns=['target', 'score', 'sum'])\n",
        "valid_cash_for_effect['target'] = y_valid_cash\n",
        "valid_cash_for_effect['score'] = score_cash_valid\n",
        "valid_cash_for_effect['sum'] = train.loc[score_cash_valid.index, 'AMT_CREDIT']\n",
        "valid_cash_for_effect.to_csv('valid_cash_for_effect.csv')\n",
        "\n",
        "test_rev_for_effect = pd.DataFrame(index = score_rev.index, columns=['target', 'score', 'sum'])\n",
        "test_rev_for_effect['target'] = y_test_rev\n",
        "test_rev_for_effect['score'] = score_rev\n",
        "test_rev_for_effect['sum'] = test.loc[score_rev.index, 'AMT_CREDIT']\n",
        "test_rev_for_effect.to_csv('test_rev_for_effect.csv')\n",
        "\n",
        "valid_rev_for_effect = pd.DataFrame(index = score_rev_valid.index, columns=['target', 'score', 'sum'])\n",
        "valid_rev_for_effect['target'] = y_valid_rev\n",
        "valid_rev_for_effect['score'] = score_rev_valid\n",
        "valid_rev_for_effect['sum'] = train.loc[score_rev_valid.index, 'AMT_CREDIT']\n",
        "valid_rev_for_effect.to_csv('valid_rev_for_effect.csv')"
      ],
      "execution_count": null,
      "outputs": []
    },
    {
      "cell_type": "markdown",
      "metadata": {
        "id": "ZVZT0OyfLHTQ"
      },
      "source": [
        "## Экономический эффект"
      ]
    },
    {
      "cell_type": "markdown",
      "metadata": {
        "id": "_WlEi0gULRso"
      },
      "source": [
        "Считаем что кредиты берутся на 3 года под 10 процентов годовых для потребов и 20 для возобновляемых\n",
        "Дифференцированный платеж (сумма долга должна уменьшаться равномерно), значит прибыль банка 0.1s+2/3 * 0.1s + 1/3 * 0.1s для потребов и 0.2s+2/3 * 0.2s + 1/3 * 0.2s для возобновляемых, причем для возоб. s=0.7*лимит (0.7 - процент утилизации)"
      ]
    },
    {
      "cell_type": "code",
      "metadata": {
        "id": "moQyntkLaPCQ"
      },
      "source": [
        "test_cash_for_effect = pd.read_csv('/content/drive/My Drive/test_cash_for_effect.csv').set_index('SK_ID_CURR')\n",
        "valid_cash_for_effect = pd.read_csv('/content/drive/My Drive/valid_cash_for_effect.csv').set_index('SK_ID_CURR')\n",
        "test_rev_for_effect = pd.read_csv('/content/drive/My Drive/test_rev_for_effect.csv').set_index('SK_ID_CURR')\n",
        "valid_rev_for_effect = pd.read_csv('/content/drive/My Drive/valid_rev_for_effect.csv').set_index('SK_ID_CURR')"
      ],
      "execution_count": null,
      "outputs": []
    },
    {
      "cell_type": "code",
      "metadata": {
        "id": "RCFdrWt5Mjcc"
      },
      "source": [
        "valid_cash_for_effect['pred'] = 0"
      ],
      "execution_count": null,
      "outputs": []
    },
    {
      "cell_type": "code",
      "metadata": {
        "colab": {
          "base_uri": "https://localhost:8080/",
          "height": 450
        },
        "id": "bEn08-2_NRlD",
        "outputId": "4d160ecd-e2ab-430c-ef11-478fa2531f2e"
      },
      "source": [
        "valid_cash_for_effect"
      ],
      "execution_count": null,
      "outputs": [
        {
          "output_type": "execute_result",
          "data": {
            "text/html": [
              "<div>\n",
              "<style scoped>\n",
              "    .dataframe tbody tr th:only-of-type {\n",
              "        vertical-align: middle;\n",
              "    }\n",
              "\n",
              "    .dataframe tbody tr th {\n",
              "        vertical-align: top;\n",
              "    }\n",
              "\n",
              "    .dataframe thead th {\n",
              "        text-align: right;\n",
              "    }\n",
              "</style>\n",
              "<table border=\"1\" class=\"dataframe\">\n",
              "  <thead>\n",
              "    <tr style=\"text-align: right;\">\n",
              "      <th></th>\n",
              "      <th>target</th>\n",
              "      <th>score</th>\n",
              "      <th>sum</th>\n",
              "      <th>pred</th>\n",
              "    </tr>\n",
              "    <tr>\n",
              "      <th>SK_ID_CURR</th>\n",
              "      <th></th>\n",
              "      <th></th>\n",
              "      <th></th>\n",
              "      <th></th>\n",
              "    </tr>\n",
              "  </thead>\n",
              "  <tbody>\n",
              "    <tr>\n",
              "      <th>254150</th>\n",
              "      <td>0</td>\n",
              "      <td>347</td>\n",
              "      <td>254700.0</td>\n",
              "      <td>0</td>\n",
              "    </tr>\n",
              "    <tr>\n",
              "      <th>161456</th>\n",
              "      <td>0</td>\n",
              "      <td>388</td>\n",
              "      <td>99504.0</td>\n",
              "      <td>0</td>\n",
              "    </tr>\n",
              "    <tr>\n",
              "      <th>186858</th>\n",
              "      <td>0</td>\n",
              "      <td>437</td>\n",
              "      <td>494550.0</td>\n",
              "      <td>0</td>\n",
              "    </tr>\n",
              "    <tr>\n",
              "      <th>149833</th>\n",
              "      <td>1</td>\n",
              "      <td>375</td>\n",
              "      <td>203760.0</td>\n",
              "      <td>0</td>\n",
              "    </tr>\n",
              "    <tr>\n",
              "      <th>260206</th>\n",
              "      <td>0</td>\n",
              "      <td>360</td>\n",
              "      <td>808650.0</td>\n",
              "      <td>0</td>\n",
              "    </tr>\n",
              "    <tr>\n",
              "      <th>...</th>\n",
              "      <td>...</td>\n",
              "      <td>...</td>\n",
              "      <td>...</td>\n",
              "      <td>...</td>\n",
              "    </tr>\n",
              "    <tr>\n",
              "      <th>134417</th>\n",
              "      <td>0</td>\n",
              "      <td>334</td>\n",
              "      <td>143910.0</td>\n",
              "      <td>0</td>\n",
              "    </tr>\n",
              "    <tr>\n",
              "      <th>438005</th>\n",
              "      <td>0</td>\n",
              "      <td>406</td>\n",
              "      <td>390447.0</td>\n",
              "      <td>0</td>\n",
              "    </tr>\n",
              "    <tr>\n",
              "      <th>320354</th>\n",
              "      <td>0</td>\n",
              "      <td>455</td>\n",
              "      <td>765000.0</td>\n",
              "      <td>0</td>\n",
              "    </tr>\n",
              "    <tr>\n",
              "      <th>383230</th>\n",
              "      <td>0</td>\n",
              "      <td>339</td>\n",
              "      <td>942300.0</td>\n",
              "      <td>0</td>\n",
              "    </tr>\n",
              "    <tr>\n",
              "      <th>357969</th>\n",
              "      <td>0</td>\n",
              "      <td>429</td>\n",
              "      <td>170640.0</td>\n",
              "      <td>0</td>\n",
              "    </tr>\n",
              "  </tbody>\n",
              "</table>\n",
              "<p>47300 rows × 4 columns</p>\n",
              "</div>"
            ],
            "text/plain": [
              "            target  score       sum  pred\n",
              "SK_ID_CURR                               \n",
              "254150           0    347  254700.0     0\n",
              "161456           0    388   99504.0     0\n",
              "186858           0    437  494550.0     0\n",
              "149833           1    375  203760.0     0\n",
              "260206           0    360  808650.0     0\n",
              "...            ...    ...       ...   ...\n",
              "134417           0    334  143910.0     0\n",
              "438005           0    406  390447.0     0\n",
              "320354           0    455  765000.0     0\n",
              "383230           0    339  942300.0     0\n",
              "357969           0    429  170640.0     0\n",
              "\n",
              "[47300 rows x 4 columns]"
            ]
          },
          "metadata": {
            "tags": []
          },
          "execution_count": 58
        }
      ]
    },
    {
      "cell_type": "code",
      "metadata": {
        "id": "A9kKiElEDWCY"
      },
      "source": [
        "start = valid_cash_for_effect['score'].min()\n",
        "finish = np.percentile(valid_cash_for_effect['score'], 50)"
      ],
      "execution_count": 83,
      "outputs": []
    },
    {
      "cell_type": "code",
      "metadata": {
        "colab": {
          "base_uri": "https://localhost:8080/"
        },
        "id": "HhON_7BLhJFX",
        "outputId": "4d165e52-1ac3-43f0-9727-1a77f7394ec1"
      },
      "source": [
        "best_profit = 0\n",
        "best_treshold = start\n",
        "for treshold in range(int(start), int(finish)):\n",
        "  valid_cash_for_effect['pred'] = np.vectorize(lambda x: 1 if x < treshold else 0)(valid_cash_for_effect['score'])\n",
        "  profit = valid_cash_for_effect[valid_cash_for_effect['target'] == 0][valid_cash_for_effect['pred'] == 0]['sum'].sum()*0.2\n",
        "  profit -= valid_cash_for_effect[valid_cash_for_effect['target'] == 1][valid_cash_for_effect['pred'] == 0]['sum'].sum()\n",
        "  if profit >= best_profit:\n",
        "    best_profit = profit\n",
        "    best_treshold = treshold\n",
        "print(best_profit)\n",
        "print(best_treshold)\n"
      ],
      "execution_count": 85,
      "outputs": [
        {
          "output_type": "stream",
          "text": [
            "3161448432.9000006\n",
            "236\n"
          ],
          "name": "stdout"
        }
      ]
    },
    {
      "cell_type": "code",
      "metadata": {
        "colab": {
          "base_uri": "https://localhost:8080/"
        },
        "id": "3SljK6aWi2lA",
        "outputId": "8877dd08-5b44-477d-e932-30147c4c1e66"
      },
      "source": [
        "test_cash_for_effect['pred'] = np.vectorize(lambda x: 1 if x < best_treshold else 0)(test_cash_for_effect['score'])\n",
        "profit_cash = test_cash_for_effect[test_cash_for_effect['target'] == 0][test_cash_for_effect['pred'] == 0]['sum'].sum()*0.2\n",
        "profit_cash -= test_cash_for_effect[test_cash_for_effect['target'] == 1][test_cash_for_effect['pred'] == 0]['sum'].sum()\n",
        "loss_cash = test_cash_for_effect[test_cash_for_effect['target'] == 0][test_cash_for_effect['pred'] == 1]['sum'].sum()*0.2\n",
        "profit_cash"
      ],
      "execution_count": 86,
      "outputs": [
        {
          "output_type": "execute_result",
          "data": {
            "text/plain": [
              "2816077445.1000004"
            ]
          },
          "metadata": {
            "tags": []
          },
          "execution_count": 86
        }
      ]
    },
    {
      "cell_type": "code",
      "metadata": {
        "id": "JCp_pSqgkCws"
      },
      "source": [
        "start = valid_rev_for_effect['score'].min()\n",
        "finish = np.percentile(valid_rev_for_effect['score'], 50)"
      ],
      "execution_count": 87,
      "outputs": []
    },
    {
      "cell_type": "code",
      "metadata": {
        "colab": {
          "base_uri": "https://localhost:8080/"
        },
        "id": "jKd-CXRzkQJc",
        "outputId": "c73bf602-83ef-48eb-f262-a67696e3a5c3"
      },
      "source": [
        "best_profit = 0\n",
        "best_treshold = start\n",
        "for treshold in range(int(start), int(finish)):\n",
        "  valid_rev_for_effect['pred'] = np.vectorize(lambda x: 1 if x < treshold else 0)(valid_rev_for_effect['score'])\n",
        "  profit = valid_rev_for_effect[valid_rev_for_effect['target'] == 0][valid_rev_for_effect['pred'] == 0]['sum'].sum()*0.7*0.4\n",
        "  profit -= valid_rev_for_effect[valid_rev_for_effect['target'] == 1][valid_rev_for_effect['pred'] == 0]['sum'].sum()*0.7\n",
        "  if profit > best_profit:\n",
        "    best_profit = profit\n",
        "    best_treshold = treshold\n",
        "print(best_profit)\n",
        "print(best_treshold)\n"
      ],
      "execution_count": 97,
      "outputs": [
        {
          "output_type": "stream",
          "text": [
            "379449000.0\n",
            "273\n"
          ],
          "name": "stdout"
        }
      ]
    },
    {
      "cell_type": "code",
      "metadata": {
        "colab": {
          "base_uri": "https://localhost:8080/"
        },
        "id": "IN5shu9RkRXR",
        "outputId": "da91a712-8b4f-4fae-d98e-42c935e7b206"
      },
      "source": [
        "test_rev_for_effect['pred'] = np.vectorize(lambda x: 1 if x < best_treshold else 0)(test_rev_for_effect['score'])\n",
        "profit_rev = test_rev_for_effect[test_rev_for_effect['target'] == 0][test_rev_for_effect['pred'] == 0]['sum'].sum()*0.7*0.4\n",
        "profit_rev -= test_rev_for_effect[test_rev_for_effect['target'] == 1][test_rev_for_effect['pred'] == 0]['sum'].sum()*0.7\n",
        "loss_rev = test_rev_for_effect[test_rev_for_effect['target'] == 0][test_rev_for_effect['pred'] == 1]['sum'].sum()*0.7*0.4\n",
        "profit_rev"
      ],
      "execution_count": 99,
      "outputs": [
        {
          "output_type": "execute_result",
          "data": {
            "text/plain": [
              "341406450.0"
            ]
          },
          "metadata": {
            "tags": []
          },
          "execution_count": 99
        }
      ]
    },
    {
      "cell_type": "code",
      "metadata": {
        "colab": {
          "base_uri": "https://localhost:8080/"
        },
        "id": "B8v9Yzw0p1MA",
        "outputId": "9382efef-5f93-4d02-9f44-25a71410afd1"
      },
      "source": [
        "total_profit = profit_cash+profit_rev\n",
        "total_loss = loss_cash+loss_rev\n",
        "total_profit"
      ],
      "execution_count": 101,
      "outputs": [
        {
          "output_type": "execute_result",
          "data": {
            "text/plain": [
              "3157483895.1000004"
            ]
          },
          "metadata": {
            "tags": []
          },
          "execution_count": 101
        }
      ]
    },
    {
      "cell_type": "code",
      "metadata": {
        "colab": {
          "base_uri": "https://localhost:8080/"
        },
        "id": "jae7sUBfp9_b",
        "outputId": "7c689a64-56a9-4dcd-c882-03b5d6d5681d"
      },
      "source": [
        "total_loss"
      ],
      "execution_count": 102,
      "outputs": [
        {
          "output_type": "execute_result",
          "data": {
            "text/plain": [
              "10704541.5"
            ]
          },
          "metadata": {
            "tags": []
          },
          "execution_count": 102
        }
      ]
    },
    {
      "cell_type": "markdown",
      "metadata": {
        "id": "aTElloZzqLi8"
      },
      "source": [
        "## Экономический эффект для бустинга"
      ]
    },
    {
      "cell_type": "code",
      "metadata": {
        "id": "P_jnMJDDqO8s"
      },
      "source": [
        "boost_valid = pd.read_csv('/content/drive/My Drive/Notebooksvalid_res.csv').set_index('SK_ID_CURR').drop(columns='0')\n",
        "boost_test = pd.read_csv('/content/drive/My Drive/Notebookstest_res.csv').set_index('SK_ID_CURR').drop(columns='0')"
      ],
      "execution_count": 108,
      "outputs": []
    },
    {
      "cell_type": "code",
      "metadata": {
        "id": "Ip_6EMoRrJWh"
      },
      "source": [
        "boost_valid.columns=['prob']\n",
        "boost_test.columns=['prob']"
      ],
      "execution_count": 112,
      "outputs": []
    },
    {
      "cell_type": "code",
      "metadata": {
        "id": "OAYRmw0vrNA7"
      },
      "source": [
        "train = pd.read_csv(path + '/train.csv').set_index('SK_ID_CURR')\n",
        "test = pd.read_csv(path + '/test.csv').set_index('SK_ID_CURR')"
      ],
      "execution_count": 110,
      "outputs": []
    },
    {
      "cell_type": "code",
      "metadata": {
        "id": "z4Inr0Zgrg9u"
      },
      "source": [
        "boost_valid['target'] = train.loc[boost_valid.index, 'TARGET']\n",
        "boost_test['target'] = test['TARGET']\n",
        "boost_valid['sum'] = train.loc[boost_valid.index, 'AMT_CREDIT']\n",
        "boost_test['sum'] = test['AMT_CREDIT']\n",
        "boost_valid['type'] = train.loc[boost_valid.index, 'NAME_CONTRACT_TYPE']\n",
        "boost_test['type'] = test['NAME_CONTRACT_TYPE']"
      ],
      "execution_count": 118,
      "outputs": []
    },
    {
      "cell_type": "code",
      "metadata": {
        "colab": {
          "base_uri": "https://localhost:8080/"
        },
        "id": "5EGWC1Wrr4MX",
        "outputId": "3c3d909c-1921-4c3e-9a13-0a97cf2677b5"
      },
      "source": [
        "best_profit = 0\n",
        "best_treshold = 0.0\n",
        "treshold = 0.0\n",
        "while treshold < 0.5:\n",
        "  boost_valid['pred'] = np.vectorize(lambda x: 1 if x > treshold else 0)(boost_valid['prob'])\n",
        "  profit = boost_valid[boost_valid['target'] == 0][boost_valid['pred'] == 0][boost_valid['type'] == 'Revolving loans']['sum'].sum()*0.7*0.4\n",
        "  profit += boost_valid[boost_valid['target'] == 0][boost_valid['pred'] == 0][boost_valid['type'] == 'Cash loans']['sum'].sum()*0.2\n",
        "  profit -= boost_valid[boost_valid['target'] == 1][boost_valid['pred'] == 0][boost_valid['type'] == 'Revolving loans']['sum'].sum()*0.7\n",
        "  profit -= boost_valid[boost_valid['target'] == 1][boost_valid['pred'] == 0][boost_valid['type'] == 'Cash loans']['sum'].sum()\n",
        "  if profit > best_profit:\n",
        "    best_profit = profit\n",
        "    best_treshold = treshold\n",
        "  treshold += 0.05\n",
        "print(best_profit)\n",
        "print(best_treshold)"
      ],
      "execution_count": 135,
      "outputs": [
        {
          "output_type": "stream",
          "text": [
            "3957655484.700001\n",
            "0.2\n"
          ],
          "name": "stdout"
        }
      ]
    },
    {
      "cell_type": "code",
      "metadata": {
        "id": "RHmTWE16r4_2"
      },
      "source": [
        "boost_test['pred'] = np.vectorize(lambda x: 1 if x > best_treshold else 0)(boost_test['prob'])\n",
        "profit_boost = boost_test[boost_test['target'] == 0][boost_test['pred'] == 0][boost_test['type'] == 'Revolving loans']['sum'].sum()*0.7*0.4\n",
        "profit_boost += boost_test[boost_test['target'] == 0][boost_test['pred'] == 0][boost_test['type'] == 'Cash loans']['sum'].sum()*0.2\n",
        "profit_boost -= boost_test[boost_test['target'] == 1][boost_test['pred'] == 0][boost_test['type'] == 'Revolving loans']['sum'].sum()*0.7\n",
        "profit_boost -= boost_test[boost_test['target'] == 1][boost_test['pred'] == 0][boost_test['type'] == 'Cash loans']['sum'].sum()\n",
        "loss_boost = boost_test[boost_test['target'] == 0][boost_test['pred'] == 1][boost_test['type'] == 'Revolving loans']['sum'].sum()*0.7*0.4\n",
        "loss_boost += boost_test[boost_test['target'] == 0][boost_test['pred'] == 1][boost_test['type'] == 'Cash loans']['sum'].sum()*0.2"
      ],
      "execution_count": 125,
      "outputs": []
    },
    {
      "cell_type": "code",
      "metadata": {
        "colab": {
          "base_uri": "https://localhost:8080/"
        },
        "id": "fjeWeC1Eu-Hi",
        "outputId": "fc449b3f-dc06-4599-8c59-85f3dc93326c"
      },
      "source": [
        "loss_boost"
      ],
      "execution_count": 129,
      "outputs": [
        {
          "output_type": "execute_result",
          "data": {
            "text/plain": [
              "141154136.1"
            ]
          },
          "metadata": {
            "tags": []
          },
          "execution_count": 129
        }
      ]
    },
    {
      "cell_type": "code",
      "metadata": {
        "colab": {
          "base_uri": "https://localhost:8080/"
        },
        "id": "TDdVqX7wvO-t",
        "outputId": "0b87f6b8-8bfb-420b-a32a-86cb18fa4915"
      },
      "source": [
        "profit_boost"
      ],
      "execution_count": 132,
      "outputs": [
        {
          "output_type": "execute_result",
          "data": {
            "text/plain": [
              "3351374100.0"
            ]
          },
          "metadata": {
            "tags": []
          },
          "execution_count": 132
        }
      ]
    },
    {
      "cell_type": "code",
      "metadata": {
        "id": "EQ1j4sr5vRjr"
      },
      "source": [
        ""
      ],
      "execution_count": null,
      "outputs": []
    }
  ]
}
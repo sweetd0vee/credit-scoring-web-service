{
 "cells": [
  {
   "cell_type": "code",
   "execution_count": 1,
   "metadata": {
    "colab": {
     "base_uri": "https://localhost:8080/"
    },
    "id": "7id2yGEAwgOS",
    "outputId": "91bbe4aa-2d05-4ae0-fa03-54a596e2db5e"
   },
   "outputs": [
    {
     "name": "stdout",
     "output_type": "stream",
     "text": [
      "Drive already mounted at /content/drive; to attempt to forcibly remount, call drive.mount(\"/content/drive\", force_remount=True).\n"
     ]
    }
   ],
   "source": [
    "from google.colab import drive\n",
    "drive.mount('/content/drive')\n",
    "path = '/content/drive/My Drive/Colab Notebooks/home-credit-default-risk' "
   ]
  },
  {
   "cell_type": "code",
   "execution_count": 2,
   "metadata": {
    "colab": {
     "base_uri": "https://localhost:8080/"
    },
    "id": "1gdqgvLTgwDi",
    "outputId": "5c17b0dc-b75a-4422-b350-05d1b384ad47"
   },
   "outputs": [
    {
     "name": "stdout",
     "output_type": "stream",
     "text": [
      "Requirement already satisfied: category_encoders in /usr/local/lib/python3.7/dist-packages (2.2.2)\n",
      "Requirement already satisfied: statsmodels>=0.9.0 in /usr/local/lib/python3.7/dist-packages (from category_encoders) (0.10.2)\n",
      "Requirement already satisfied: patsy>=0.5.1 in /usr/local/lib/python3.7/dist-packages (from category_encoders) (0.5.1)\n",
      "Requirement already satisfied: numpy>=1.14.0 in /usr/local/lib/python3.7/dist-packages (from category_encoders) (1.19.5)\n",
      "Requirement already satisfied: pandas>=0.21.1 in /usr/local/lib/python3.7/dist-packages (from category_encoders) (1.1.5)\n",
      "Requirement already satisfied: scipy>=1.0.0 in /usr/local/lib/python3.7/dist-packages (from category_encoders) (1.4.1)\n",
      "Requirement already satisfied: scikit-learn>=0.20.0 in /usr/local/lib/python3.7/dist-packages (from category_encoders) (0.22.2.post1)\n",
      "Requirement already satisfied: six in /usr/local/lib/python3.7/dist-packages (from patsy>=0.5.1->category_encoders) (1.15.0)\n",
      "Requirement already satisfied: pytz>=2017.2 in /usr/local/lib/python3.7/dist-packages (from pandas>=0.21.1->category_encoders) (2018.9)\n",
      "Requirement already satisfied: python-dateutil>=2.7.3 in /usr/local/lib/python3.7/dist-packages (from pandas>=0.21.1->category_encoders) (2.8.1)\n",
      "Requirement already satisfied: joblib>=0.11 in /usr/local/lib/python3.7/dist-packages (from scikit-learn>=0.20.0->category_encoders) (1.0.1)\n",
      "Requirement already satisfied: xgboost in /usr/local/lib/python3.7/dist-packages (0.90)\n",
      "Requirement already satisfied: scipy in /usr/local/lib/python3.7/dist-packages (from xgboost) (1.4.1)\n",
      "Requirement already satisfied: numpy in /usr/local/lib/python3.7/dist-packages (from xgboost) (1.19.5)\n",
      "Requirement already satisfied: joblib in /usr/local/lib/python3.7/dist-packages (1.0.1)\n"
     ]
    }
   ],
   "source": [
    "!pip install category_encoders\n",
    "!pip install xgboost\n",
    "!pip install joblib"
   ]
  },
  {
   "cell_type": "code",
   "execution_count": 3,
   "metadata": {
    "id": "-1eRFV-28y55"
   },
   "outputs": [],
   "source": [
    "import sklearn\n",
    "import sklearn.metrics\n",
    "import numpy as np\n",
    "import pandas as pd\n",
    "from sklearn.model_selection import train_test_split\n",
    "from sklearn.metrics import roc_auc_score\n",
    "import warnings\n",
    "warnings.filterwarnings('ignore')\n",
    "import os\n",
    "import pickle\n",
    "import category_encoders\n",
    "from category_encoders.target_encoder import TargetEncoder\n",
    "from xgboost import XGBClassifier"
   ]
  },
  {
   "cell_type": "code",
   "execution_count": 4,
   "metadata": {
    "id": "6QUVec7g8I8j"
   },
   "outputs": [],
   "source": [
    "data = pd.read_csv(path + '/train.csv')"
   ]
  },
  {
   "cell_type": "code",
   "execution_count": 5,
   "metadata": {
    "id": "A3UsnrAlF8W5"
   },
   "outputs": [],
   "source": [
    "# 30 most valuable features\n",
    "features = ['CODE_GENDER', 'AMT_INCOME_TOTAL', 'AMT_CREDIT', 'AMT_ANNUITY',\n",
    "       'NAME_INCOME_TYPE', 'NAME_EDUCATION_TYPE', 'NAME_FAMILY_STATUS',\n",
    "       'REGION_POPULATION_RELATIVE', 'DAYS_BIRTH', 'DAYS_EMPLOYED',\n",
    "       'DAYS_REGISTRATION', 'DAYS_ID_PUBLISH', 'OWN_CAR_AGE',\n",
    "       'OCCUPATION_TYPE', 'WEEKDAY_APPR_PROCESS_START',\n",
    "       'HOUR_APPR_PROCESS_START', 'ORGANIZATION_TYPE', 'EXT_SOURCE_1',\n",
    "       'EXT_SOURCE_2', 'EXT_SOURCE_3', 'LANDAREA_AVG', 'APARTMENTS_MODE',\n",
    "       'YEARS_BEGINEXPLUATATION_MEDI', 'DAYS_LAST_PHONE_CHANGE',\n",
    "       'FLAG_DOCUMENT_3', 'b_closed_Consumer credit_num',\n",
    "       'b_active_all_num', 'b_Consumer credit_sum_1', 'b_all_sum_1',\n",
    "       'b_Credit card_sum_3']"
   ]
  },
  {
   "cell_type": "code",
   "execution_count": 6,
   "metadata": {
    "id": "-_UBvX5v0Sfd"
   },
   "outputs": [],
   "source": [
    "# categorical features\n",
    "categorical = ['CODE_GENDER', 'NAME_INCOME_TYPE', 'NAME_EDUCATION_TYPE', 'NAME_FAMILY_STATUS', \n",
    "               'OCCUPATION_TYPE', 'WEEKDAY_APPR_PROCESS_START', 'ORGANIZATION_TYPE',\n",
    "               'FLAG_DOCUMENT_3']\n",
    "# numerical features\n",
    "numerical = list(set(features) - set(categorical))"
   ]
  },
  {
   "cell_type": "code",
   "execution_count": 7,
   "metadata": {
    "id": "RqZXceTX1A4k"
   },
   "outputs": [],
   "source": [
    "y = data['TARGET']\n",
    "X = data.drop(columns = 'TARGET')\n",
    "X = X.drop(columns = 'SK_ID_CURR')\n",
    "X = X[features]"
   ]
  },
  {
   "cell_type": "code",
   "execution_count": 8,
   "metadata": {
    "id": "2ca8Rn4EDJJ-"
   },
   "outputs": [],
   "source": [
    "X[X == np.inf] = np.NaN\n",
    "X_mean = X[numerical].mean()"
   ]
  },
  {
   "cell_type": "code",
   "execution_count": 9,
   "metadata": {
    "colab": {
     "base_uri": "https://localhost:8080/"
    },
    "id": "lWNRpGjF5qsF",
    "outputId": "4eec01af-4b02-4390-b47e-8ad48b1283b8"
   },
   "outputs": [
    {
     "data": {
      "text/plain": [
       "{'AMT_ANNUITY': 27098.711187502868,\n",
       " 'AMT_CREDIT': 598791.1144006519,\n",
       " 'AMT_INCOME_TOTAL': 168933.15970279355,\n",
       " 'APARTMENTS_MODE': 0.11435157552821915,\n",
       " 'CODE_GENDER': 'F',\n",
       " 'DAYS_BIRTH': -16034.765785204909,\n",
       " 'DAYS_EMPLOYED': 63763.424413889144,\n",
       " 'DAYS_ID_PUBLISH': -2994.4622738958774,\n",
       " 'DAYS_LAST_PHONE_CHANGE': -962.6356763829323,\n",
       " 'DAYS_REGISTRATION': -4979.819900988584,\n",
       " 'EXT_SOURCE_1': 0.501821413793641,\n",
       " 'EXT_SOURCE_2': 0.5143236546127142,\n",
       " 'EXT_SOURCE_3': 0.5109342692505695,\n",
       " 'FLAG_DOCUMENT_3': 1,\n",
       " 'HOUR_APPR_PROCESS_START': 12.066033116028525,\n",
       " 'LANDAREA_AVG': 0.06636075445041069,\n",
       " 'NAME_EDUCATION_TYPE': 'Secondary / secondary special',\n",
       " 'NAME_FAMILY_STATUS': 'Married',\n",
       " 'NAME_INCOME_TYPE': 'Working',\n",
       " 'OCCUPATION_TYPE': 'Laborers',\n",
       " 'ORGANIZATION_TYPE': 'Business Entity Type 3',\n",
       " 'OWN_CAR_AGE': 12.07186301955097,\n",
       " 'REGION_POPULATION_RELATIVE': 0.020870456944583983,\n",
       " 'WEEKDAY_APPR_PROCESS_START': 'TUESDAY',\n",
       " 'YEARS_BEGINEXPLUATATION_MEDI': 0.9776657025039116,\n",
       " 'b_Consumer credit_sum_1': 292859.207455838,\n",
       " 'b_Credit card_sum_3': 148118.77773680372,\n",
       " 'b_active_all_num': 2.056737335256734,\n",
       " 'b_all_sum_1': 454251.3274568709,\n",
       " 'b_closed_Consumer credit_num': 3.0145550201197806}"
      ]
     },
     "execution_count": 9,
     "metadata": {
      "tags": []
     },
     "output_type": "execute_result"
    }
   ],
   "source": [
    "# the most frequent value in each categorical column to fill missing values\n",
    "train_mode = dict(X[categorical].mode().iloc[0])\n",
    "# the mean value in each numeric column to fill missing values\n",
    "for i in range(len(numerical)):\n",
    "  train_mode[numerical[i]] = X_mean[i]\n",
    "train_mode"
   ]
  },
  {
   "cell_type": "code",
   "execution_count": 10,
   "metadata": {
    "id": "C0yxzwNUZr7F"
   },
   "outputs": [],
   "source": [
    "X[numerical] = X[numerical].fillna(X_mean)\n",
    "X[categorical] = X[categorical].fillna('-1')\n",
    "\n",
    "from sklearn.preprocessing import LabelEncoder\n",
    "label_encoders = {}\n",
    "for col in categorical:\n",
    "        le = LabelEncoder()\n",
    "        le.fit(X[col].astype('str'))\n",
    "        X[col] = le.transform(X[col].astype('str'))\n",
    "        label_encoders[col] = le"
   ]
  },
  {
   "cell_type": "code",
   "execution_count": 11,
   "metadata": {
    "id": "9MLQ4Y2a_cfe"
   },
   "outputs": [],
   "source": [
    "data_test = pd.read_csv(path + '/test.csv')\n",
    "test_Y = data_test['TARGET']\n",
    "test = data_test.drop(columns = ['TARGET','SK_ID_CURR'])\n",
    "test = test[features]\n",
    "\n",
    "test[test == np.inf] = np.NaN\n",
    "test_mean = test[numerical].mean()\n",
    "test[numerical] = test[numerical].fillna(test_mean)\n",
    "test[categorical] = test[categorical].fillna('-1')\n",
    "from sklearn.preprocessing import LabelEncoder\n",
    "for col in categorical:\n",
    "        le = LabelEncoder()\n",
    "        le.fit(test[col].astype('str'))\n",
    "        test[col] = le.transform(test[col].astype('str'))"
   ]
  },
  {
   "cell_type": "code",
   "execution_count": 12,
   "metadata": {
    "colab": {
     "base_uri": "https://localhost:8080/",
     "height": 218.0
    },
    "id": "rXdPrM43jEmY",
    "outputId": "0067ee19-c497-43d5-de38-2cf757328fad"
   },
   "outputs": [
    {
     "data": {
      "text/html": [
       "<div>\n",
       "<style scoped>\n",
       "    .dataframe tbody tr th:only-of-type {\n",
       "        vertical-align: middle;\n",
       "    }\n",
       "\n",
       "    .dataframe tbody tr th {\n",
       "        vertical-align: top;\n",
       "    }\n",
       "\n",
       "    .dataframe thead th {\n",
       "        text-align: right;\n",
       "    }\n",
       "</style>\n",
       "<table border=\"1\" class=\"dataframe\">\n",
       "  <thead>\n",
       "    <tr style=\"text-align: right;\">\n",
       "      <th></th>\n",
       "      <th>CODE_GENDER</th>\n",
       "      <th>AMT_INCOME_TOTAL</th>\n",
       "      <th>AMT_CREDIT</th>\n",
       "      <th>AMT_ANNUITY</th>\n",
       "      <th>NAME_INCOME_TYPE</th>\n",
       "      <th>NAME_EDUCATION_TYPE</th>\n",
       "      <th>NAME_FAMILY_STATUS</th>\n",
       "      <th>REGION_POPULATION_RELATIVE</th>\n",
       "      <th>DAYS_BIRTH</th>\n",
       "      <th>DAYS_EMPLOYED</th>\n",
       "      <th>DAYS_REGISTRATION</th>\n",
       "      <th>DAYS_ID_PUBLISH</th>\n",
       "      <th>OWN_CAR_AGE</th>\n",
       "      <th>OCCUPATION_TYPE</th>\n",
       "      <th>WEEKDAY_APPR_PROCESS_START</th>\n",
       "      <th>HOUR_APPR_PROCESS_START</th>\n",
       "      <th>ORGANIZATION_TYPE</th>\n",
       "      <th>EXT_SOURCE_1</th>\n",
       "      <th>EXT_SOURCE_2</th>\n",
       "      <th>EXT_SOURCE_3</th>\n",
       "      <th>LANDAREA_AVG</th>\n",
       "      <th>APARTMENTS_MODE</th>\n",
       "      <th>YEARS_BEGINEXPLUATATION_MEDI</th>\n",
       "      <th>DAYS_LAST_PHONE_CHANGE</th>\n",
       "      <th>FLAG_DOCUMENT_3</th>\n",
       "      <th>b_closed_Consumer credit_num</th>\n",
       "      <th>b_active_all_num</th>\n",
       "      <th>b_Consumer credit_sum_1</th>\n",
       "      <th>b_all_sum_1</th>\n",
       "      <th>b_Credit card_sum_3</th>\n",
       "    </tr>\n",
       "  </thead>\n",
       "  <tbody>\n",
       "    <tr>\n",
       "      <th>0</th>\n",
       "      <td>0.070154</td>\n",
       "      <td>247500.0</td>\n",
       "      <td>450000.0</td>\n",
       "      <td>27324.0</td>\n",
       "      <td>0.095850</td>\n",
       "      <td>0.053353</td>\n",
       "      <td>0.081905</td>\n",
       "      <td>0.009175</td>\n",
       "      <td>-13480</td>\n",
       "      <td>-3009</td>\n",
       "      <td>-4507.0</td>\n",
       "      <td>-4323</td>\n",
       "      <td>12.071863</td>\n",
       "      <td>0.067950</td>\n",
       "      <td>0.083753</td>\n",
       "      <td>15</td>\n",
       "      <td>0.065841</td>\n",
       "      <td>0.501821</td>\n",
       "      <td>0.745131</td>\n",
       "      <td>0.510934</td>\n",
       "      <td>0.066361</td>\n",
       "      <td>0.114352</td>\n",
       "      <td>0.977666</td>\n",
       "      <td>-970.0</td>\n",
       "      <td>0.088509</td>\n",
       "      <td>3.014555</td>\n",
       "      <td>2.056737</td>\n",
       "      <td>292859.207456</td>\n",
       "      <td>4.542513e+05</td>\n",
       "      <td>1.481188e+05</td>\n",
       "    </tr>\n",
       "    <tr>\n",
       "      <th>1</th>\n",
       "      <td>0.101038</td>\n",
       "      <td>202500.0</td>\n",
       "      <td>180000.0</td>\n",
       "      <td>9000.0</td>\n",
       "      <td>0.095850</td>\n",
       "      <td>0.089430</td>\n",
       "      <td>0.075290</td>\n",
       "      <td>0.002042</td>\n",
       "      <td>-17748</td>\n",
       "      <td>-1733</td>\n",
       "      <td>-4666.0</td>\n",
       "      <td>-1303</td>\n",
       "      <td>12.071863</td>\n",
       "      <td>0.113395</td>\n",
       "      <td>0.081383</td>\n",
       "      <td>10</td>\n",
       "      <td>0.093886</td>\n",
       "      <td>0.501821</td>\n",
       "      <td>0.518422</td>\n",
       "      <td>0.538863</td>\n",
       "      <td>0.066361</td>\n",
       "      <td>0.114352</td>\n",
       "      <td>0.977666</td>\n",
       "      <td>-230.0</td>\n",
       "      <td>0.061686</td>\n",
       "      <td>0.000000</td>\n",
       "      <td>6.000000</td>\n",
       "      <td>66105.000000</td>\n",
       "      <td>6.610500e+04</td>\n",
       "      <td>2.250000e+04</td>\n",
       "    </tr>\n",
       "    <tr>\n",
       "      <th>2</th>\n",
       "      <td>0.101038</td>\n",
       "      <td>382500.0</td>\n",
       "      <td>760225.5</td>\n",
       "      <td>32337.0</td>\n",
       "      <td>0.074519</td>\n",
       "      <td>0.053353</td>\n",
       "      <td>0.075290</td>\n",
       "      <td>0.046220</td>\n",
       "      <td>-11533</td>\n",
       "      <td>-1088</td>\n",
       "      <td>-589.0</td>\n",
       "      <td>-4069</td>\n",
       "      <td>12.071863</td>\n",
       "      <td>0.104819</td>\n",
       "      <td>0.081800</td>\n",
       "      <td>16</td>\n",
       "      <td>0.092910</td>\n",
       "      <td>0.501821</td>\n",
       "      <td>0.608844</td>\n",
       "      <td>0.610991</td>\n",
       "      <td>0.000000</td>\n",
       "      <td>0.254200</td>\n",
       "      <td>0.999000</td>\n",
       "      <td>-578.0</td>\n",
       "      <td>0.088509</td>\n",
       "      <td>2.000000</td>\n",
       "      <td>2.000000</td>\n",
       "      <td>0.000000</td>\n",
       "      <td>2.018639e+06</td>\n",
       "      <td>2.018639e+06</td>\n",
       "    </tr>\n",
       "    <tr>\n",
       "      <th>3</th>\n",
       "      <td>0.101038</td>\n",
       "      <td>90000.0</td>\n",
       "      <td>450000.0</td>\n",
       "      <td>17095.5</td>\n",
       "      <td>0.095850</td>\n",
       "      <td>0.089430</td>\n",
       "      <td>0.075290</td>\n",
       "      <td>0.008068</td>\n",
       "      <td>-19184</td>\n",
       "      <td>-1758</td>\n",
       "      <td>-782.0</td>\n",
       "      <td>-2554</td>\n",
       "      <td>12.071863</td>\n",
       "      <td>0.065108</td>\n",
       "      <td>0.083753</td>\n",
       "      <td>9</td>\n",
       "      <td>0.102642</td>\n",
       "      <td>0.501821</td>\n",
       "      <td>0.054112</td>\n",
       "      <td>0.510934</td>\n",
       "      <td>0.066361</td>\n",
       "      <td>0.114352</td>\n",
       "      <td>0.977666</td>\n",
       "      <td>-655.0</td>\n",
       "      <td>0.088509</td>\n",
       "      <td>3.014555</td>\n",
       "      <td>2.056737</td>\n",
       "      <td>292859.207456</td>\n",
       "      <td>4.542513e+05</td>\n",
       "      <td>1.481188e+05</td>\n",
       "    </tr>\n",
       "    <tr>\n",
       "      <th>4</th>\n",
       "      <td>0.070154</td>\n",
       "      <td>292500.0</td>\n",
       "      <td>675000.0</td>\n",
       "      <td>53460.0</td>\n",
       "      <td>0.074519</td>\n",
       "      <td>0.112346</td>\n",
       "      <td>0.075290</td>\n",
       "      <td>0.019101</td>\n",
       "      <td>-14265</td>\n",
       "      <td>-566</td>\n",
       "      <td>-1889.0</td>\n",
       "      <td>-4846</td>\n",
       "      <td>12.071863</td>\n",
       "      <td>0.099366</td>\n",
       "      <td>0.083753</td>\n",
       "      <td>13</td>\n",
       "      <td>0.092910</td>\n",
       "      <td>0.501315</td>\n",
       "      <td>0.669662</td>\n",
       "      <td>0.170446</td>\n",
       "      <td>0.066361</td>\n",
       "      <td>0.114352</td>\n",
       "      <td>0.977666</td>\n",
       "      <td>-2240.0</td>\n",
       "      <td>0.088509</td>\n",
       "      <td>9.000000</td>\n",
       "      <td>3.000000</td>\n",
       "      <td>408780.000000</td>\n",
       "      <td>4.087800e+05</td>\n",
       "      <td>0.000000e+00</td>\n",
       "    </tr>\n",
       "  </tbody>\n",
       "</table>\n",
       "</div>"
      ],
      "text/plain": [
       "   CODE_GENDER  AMT_INCOME_TOTAL  ...   b_all_sum_1  b_Credit card_sum_3\n",
       "0     0.070154          247500.0  ...  4.542513e+05         1.481188e+05\n",
       "1     0.101038          202500.0  ...  6.610500e+04         2.250000e+04\n",
       "2     0.101038          382500.0  ...  2.018639e+06         2.018639e+06\n",
       "3     0.101038           90000.0  ...  4.542513e+05         1.481188e+05\n",
       "4     0.070154          292500.0  ...  4.087800e+05         0.000000e+00\n",
       "\n",
       "[5 rows x 30 columns]"
      ]
     },
     "execution_count": 12,
     "metadata": {
      "tags": []
     },
     "output_type": "execute_result"
    }
   ],
   "source": [
    "X_mte = X.copy()\n",
    "test_mte = test.copy()\n",
    "\n",
    "target_encoders = {}\n",
    "for col in categorical:\n",
    "        TE = TargetEncoder()\n",
    "        TE.fit(X[col].astype('str'), y)\n",
    "        X_mte[col] = TE.transform(X[col].astype('str'))\n",
    "        test_mte[col] = TE.transform(test[col].astype('str'))\n",
    "        target_encoders[col] = TE\n",
    "X_mte.head()"
   ]
  },
  {
   "cell_type": "code",
   "execution_count": 13,
   "metadata": {
    "id": "7kQuY5hmTAY9"
   },
   "outputs": [],
   "source": [
    "#0.778\n",
    "params = {'n_estimators': 817, 'max_depth': 6, 'reg_alpha': 2, 'reg_lambda': 0, 'min_child_weight': 0, 'gamma': 3, 'learning_rate': 0.02927458043402023, 'colsample_bytree': 0.19}"
   ]
  },
  {
   "cell_type": "code",
   "execution_count": 14,
   "metadata": {
    "colab": {
     "base_uri": "https://localhost:8080/"
    },
    "id": "TW8RwaXOv1tQ",
    "outputId": "f39dcc35-f6f5-4a28-c07b-47b9e8f72651"
   },
   "outputs": [
    {
     "data": {
      "text/plain": [
       "0.7525062477213109"
      ]
     },
     "execution_count": 14,
     "metadata": {
      "tags": []
     },
     "output_type": "execute_result"
    }
   ],
   "source": [
    "clf = XGBClassifier(**params)\n",
    "clf.fit(X_mte, y)\n",
    "pred = clf.predict_proba(test_mte)[:,1]\n",
    "roc_auc_score(test_Y, pred)"
   ]
  },
  {
   "cell_type": "code",
   "execution_count": 15,
   "metadata": {
    "colab": {
     "base_uri": "https://localhost:8080/"
    },
    "id": "4yDR12kwgbWp",
    "outputId": "2b1f5666-a6cc-408b-e698-ece3395b2e78"
   },
   "outputs": [
    {
     "data": {
      "text/plain": [
       "['/content/drive/My Drive/Colab Notebooks/home-credit-default-risk/train_mode.joblib']"
      ]
     },
     "execution_count": 15,
     "metadata": {
      "tags": []
     },
     "output_type": "execute_result"
    }
   ],
   "source": [
    "from sklearn.externals import joblib\n",
    "\n",
    "joblib.dump(clf, path + '/XGBoost.pkl', compress=True)\n",
    "joblib.dump(label_encoders, path + '/label_encoders.joblib', compress=True)\n",
    "joblib.dump(target_encoders, path + '/target_encoders.joblib', compress=True)\n",
    "joblib.dump(train_mode, path + '/train_mode.joblib', compress=True)"
   ]
  },
  {
   "cell_type": "code",
   "execution_count": 16,
   "metadata": {
    "id": "ozlYNmMShCeJ"
   },
   "outputs": [],
   "source": [
    "modelReload=joblib.load(path + '/XGBoost.pkl')\n",
    "pred_new = modelReload.predict_proba(test_mte)[:,1]"
   ]
  },
  {
   "cell_type": "code",
   "execution_count": 17,
   "metadata": {
    "colab": {
     "base_uri": "https://localhost:8080/"
    },
    "id": "Cmps3q_WhMn-",
    "outputId": "c6b97289-df76-47b3-bb4f-5188b57c7ac2"
   },
   "outputs": [
    {
     "data": {
      "text/plain": [
       "0.7525062477213109"
      ]
     },
     "execution_count": 17,
     "metadata": {
      "tags": []
     },
     "output_type": "execute_result"
    }
   ],
   "source": [
    "roc_auc_score(test_Y, pred_new)"
   ]
  },
  {
   "cell_type": "code",
   "execution_count": 17,
   "metadata": {
    "id": "yopud_x7p7B3"
   },
   "outputs": [],
   "source": [
    ""
   ]
  }
 ],
 "metadata": {
  "colab": {
   "name": "final_model(XGBoost)",
   "provenance": [],
   "collapsed_sections": []
  },
  "kernelspec": {
   "display_name": "Python 3",
   "language": "python",
   "name": "python3"
  },
  "language_info": {
   "codemirror_mode": {
    "name": "ipython",
    "version": 3
   },
   "file_extension": ".py",
   "mimetype": "text/x-python",
   "name": "python",
   "nbconvert_exporter": "python",
   "pygments_lexer": "ipython3",
   "version": "3.8.5"
  }
 },
 "nbformat": 4,
 "nbformat_minor": 0
}

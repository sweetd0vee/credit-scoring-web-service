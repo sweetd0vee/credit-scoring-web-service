{
  "nbformat": 4,
  "nbformat_minor": 0,
  "metadata": {
    "accelerator": "GPU",
    "colab": {
      "name": "MLP.ipynb",
      "provenance": []
    },
    "kernelspec": {
      "display_name": "Python 3",
      "name": "python3"
    },
    "language_info": {
      "name": "python"
    }
  },
  "cells": [
    {
      "cell_type": "code",
      "metadata": {
        "colab": {
          "base_uri": "https://localhost:8080/"
        },
        "id": "KcB3Q29B7JsD",
        "outputId": "60526656-6862-402f-da92-c03b031c773d"
      },
      "source": [
        "from google.colab import drive\n",
        "drive.mount('/content/drive')\n",
        "\n",
        "path = '/content/drive/My Drive/Colab Notebooks/home-credit-default-risk'"
      ],
      "execution_count": 11,
      "outputs": [
        {
          "output_type": "stream",
          "text": [
            "Drive already mounted at /content/drive; to attempt to forcibly remount, call drive.mount(\"/content/drive\", force_remount=True).\n"
          ],
          "name": "stdout"
        }
      ]
    },
    {
      "cell_type": "code",
      "metadata": {
        "id": "AQueL7n-7Nfz"
      },
      "source": [
        "import pandas as pd \n",
        "import numpy as np\n",
        "\n",
        "import warnings\n",
        "warnings.filterwarnings('ignore')"
      ],
      "execution_count": 3,
      "outputs": []
    },
    {
      "cell_type": "code",
      "metadata": {
        "id": "z-3jvvjP7PPL"
      },
      "source": [
        "train = pd.read_csv(path + '/train.csv').set_index('SK_ID_CURR')\n",
        "test = pd.read_csv(path + '/test.csv').set_index('SK_ID_CURR')\n",
        "\n",
        "kaggle_test = pd.read_csv(path + '/kaggle_test.csv').set_index('SK_ID_CURR')"
      ],
      "execution_count": 4,
      "outputs": []
    },
    {
      "cell_type": "code",
      "metadata": {
        "colab": {
          "base_uri": "https://localhost:8080/"
        },
        "id": "ecTbkZ0v7Rrf",
        "outputId": "126674f3-8f1f-476d-8338-606edd80d6ad"
      },
      "source": [
        "train.dtypes.unique()"
      ],
      "execution_count": 5,
      "outputs": [
        {
          "output_type": "execute_result",
          "data": {
            "text/plain": [
              "array([dtype('int64'), dtype('O'), dtype('float64')], dtype=object)"
            ]
          },
          "metadata": {
            "tags": []
          },
          "execution_count": 5
        }
      ]
    },
    {
      "cell_type": "code",
      "metadata": {
        "id": "CU6rYgaY7irB"
      },
      "source": [
        "categorical = train.select_dtypes('O').columns.tolist()\n",
        "numeric = train.drop(columns=['TARGET']).select_dtypes(include=np.number).columns.tolist()\n",
        "features = np.concatenate((numeric, categorical), axis=0)"
      ],
      "execution_count": 6,
      "outputs": []
    },
    {
      "cell_type": "code",
      "metadata": {
        "id": "9ahQxPu07nW8"
      },
      "source": [
        "X_train, y_train = train.drop(columns=['TARGET']), train['TARGET']\n",
        "X_test, y_test = test.drop(columns=['TARGET']), test['TARGET']"
      ],
      "execution_count": 7,
      "outputs": []
    },
    {
      "cell_type": "code",
      "metadata": {
        "id": "Aq6hBRfl74Wb"
      },
      "source": [
        "from sklearn.impute import SimpleImputer\n",
        "\n",
        "def process_features(df):\n",
        "  ########### process numeric features #############\n",
        "\n",
        "  # delete inf values\n",
        "  df[numeric] = df[numeric].replace([float(\"inf\"), float(\"-inf\")], np.nan)\n",
        "\n",
        "  # change NaNs to mean value in the column  \n",
        "  imputer = SimpleImputer(missing_values = np.nan, strategy = 'mean')\n",
        "  df[numeric] = imputer.fit_transform(df[numeric])\n",
        "\n",
        "  ########### process categorical features ########\n",
        "\n",
        "  # change NaNs to 'NULL' category\n",
        "  df[categorical] = df[categorical].astype('category')\n",
        "  for col in categorical:\n",
        "    df[col] = df[col].cat.add_categories(['NULL'])\n",
        "    df[col].fillna('NULL', inplace=True)\n",
        "  \n",
        "  return df"
      ],
      "execution_count": 8,
      "outputs": []
    },
    {
      "cell_type": "code",
      "metadata": {
        "id": "7ILPDwXR77ja"
      },
      "source": [
        "X_train = process_features(X_train)\n",
        "X_test = process_features(X_test)"
      ],
      "execution_count": null,
      "outputs": []
    },
    {
      "cell_type": "code",
      "metadata": {
        "id": "XYsPkW0-8HWo"
      },
      "source": [
        "kaggle_test[numeric] = kaggle_test[numeric].replace([float(\"inf\"), float(\"-inf\")], np.nan)\n",
        "kaggle_test_mean = kaggle_test[numeric].mean()\n",
        "kaggle_test_mean = kaggle_test_mean.fillna(0)\n",
        "kaggle_test[numeric] = kaggle_test[numeric].fillna(kaggle_test_mean)"
      ],
      "execution_count": 10,
      "outputs": []
    },
    {
      "cell_type": "code",
      "metadata": {
        "id": "j046qhK78NO4"
      },
      "source": [
        "kaggle_test[categorical] = kaggle_test[categorical].astype('category')\n",
        "for col in categorical:\n",
        "  kaggle_test[col] = kaggle_test[col].cat.add_categories(['NULL'])\n",
        "  kaggle_test[col].fillna('NULL', inplace=True)"
      ],
      "execution_count": 12,
      "outputs": []
    },
    {
      "cell_type": "markdown",
      "metadata": {
        "id": "ZX6YXJrQ8Q_e"
      },
      "source": [
        "### Label Encoding"
      ]
    },
    {
      "cell_type": "code",
      "metadata": {
        "id": "54MLYd6v9Rhj"
      },
      "source": [
        "X_train_le, y_train_le = X_train, y_train\n",
        "X_test_le, y_test_le = X_test, y_test\n",
        "kaggle_test_le = kaggle_test"
      ],
      "execution_count": 13,
      "outputs": []
    },
    {
      "cell_type": "code",
      "metadata": {
        "id": "PJOM89GO8Wd2"
      },
      "source": [
        "from sklearn import preprocessing\n",
        "from sklearn.preprocessing import LabelEncoder\n",
        "\n",
        "categorical_dims =  {}\n",
        "\n",
        "# encode categorical features\n",
        "for column in categorical:\n",
        "    le = LabelEncoder()\n",
        "    le.fit(list(X_train_le[column].values) + list(X_test_le[column].values) + list(kaggle_test_le[column].values))\n",
        "    X_train_le[column] = le.transform(list(X_train_le[column].values))\n",
        "    X_test_le[column] = le.transform(list(X_test_le[column].values))\n",
        "    kaggle_test_le[column] = le.transform(list(kaggle_test_le[column].values))\n",
        "    categorical_dims[column] = len(le.classes_)"
      ],
      "execution_count": 14,
      "outputs": []
    },
    {
      "cell_type": "code",
      "metadata": {
        "id": "1qgbJ65K9x3g"
      },
      "source": [
        "from sklearn.preprocessing import MinMaxScaler\n",
        "\n",
        "# standardization\n",
        "X_train_le = pd.DataFrame(MinMaxScaler().fit_transform(X_train_le), columns=features)\n",
        "X_test_le = pd.DataFrame(MinMaxScaler().fit_transform(X_test_le), columns=features)\n",
        "kaggle_test_le = pd.DataFrame(MinMaxScaler().fit_transform(kaggle_test_le), columns=features)"
      ],
      "execution_count": 15,
      "outputs": []
    },
    {
      "cell_type": "markdown",
      "metadata": {
        "id": "Ae2c95H3_E2g"
      },
      "source": [
        "### One Hot Encoding"
      ]
    },
    {
      "cell_type": "code",
      "metadata": {
        "id": "9exutT_Z_ES4"
      },
      "source": [
        "X_train_ohe, y_train_ohe = X_train, y_train\n",
        "X_test_ohe, y_test_ohe = X_test, y_test\n",
        "kaggle_test_ohe = kaggle_test"
      ],
      "execution_count": null,
      "outputs": []
    },
    {
      "cell_type": "code",
      "metadata": {
        "id": "CDV642v-9yAv"
      },
      "source": [
        "# from sklearn.preprocessing import OneHotEncoder\n",
        "\n",
        "# for column in categorical:\n",
        "#     ohe = OneHotEncoder()\n",
        "#     ohe.fit(list(X_train_ohe[column].values) + list(X_test_ohe[column].values) + list(kaggle_test_ohe[column].values))\n",
        "#     X_train_le[column] = le.transform(list(X_train_le[column].values))\n",
        "#     X_test_le[column] = le.transform(list(X_test_le[column].values))\n",
        "#     kaggle_test_le[column] = le.transform(list(kaggle_test_le[column].values))\n",
        "#     categorical_dims[column] = len(le.classes_)\n"
      ],
      "execution_count": null,
      "outputs": []
    },
    {
      "cell_type": "markdown",
      "metadata": {
        "id": "hFJQ9ebpj1XG"
      },
      "source": [
        "### Model"
      ]
    },
    {
      "cell_type": "code",
      "metadata": {
        "colab": {
          "base_uri": "https://localhost:8080/"
        },
        "id": "Rk2IOJI4JvOD",
        "outputId": "21bd1852-a8e8-4dda-e623-e866a6693482"
      },
      "source": [
        "!pip install keras-tuner"
      ],
      "execution_count": 16,
      "outputs": [
        {
          "output_type": "stream",
          "text": [
            "Collecting keras-tuner\n",
            "\u001b[?25l  Downloading https://files.pythonhosted.org/packages/20/ec/1ef246787174b1e2bb591c95f29d3c1310070cad877824f907faba3dade9/keras-tuner-1.0.2.tar.gz (62kB)\n",
            "\r\u001b[K     |█████▏                          | 10kB 22.8MB/s eta 0:00:01\r\u001b[K     |██████████▍                     | 20kB 30.1MB/s eta 0:00:01\r\u001b[K     |███████████████▋                | 30kB 33.8MB/s eta 0:00:01\r\u001b[K     |████████████████████▉           | 40kB 22.5MB/s eta 0:00:01\r\u001b[K     |██████████████████████████      | 51kB 19.5MB/s eta 0:00:01\r\u001b[K     |███████████████████████████████▎| 61kB 19.7MB/s eta 0:00:01\r\u001b[K     |████████████████████████████████| 71kB 8.0MB/s \n",
            "\u001b[?25hRequirement already satisfied: packaging in /usr/local/lib/python3.7/dist-packages (from keras-tuner) (20.9)\n",
            "Requirement already satisfied: future in /usr/local/lib/python3.7/dist-packages (from keras-tuner) (0.16.0)\n",
            "Requirement already satisfied: numpy in /usr/local/lib/python3.7/dist-packages (from keras-tuner) (1.19.5)\n",
            "Requirement already satisfied: tabulate in /usr/local/lib/python3.7/dist-packages (from keras-tuner) (0.8.9)\n",
            "Collecting terminaltables\n",
            "  Downloading https://files.pythonhosted.org/packages/9b/c4/4a21174f32f8a7e1104798c445dacdc1d4df86f2f26722767034e4de4bff/terminaltables-3.1.0.tar.gz\n",
            "Collecting colorama\n",
            "  Downloading https://files.pythonhosted.org/packages/44/98/5b86278fbbf250d239ae0ecb724f8572af1c91f4a11edf4d36a206189440/colorama-0.4.4-py2.py3-none-any.whl\n",
            "Requirement already satisfied: tqdm in /usr/local/lib/python3.7/dist-packages (from keras-tuner) (4.41.1)\n",
            "Requirement already satisfied: requests in /usr/local/lib/python3.7/dist-packages (from keras-tuner) (2.23.0)\n",
            "Requirement already satisfied: scipy in /usr/local/lib/python3.7/dist-packages (from keras-tuner) (1.4.1)\n",
            "Requirement already satisfied: scikit-learn in /usr/local/lib/python3.7/dist-packages (from keras-tuner) (0.22.2.post1)\n",
            "Requirement already satisfied: pyparsing>=2.0.2 in /usr/local/lib/python3.7/dist-packages (from packaging->keras-tuner) (2.4.7)\n",
            "Requirement already satisfied: urllib3!=1.25.0,!=1.25.1,<1.26,>=1.21.1 in /usr/local/lib/python3.7/dist-packages (from requests->keras-tuner) (1.24.3)\n",
            "Requirement already satisfied: certifi>=2017.4.17 in /usr/local/lib/python3.7/dist-packages (from requests->keras-tuner) (2020.12.5)\n",
            "Requirement already satisfied: idna<3,>=2.5 in /usr/local/lib/python3.7/dist-packages (from requests->keras-tuner) (2.10)\n",
            "Requirement already satisfied: chardet<4,>=3.0.2 in /usr/local/lib/python3.7/dist-packages (from requests->keras-tuner) (3.0.4)\n",
            "Requirement already satisfied: joblib>=0.11 in /usr/local/lib/python3.7/dist-packages (from scikit-learn->keras-tuner) (1.0.1)\n",
            "Building wheels for collected packages: keras-tuner, terminaltables\n",
            "  Building wheel for keras-tuner (setup.py) ... \u001b[?25l\u001b[?25hdone\n",
            "  Created wheel for keras-tuner: filename=keras_tuner-1.0.2-cp37-none-any.whl size=78938 sha256=93f359e66dd78ba579a4d2abfc2bfd9db882ce3e32e23191282b60311b28cd62\n",
            "  Stored in directory: /root/.cache/pip/wheels/bb/a1/8a/7c3de0efb3707a1701b36ebbfdbc4e67aedf6d4943a1f463d6\n",
            "  Building wheel for terminaltables (setup.py) ... \u001b[?25l\u001b[?25hdone\n",
            "  Created wheel for terminaltables: filename=terminaltables-3.1.0-cp37-none-any.whl size=15356 sha256=efca253d7c6a9212fb01cea4c6123808d6d14c90e6c9536f174aae5175c98b67\n",
            "  Stored in directory: /root/.cache/pip/wheels/30/6b/50/6c75775b681fb36cdfac7f19799888ef9d8813aff9e379663e\n",
            "Successfully built keras-tuner terminaltables\n",
            "Installing collected packages: terminaltables, colorama, keras-tuner\n",
            "Successfully installed colorama-0.4.4 keras-tuner-1.0.2 terminaltables-3.1.0\n"
          ],
          "name": "stdout"
        }
      ]
    },
    {
      "cell_type": "code",
      "metadata": {
        "id": "_0SnyQdfJ_BG"
      },
      "source": [
        "import tensorflow as tf \n",
        "import keras\n",
        "from keras.models import Sequential, Model\n",
        "from keras.layers import Activation, Dense, Flatten, BatchNormalization, Dropout, Input, Embedding, Reshape, Concatenate\n",
        "from keras.optimizers import SGD\n",
        "from tensorflow import keras\n",
        "from tensorflow.keras import layers\n",
        "from kerastuner.tuners import RandomSearch\n",
        "from sklearn.metrics import roc_auc_score"
      ],
      "execution_count": 17,
      "outputs": []
    },
    {
      "cell_type": "code",
      "metadata": {
        "id": "I18k_jsdKIch"
      },
      "source": [
        "from sklearn.model_selection import train_test_split\n",
        "\n",
        "train_X, valid_X, train_y, valid_y = train_test_split(X_train_le, y_train_le, test_size=0.25, random_state=42)"
      ],
      "execution_count": 18,
      "outputs": []
    },
    {
      "cell_type": "code",
      "metadata": {
        "id": "58aZaCRUDjIX"
      },
      "source": [
        "#Adam optimizer\n",
        "def build_model(hp):\n",
        "    \n",
        "    model = keras.Sequential()\n",
        "    counter = 0\n",
        "    \n",
        "    for i in range(hp.Int('num_layers',min_value=1,max_value=10)):\n",
        "        if counter == 0:\n",
        "            model.add(layers.Dense(hp.Int('units_' + str(i),\n",
        "                                min_value=16,\n",
        "                                max_value=256,\n",
        "                                step=16), kernel_initializer = 'he_uniform', activation='relu',input_dim = 434))\n",
        "            model.add(Dropout(hp.Choice('dropout' + str(i), values=[0.1,0.2,0.3,0.4,0.5])))\n",
        "        else:\n",
        "            model.add(layers.Dense(units=hp.Int('units_' + str(i),\n",
        "                                            min_value=16,\n",
        "                                            max_value=256,\n",
        "                                            step=16),\n",
        "                               activation='relu', kernel_initializer = 'he_uniform'))\n",
        "            model.add(Dropout(hp.Choice('dropout' + str(i), values=[0.1,0.2,0.3,0.4,0.5])))\n",
        "        counter+=1\n",
        "    \n",
        "    # Adding the output layer\n",
        "    model.add(layers.Dense(1, activation='sigmoid', kernel_initializer = 'glorot_uniform'))\n",
        "    # Compiling the ANN\n",
        "    model.compile(\n",
        "        optimizer=keras.optimizers.Adam(\n",
        "            hp.Choice('learning_rate', [1e-2, 1e-3, 1e-4])),\n",
        "        loss='binary_crossentropy',\n",
        "        metrics=['AUC'])\n",
        "    return model"
      ],
      "execution_count": 19,
      "outputs": []
    },
    {
      "cell_type": "code",
      "metadata": {
        "id": "MSMgNazEDwIy"
      },
      "source": [
        "import kerastuner\n",
        "tuner = RandomSearch(\n",
        "    build_model,\n",
        "    objective=kerastuner.Objective('val_auc', direction=\"max\"),\n",
        "    seed=42,\n",
        "    max_trials=5,\n",
        "    executions_per_trial=3,\n",
        "    directory=path,\n",
        "    project_name='kerastuner_params')"
      ],
      "execution_count": null,
      "outputs": []
    },
    {
      "cell_type": "code",
      "metadata": {
        "colab": {
          "base_uri": "https://localhost:8080/"
        },
        "id": "1_AmMh0FDxS0",
        "outputId": "7cf1af31-bfb2-4a21-fa43-87a7148f88d5"
      },
      "source": [
        "tuner.search(train_X, train_y, epochs=30, batch_size=256, \n",
        "             validation_data=(valid_X, valid_y))"
      ],
      "execution_count": null,
      "outputs": [
        {
          "output_type": "stream",
          "text": [
            "Trial 5 Complete [00h 06m 42s]\n",
            "val_auc: 0.7570035060246786\n",
            "\n",
            "Best val_auc So Far: 0.7571346561113993\n",
            "Total elapsed time: 00h 34m 07s\n",
            "INFO:tensorflow:Oracle triggered exit\n"
          ],
          "name": "stdout"
        }
      ]
    },
    {
      "cell_type": "code",
      "metadata": {
        "id": "Mn3uauG9UoXG"
      },
      "source": [
        "model = tuner.get_best_models(num_models=1)[0]\n"
      ],
      "execution_count": null,
      "outputs": []
    },
    {
      "cell_type": "code",
      "metadata": {
        "colab": {
          "base_uri": "https://localhost:8080/"
        },
        "id": "yq3kfzczf4uP",
        "outputId": "c1f7d5ce-4314-40d8-d2af-359efd0dbb56"
      },
      "source": [
        "tuner.get_best_hyperparameters()[0].values"
      ],
      "execution_count": null,
      "outputs": [
        {
          "output_type": "execute_result",
          "data": {
            "text/plain": [
              "{'dropout0': 0.4,\n",
              " 'dropout1': 0.1,\n",
              " 'dropout2': 0.1,\n",
              " 'dropout3': 0.3,\n",
              " 'dropout4': 0.3,\n",
              " 'dropout5': 0.4,\n",
              " 'dropout6': 0.3,\n",
              " 'dropout7': 0.2,\n",
              " 'dropout8': 0.5,\n",
              " 'learning_rate': 0.001,\n",
              " 'num_layers': 9,\n",
              " 'units_0': 128,\n",
              " 'units_1': 32,\n",
              " 'units_2': 192,\n",
              " 'units_3': 240,\n",
              " 'units_4': 32,\n",
              " 'units_5': 224,\n",
              " 'units_6': 112,\n",
              " 'units_7': 208,\n",
              " 'units_8': 80}"
            ]
          },
          "metadata": {
            "tags": []
          },
          "execution_count": 30
        }
      ]
    },
    {
      "cell_type": "code",
      "metadata": {
        "colab": {
          "base_uri": "https://localhost:8080/"
        },
        "id": "_TXsbJXHV3Km",
        "outputId": "3a439981-52e7-45db-972c-c0f45f3ec0de"
      },
      "source": [
        "model.summary()"
      ],
      "execution_count": null,
      "outputs": [
        {
          "output_type": "stream",
          "text": [
            "Model: \"sequential\"\n",
            "_________________________________________________________________\n",
            "Layer (type)                 Output Shape              Param #   \n",
            "=================================================================\n",
            "dense (Dense)                (None, 128)               55680     \n",
            "_________________________________________________________________\n",
            "module_wrapper (ModuleWrappe (None, 128)               0         \n",
            "_________________________________________________________________\n",
            "dense_1 (Dense)              (None, 32)                4128      \n",
            "_________________________________________________________________\n",
            "module_wrapper_1 (ModuleWrap (None, 32)                0         \n",
            "_________________________________________________________________\n",
            "dense_2 (Dense)              (None, 192)               6336      \n",
            "_________________________________________________________________\n",
            "module_wrapper_2 (ModuleWrap (None, 192)               0         \n",
            "_________________________________________________________________\n",
            "dense_3 (Dense)              (None, 240)               46320     \n",
            "_________________________________________________________________\n",
            "module_wrapper_3 (ModuleWrap (None, 240)               0         \n",
            "_________________________________________________________________\n",
            "dense_4 (Dense)              (None, 32)                7712      \n",
            "_________________________________________________________________\n",
            "module_wrapper_4 (ModuleWrap (None, 32)                0         \n",
            "_________________________________________________________________\n",
            "dense_5 (Dense)              (None, 224)               7392      \n",
            "_________________________________________________________________\n",
            "module_wrapper_5 (ModuleWrap (None, 224)               0         \n",
            "_________________________________________________________________\n",
            "dense_6 (Dense)              (None, 112)               25200     \n",
            "_________________________________________________________________\n",
            "module_wrapper_6 (ModuleWrap (None, 112)               0         \n",
            "_________________________________________________________________\n",
            "dense_7 (Dense)              (None, 208)               23504     \n",
            "_________________________________________________________________\n",
            "module_wrapper_7 (ModuleWrap (None, 208)               0         \n",
            "_________________________________________________________________\n",
            "dense_8 (Dense)              (None, 80)                16720     \n",
            "_________________________________________________________________\n",
            "module_wrapper_8 (ModuleWrap (None, 80)                0         \n",
            "_________________________________________________________________\n",
            "dense_9 (Dense)              (None, 1)                 81        \n",
            "=================================================================\n",
            "Total params: 193,073\n",
            "Trainable params: 193,073\n",
            "Non-trainable params: 0\n",
            "_________________________________________________________________\n"
          ],
          "name": "stdout"
        }
      ]
    },
    {
      "cell_type": "code",
      "metadata": {
        "id": "CV8-l01pj8hQ"
      },
      "source": [
        "y_preds = model.predict(X_test_le)[:,0]"
      ],
      "execution_count": null,
      "outputs": []
    },
    {
      "cell_type": "code",
      "metadata": {
        "id": "MWCZodTpj9H0",
        "colab": {
          "base_uri": "https://localhost:8080/"
        },
        "outputId": "5ca0c6f0-301d-4805-e686-e6a96b105bad"
      },
      "source": [
        "from sklearn.metrics import roc_auc_score\n",
        "\n",
        "roc_auc_score(y_test, y_preds)"
      ],
      "execution_count": null,
      "outputs": [
        {
          "output_type": "execute_result",
          "data": {
            "text/plain": [
              "0.7446797414142389"
            ]
          },
          "metadata": {
            "tags": []
          },
          "execution_count": 33
        }
      ]
    },
    {
      "cell_type": "code",
      "metadata": {
        "id": "9majr4rEiKUE"
      },
      "source": [
        "import kerastuner\n",
        "tuner1 = RandomSearch(\n",
        "    build_model,\n",
        "    objective=kerastuner.Objective('val_auc', direction=\"max\"),\n",
        "    seed=42,\n",
        "    max_trials=5,\n",
        "    executions_per_trial=3,\n",
        "    directory=path,\n",
        "    project_name='kerastuner_params_test')"
      ],
      "execution_count": null,
      "outputs": []
    },
    {
      "cell_type": "code",
      "metadata": {
        "colab": {
          "base_uri": "https://localhost:8080/"
        },
        "id": "_OvwtMWNiXy0",
        "outputId": "1271444c-e461-4755-e2c2-495ed6e3a7a8"
      },
      "source": [
        "# обучаемся на всем трейне и тест тут как валидационная выборка чтоб на кегл заслать\n",
        "tuner1.search(X_train_le, y_train, epochs=20, batch_size=256, \n",
        "             validation_data=(X_test_le, y_test))"
      ],
      "execution_count": null,
      "outputs": [
        {
          "output_type": "stream",
          "text": [
            "Trial 5 Complete [00h 06m 14s]\n",
            "val_auc: 0.7457016905148824\n",
            "\n",
            "Best val_auc So Far: 0.7457016905148824\n",
            "Total elapsed time: 00h 31m 55s\n",
            "INFO:tensorflow:Oracle triggered exit\n"
          ],
          "name": "stdout"
        }
      ]
    },
    {
      "cell_type": "code",
      "metadata": {
        "id": "XuFvYwOCiLux"
      },
      "source": [
        "model1 = tuner.get_best_models(num_models=1)[0]"
      ],
      "execution_count": null,
      "outputs": []
    },
    {
      "cell_type": "code",
      "metadata": {
        "colab": {
          "base_uri": "https://localhost:8080/"
        },
        "id": "WELPWUXEjB0r",
        "outputId": "3b7c6951-8d05-40ad-dc1e-fa907dc0da80"
      },
      "source": [
        "model1.summary()"
      ],
      "execution_count": null,
      "outputs": [
        {
          "output_type": "stream",
          "text": [
            "Model: \"sequential\"\n",
            "_________________________________________________________________\n",
            "Layer (type)                 Output Shape              Param #   \n",
            "=================================================================\n",
            "dense (Dense)                (None, 128)               55680     \n",
            "_________________________________________________________________\n",
            "module_wrapper (ModuleWrappe (None, 128)               0         \n",
            "_________________________________________________________________\n",
            "dense_1 (Dense)              (None, 32)                4128      \n",
            "_________________________________________________________________\n",
            "module_wrapper_1 (ModuleWrap (None, 32)                0         \n",
            "_________________________________________________________________\n",
            "dense_2 (Dense)              (None, 192)               6336      \n",
            "_________________________________________________________________\n",
            "module_wrapper_2 (ModuleWrap (None, 192)               0         \n",
            "_________________________________________________________________\n",
            "dense_3 (Dense)              (None, 240)               46320     \n",
            "_________________________________________________________________\n",
            "module_wrapper_3 (ModuleWrap (None, 240)               0         \n",
            "_________________________________________________________________\n",
            "dense_4 (Dense)              (None, 32)                7712      \n",
            "_________________________________________________________________\n",
            "module_wrapper_4 (ModuleWrap (None, 32)                0         \n",
            "_________________________________________________________________\n",
            "dense_5 (Dense)              (None, 224)               7392      \n",
            "_________________________________________________________________\n",
            "module_wrapper_5 (ModuleWrap (None, 224)               0         \n",
            "_________________________________________________________________\n",
            "dense_6 (Dense)              (None, 112)               25200     \n",
            "_________________________________________________________________\n",
            "module_wrapper_6 (ModuleWrap (None, 112)               0         \n",
            "_________________________________________________________________\n",
            "dense_7 (Dense)              (None, 208)               23504     \n",
            "_________________________________________________________________\n",
            "module_wrapper_7 (ModuleWrap (None, 208)               0         \n",
            "_________________________________________________________________\n",
            "dense_8 (Dense)              (None, 80)                16720     \n",
            "_________________________________________________________________\n",
            "module_wrapper_8 (ModuleWrap (None, 80)                0         \n",
            "_________________________________________________________________\n",
            "dense_9 (Dense)              (None, 1)                 81        \n",
            "=================================================================\n",
            "Total params: 193,073\n",
            "Trainable params: 193,073\n",
            "Non-trainable params: 0\n",
            "_________________________________________________________________\n"
          ],
          "name": "stdout"
        }
      ]
    },
    {
      "cell_type": "code",
      "metadata": {
        "id": "At3dfEcAjE6y"
      },
      "source": [
        "kaggle_test_preds1= model1.predict(kaggle_test_le)[:,0]"
      ],
      "execution_count": null,
      "outputs": []
    },
    {
      "cell_type": "code",
      "metadata": {
        "colab": {
          "base_uri": "https://localhost:8080/",
          "height": 399
        },
        "id": "iuo1Peh-sdOo",
        "outputId": "0e168abc-92e5-4114-8dc3-c42d3c0be08a"
      },
      "source": [
        "sample"
      ],
      "execution_count": null,
      "outputs": [
        {
          "output_type": "execute_result",
          "data": {
            "text/html": [
              "<div>\n",
              "<style scoped>\n",
              "    .dataframe tbody tr th:only-of-type {\n",
              "        vertical-align: middle;\n",
              "    }\n",
              "\n",
              "    .dataframe tbody tr th {\n",
              "        vertical-align: top;\n",
              "    }\n",
              "\n",
              "    .dataframe thead th {\n",
              "        text-align: right;\n",
              "    }\n",
              "</style>\n",
              "<table border=\"1\" class=\"dataframe\">\n",
              "  <thead>\n",
              "    <tr style=\"text-align: right;\">\n",
              "      <th></th>\n",
              "      <th>TARGET</th>\n",
              "    </tr>\n",
              "    <tr>\n",
              "      <th>SK_ID_CURR</th>\n",
              "      <th></th>\n",
              "    </tr>\n",
              "  </thead>\n",
              "  <tbody>\n",
              "    <tr>\n",
              "      <th>100001</th>\n",
              "      <td>0.071993</td>\n",
              "    </tr>\n",
              "    <tr>\n",
              "      <th>100005</th>\n",
              "      <td>0.179918</td>\n",
              "    </tr>\n",
              "    <tr>\n",
              "      <th>100013</th>\n",
              "      <td>0.071168</td>\n",
              "    </tr>\n",
              "    <tr>\n",
              "      <th>100028</th>\n",
              "      <td>0.071905</td>\n",
              "    </tr>\n",
              "    <tr>\n",
              "      <th>100038</th>\n",
              "      <td>0.176911</td>\n",
              "    </tr>\n",
              "    <tr>\n",
              "      <th>...</th>\n",
              "      <td>...</td>\n",
              "    </tr>\n",
              "    <tr>\n",
              "      <th>456221</th>\n",
              "      <td>0.146781</td>\n",
              "    </tr>\n",
              "    <tr>\n",
              "      <th>456222</th>\n",
              "      <td>0.072831</td>\n",
              "    </tr>\n",
              "    <tr>\n",
              "      <th>456223</th>\n",
              "      <td>0.040516</td>\n",
              "    </tr>\n",
              "    <tr>\n",
              "      <th>456224</th>\n",
              "      <td>0.100579</td>\n",
              "    </tr>\n",
              "    <tr>\n",
              "      <th>456250</th>\n",
              "      <td>0.175350</td>\n",
              "    </tr>\n",
              "  </tbody>\n",
              "</table>\n",
              "<p>48744 rows × 1 columns</p>\n",
              "</div>"
            ],
            "text/plain": [
              "              TARGET\n",
              "SK_ID_CURR          \n",
              "100001      0.071993\n",
              "100005      0.179918\n",
              "100013      0.071168\n",
              "100028      0.071905\n",
              "100038      0.176911\n",
              "...              ...\n",
              "456221      0.146781\n",
              "456222      0.072831\n",
              "456223      0.040516\n",
              "456224      0.100579\n",
              "456250      0.175350\n",
              "\n",
              "[48744 rows x 1 columns]"
            ]
          },
          "metadata": {
            "tags": []
          },
          "execution_count": 46
        }
      ]
    },
    {
      "cell_type": "code",
      "metadata": {
        "colab": {
          "base_uri": "https://localhost:8080/",
          "height": 75
        },
        "id": "aAN6ItOThucK",
        "outputId": "654e8e80-effe-4ae1-ab2b-24353e34d74f"
      },
      "source": [
        "kaggle_test1 = pd.read_csv(path + '/kaggle_test.csv')\n",
        "ids = kaggle_test1['SK_ID_CURR'].values\n",
        "A = pd.DataFrame(ids)\n",
        "A['TARGET'] = kaggle_test_preds1\n",
        "A['SK_ID_CURR'] = ids\n",
        "A = A.set_index('SK_ID_CURR')\n",
        "A[A['TARGET']<0]"
      ],
      "execution_count": null,
      "outputs": [
        {
          "output_type": "execute_result",
          "data": {
            "text/html": [
              "<div>\n",
              "<style scoped>\n",
              "    .dataframe tbody tr th:only-of-type {\n",
              "        vertical-align: middle;\n",
              "    }\n",
              "\n",
              "    .dataframe tbody tr th {\n",
              "        vertical-align: top;\n",
              "    }\n",
              "\n",
              "    .dataframe thead th {\n",
              "        text-align: right;\n",
              "    }\n",
              "</style>\n",
              "<table border=\"1\" class=\"dataframe\">\n",
              "  <thead>\n",
              "    <tr style=\"text-align: right;\">\n",
              "      <th></th>\n",
              "      <th>0</th>\n",
              "      <th>TARGET</th>\n",
              "    </tr>\n",
              "    <tr>\n",
              "      <th>SK_ID_CURR</th>\n",
              "      <th></th>\n",
              "      <th></th>\n",
              "    </tr>\n",
              "  </thead>\n",
              "  <tbody>\n",
              "  </tbody>\n",
              "</table>\n",
              "</div>"
            ],
            "text/plain": [
              "Empty DataFrame\n",
              "Columns: [0, TARGET]\n",
              "Index: []"
            ]
          },
          "metadata": {
            "tags": []
          },
          "execution_count": 47
        }
      ]
    },
    {
      "cell_type": "code",
      "metadata": {
        "id": "CJg-QVa_h2t6"
      },
      "source": [
        "sample = pd.read_csv(path + '/sample_submission.csv')\n",
        "sample = sample.set_index('SK_ID_CURR')\n",
        "sample['TARGET'] = A['TARGET']\n",
        "sample.to_csv(path+'/my_submission_tuner1.csv')"
      ],
      "execution_count": null,
      "outputs": []
    },
    {
      "cell_type": "code",
      "metadata": {
        "id": "2C31onl5cnQn"
      },
      "source": [
        "#RmsProp\n",
        "def build_model_rmsprop(hp):\n",
        "    \n",
        "    model = keras.Sequential()\n",
        "    counter = 0\n",
        "    \n",
        "    for i in range(hp.Int('num_layers',min_value=1,max_value=10)):\n",
        "        if counter == 0:\n",
        "            model.add(layers.Dense(hp.Int('units_' + str(i),\n",
        "                                min_value=16,\n",
        "                                max_value=256,\n",
        "                                step=16), kernel_initializer = 'he_uniform', activation='relu',input_dim = 434))\n",
        "            model.add(Dropout(hp.Choice('dropout' + str(i), values=[0.1,0.2,0.3,0.4,0.5])))\n",
        "        else:\n",
        "            model.add(layers.Dense(units=hp.Int('units_' + str(i),\n",
        "                                            min_value=16,\n",
        "                                            max_value=256,\n",
        "                                            step=16),\n",
        "                               activation='relu', kernel_initializer = 'he_uniform'))\n",
        "            model.add(Dropout(hp.Choice('dropout' + str(i), values=[0.1,0.2,0.3,0.4,0.5])))\n",
        "        counter+=1\n",
        "    \n",
        "    # Adding the output layer\n",
        "    model.add(layers.Dense(1, activation='sigmoid', kernel_initializer = 'glorot_uniform'))\n",
        "    # Compiling the ANN\n",
        "    model.compile(\n",
        "        optimizer=keras.optimizers.RMSprop(lr=hp.Choice('learning_rate', [1e-2, 1e-3, 1e-4])),\n",
        "        loss='binary_crossentropy',\n",
        "        metrics=['AUC'])\n",
        "    return model"
      ],
      "execution_count": 22,
      "outputs": []
    },
    {
      "cell_type": "code",
      "metadata": {
        "id": "QNMd-zzqcn0b"
      },
      "source": [
        "import kerastuner\n",
        "tuner3 = RandomSearch(\n",
        "    build_model_rmsprop,\n",
        "    objective=kerastuner.Objective('val_auc', direction=\"max\"),\n",
        "    seed=42,\n",
        "    max_trials=5,\n",
        "    executions_per_trial=3,\n",
        "    directory=path,\n",
        "    project_name='kerastuner_params_rms')"
      ],
      "execution_count": 23,
      "outputs": []
    },
    {
      "cell_type": "code",
      "metadata": {
        "colab": {
          "base_uri": "https://localhost:8080/",
          "height": 1000
        },
        "id": "R-pDYSNfcol5",
        "outputId": "c8615db3-1a7f-49bf-e5a7-f85d9ba89f5b"
      },
      "source": [
        "# обучаемся на всем трейне и тест тут как валидационная выборка чтоб на кегл заслать rmsprop\n",
        "tuner3.search(X_train_le, y_train, epochs=20, batch_size=128, \n",
        "             validation_data=(X_test_le, y_test))"
      ],
      "execution_count": 25,
      "outputs": [
        {
          "output_type": "stream",
          "text": [
            "Trial 2 Complete [00h 12m 27s]\n",
            "val_auc: 0.5014530221621195\n",
            "\n",
            "Best val_auc So Far: 0.7315846880276998\n",
            "Total elapsed time: 00h 23m 47s\n",
            "\n",
            "Search: Running Trial #3\n",
            "\n",
            "Hyperparameter    |Value             |Best Value So Far \n",
            "num_layers        |9                 |7                 \n",
            "units_0           |128               |32                \n",
            "dropout0          |0.4               |0.4               \n",
            "learning_rate     |0.001             |0.001             \n",
            "units_1           |32                |16                \n",
            "dropout1          |0.1               |0.1               \n",
            "units_2           |192               |16                \n",
            "dropout2          |0.1               |0.1               \n",
            "units_3           |240               |16                \n",
            "dropout3          |0.3               |0.1               \n",
            "units_4           |32                |16                \n",
            "dropout4          |0.3               |0.1               \n",
            "units_5           |224               |16                \n",
            "dropout5          |0.4               |0.1               \n",
            "units_6           |112               |16                \n",
            "dropout6          |0.3               |0.1               \n",
            "units_7           |208               |None              \n",
            "dropout7          |0.2               |None              \n",
            "units_8           |80                |None              \n",
            "dropout8          |0.5               |None              \n",
            "\n",
            "Epoch 1/20\n",
            "2043/2043 [==============================] - 14s 6ms/step - loss: 0.2903 - auc: 0.6148 - val_loss: 0.2747 - val_auc: 0.7044\n",
            "Epoch 2/20\n",
            "2043/2043 [==============================] - 12s 6ms/step - loss: 0.3117 - auc: 0.6638 - val_loss: 0.2858 - val_auc: 0.7176\n",
            "Epoch 3/20\n",
            "2043/2043 [==============================] - 12s 6ms/step - loss: 0.4806 - auc: 0.6672 - val_loss: 0.2732 - val_auc: 0.7118\n",
            "Epoch 4/20\n",
            "2043/2043 [==============================] - 12s 6ms/step - loss: 1.3354 - auc: 0.6534 - val_loss: 0.2776 - val_auc: 0.6932\n",
            "Epoch 5/20\n",
            "2043/2043 [==============================] - 12s 6ms/step - loss: 0.5354 - auc: 0.6334 - val_loss: 0.2795 - val_auc: 0.6503\n",
            "Epoch 6/20\n",
            "2043/2043 [==============================] - 12s 6ms/step - loss: 0.5286 - auc: 0.6128 - val_loss: 0.2764 - val_auc: 0.6578\n",
            "Epoch 7/20\n",
            "2043/2043 [==============================] - 12s 6ms/step - loss: 0.5635 - auc: 0.5776 - val_loss: 0.2778 - val_auc: 0.6165\n",
            "Epoch 8/20\n",
            "2043/2043 [==============================] - 12s 6ms/step - loss: 1.5405 - auc: 0.5617 - val_loss: 0.2804 - val_auc: 0.5967\n",
            "Epoch 9/20\n",
            "2043/2043 [==============================] - 12s 6ms/step - loss: 0.8869 - auc: 0.5384 - val_loss: 0.2806 - val_auc: 0.5170\n",
            "Epoch 10/20\n",
            "2043/2043 [==============================] - 12s 6ms/step - loss: 0.5113 - auc: 0.5193 - val_loss: 0.2804 - val_auc: 0.5237\n",
            "Epoch 11/20\n",
            "2043/2043 [==============================] - 12s 6ms/step - loss: 0.4522 - auc: 0.5158 - val_loss: 0.2803 - val_auc: 0.5612\n",
            "Epoch 12/20\n",
            "2043/2043 [==============================] - 12s 6ms/step - loss: 0.3709 - auc: 0.5124 - val_loss: 0.2806 - val_auc: 0.5000\n",
            "Epoch 13/20\n",
            "2043/2043 [==============================] - 12s 6ms/step - loss: 0.3202 - auc: 0.5099 - val_loss: 0.2806 - val_auc: 0.5000\n",
            "Epoch 14/20\n",
            "2043/2043 [==============================] - 12s 6ms/step - loss: 0.3320 - auc: 0.5072 - val_loss: 0.2804 - val_auc: 0.5044\n",
            "Epoch 15/20\n",
            "1012/2043 [=============>................] - ETA: 5s - loss: 0.3426 - auc: 0.5008"
          ],
          "name": "stdout"
        },
        {
          "output_type": "error",
          "ename": "KeyboardInterrupt",
          "evalue": "ignored",
          "traceback": [
            "\u001b[0;31m---------------------------------------------------------------------------\u001b[0m",
            "\u001b[0;31mKeyboardInterrupt\u001b[0m                         Traceback (most recent call last)",
            "\u001b[0;32m<ipython-input-25-d410d8d34957>\u001b[0m in \u001b[0;36m<module>\u001b[0;34m()\u001b[0m\n\u001b[1;32m      1\u001b[0m \u001b[0;31m# обучаемся на всем трейне и тест тут как валидационная выборка чтоб на кегл заслать\u001b[0m\u001b[0;34m\u001b[0m\u001b[0;34m\u001b[0m\u001b[0;34m\u001b[0m\u001b[0m\n\u001b[1;32m      2\u001b[0m tuner3.search(X_train_le, y_train, epochs=20, batch_size=128, \n\u001b[0;32m----> 3\u001b[0;31m              validation_data=(X_test_le, y_test))\n\u001b[0m",
            "\u001b[0;32m/usr/local/lib/python3.7/dist-packages/kerastuner/engine/base_tuner.py\u001b[0m in \u001b[0;36msearch\u001b[0;34m(self, *fit_args, **fit_kwargs)\u001b[0m\n\u001b[1;32m    129\u001b[0m \u001b[0;34m\u001b[0m\u001b[0m\n\u001b[1;32m    130\u001b[0m             \u001b[0mself\u001b[0m\u001b[0;34m.\u001b[0m\u001b[0mon_trial_begin\u001b[0m\u001b[0;34m(\u001b[0m\u001b[0mtrial\u001b[0m\u001b[0;34m)\u001b[0m\u001b[0;34m\u001b[0m\u001b[0;34m\u001b[0m\u001b[0m\n\u001b[0;32m--> 131\u001b[0;31m             \u001b[0mself\u001b[0m\u001b[0;34m.\u001b[0m\u001b[0mrun_trial\u001b[0m\u001b[0;34m(\u001b[0m\u001b[0mtrial\u001b[0m\u001b[0;34m,\u001b[0m \u001b[0;34m*\u001b[0m\u001b[0mfit_args\u001b[0m\u001b[0;34m,\u001b[0m \u001b[0;34m**\u001b[0m\u001b[0mfit_kwargs\u001b[0m\u001b[0;34m)\u001b[0m\u001b[0;34m\u001b[0m\u001b[0;34m\u001b[0m\u001b[0m\n\u001b[0m\u001b[1;32m    132\u001b[0m             \u001b[0mself\u001b[0m\u001b[0;34m.\u001b[0m\u001b[0mon_trial_end\u001b[0m\u001b[0;34m(\u001b[0m\u001b[0mtrial\u001b[0m\u001b[0;34m)\u001b[0m\u001b[0;34m\u001b[0m\u001b[0;34m\u001b[0m\u001b[0m\n\u001b[1;32m    133\u001b[0m         \u001b[0mself\u001b[0m\u001b[0;34m.\u001b[0m\u001b[0mon_search_end\u001b[0m\u001b[0;34m(\u001b[0m\u001b[0;34m)\u001b[0m\u001b[0;34m\u001b[0m\u001b[0;34m\u001b[0m\u001b[0m\n",
            "\u001b[0;32m/usr/local/lib/python3.7/dist-packages/kerastuner/engine/multi_execution_tuner.py\u001b[0m in \u001b[0;36mrun_trial\u001b[0;34m(self, trial, *fit_args, **fit_kwargs)\u001b[0m\n\u001b[1;32m     94\u001b[0m             \u001b[0mcopied_fit_kwargs\u001b[0m\u001b[0;34m[\u001b[0m\u001b[0;34m'callbacks'\u001b[0m\u001b[0;34m]\u001b[0m \u001b[0;34m=\u001b[0m \u001b[0mcallbacks\u001b[0m\u001b[0;34m\u001b[0m\u001b[0;34m\u001b[0m\u001b[0m\n\u001b[1;32m     95\u001b[0m \u001b[0;34m\u001b[0m\u001b[0m\n\u001b[0;32m---> 96\u001b[0;31m             \u001b[0mhistory\u001b[0m \u001b[0;34m=\u001b[0m \u001b[0mself\u001b[0m\u001b[0;34m.\u001b[0m\u001b[0m_build_and_fit_model\u001b[0m\u001b[0;34m(\u001b[0m\u001b[0mtrial\u001b[0m\u001b[0;34m,\u001b[0m \u001b[0mfit_args\u001b[0m\u001b[0;34m,\u001b[0m \u001b[0mcopied_fit_kwargs\u001b[0m\u001b[0;34m)\u001b[0m\u001b[0;34m\u001b[0m\u001b[0;34m\u001b[0m\u001b[0m\n\u001b[0m\u001b[1;32m     97\u001b[0m             \u001b[0;32mfor\u001b[0m \u001b[0mmetric\u001b[0m\u001b[0;34m,\u001b[0m \u001b[0mepoch_values\u001b[0m \u001b[0;32min\u001b[0m \u001b[0mhistory\u001b[0m\u001b[0;34m.\u001b[0m\u001b[0mhistory\u001b[0m\u001b[0;34m.\u001b[0m\u001b[0mitems\u001b[0m\u001b[0;34m(\u001b[0m\u001b[0;34m)\u001b[0m\u001b[0;34m:\u001b[0m\u001b[0;34m\u001b[0m\u001b[0;34m\u001b[0m\u001b[0m\n\u001b[1;32m     98\u001b[0m                 \u001b[0;32mif\u001b[0m \u001b[0mself\u001b[0m\u001b[0;34m.\u001b[0m\u001b[0moracle\u001b[0m\u001b[0;34m.\u001b[0m\u001b[0mobjective\u001b[0m\u001b[0;34m.\u001b[0m\u001b[0mdirection\u001b[0m \u001b[0;34m==\u001b[0m \u001b[0;34m'min'\u001b[0m\u001b[0;34m:\u001b[0m\u001b[0;34m\u001b[0m\u001b[0;34m\u001b[0m\u001b[0m\n",
            "\u001b[0;32m/usr/local/lib/python3.7/dist-packages/kerastuner/engine/tuner.py\u001b[0m in \u001b[0;36m_build_and_fit_model\u001b[0;34m(self, trial, fit_args, fit_kwargs)\u001b[0m\n\u001b[1;32m    139\u001b[0m         \"\"\"\n\u001b[1;32m    140\u001b[0m         \u001b[0mmodel\u001b[0m \u001b[0;34m=\u001b[0m \u001b[0mself\u001b[0m\u001b[0;34m.\u001b[0m\u001b[0mhypermodel\u001b[0m\u001b[0;34m.\u001b[0m\u001b[0mbuild\u001b[0m\u001b[0;34m(\u001b[0m\u001b[0mtrial\u001b[0m\u001b[0;34m.\u001b[0m\u001b[0mhyperparameters\u001b[0m\u001b[0;34m)\u001b[0m\u001b[0;34m\u001b[0m\u001b[0;34m\u001b[0m\u001b[0m\n\u001b[0;32m--> 141\u001b[0;31m         \u001b[0;32mreturn\u001b[0m \u001b[0mmodel\u001b[0m\u001b[0;34m.\u001b[0m\u001b[0mfit\u001b[0m\u001b[0;34m(\u001b[0m\u001b[0;34m*\u001b[0m\u001b[0mfit_args\u001b[0m\u001b[0;34m,\u001b[0m \u001b[0;34m**\u001b[0m\u001b[0mfit_kwargs\u001b[0m\u001b[0;34m)\u001b[0m\u001b[0;34m\u001b[0m\u001b[0;34m\u001b[0m\u001b[0m\n\u001b[0m\u001b[1;32m    142\u001b[0m \u001b[0;34m\u001b[0m\u001b[0m\n\u001b[1;32m    143\u001b[0m     \u001b[0;32mdef\u001b[0m \u001b[0mrun_trial\u001b[0m\u001b[0;34m(\u001b[0m\u001b[0mself\u001b[0m\u001b[0;34m,\u001b[0m \u001b[0mtrial\u001b[0m\u001b[0;34m,\u001b[0m \u001b[0;34m*\u001b[0m\u001b[0mfit_args\u001b[0m\u001b[0;34m,\u001b[0m \u001b[0;34m**\u001b[0m\u001b[0mfit_kwargs\u001b[0m\u001b[0;34m)\u001b[0m\u001b[0;34m:\u001b[0m\u001b[0;34m\u001b[0m\u001b[0;34m\u001b[0m\u001b[0m\n",
            "\u001b[0;32m/usr/local/lib/python3.7/dist-packages/tensorflow/python/keras/engine/training.py\u001b[0m in \u001b[0;36mfit\u001b[0;34m(self, x, y, batch_size, epochs, verbose, callbacks, validation_split, validation_data, shuffle, class_weight, sample_weight, initial_epoch, steps_per_epoch, validation_steps, validation_batch_size, validation_freq, max_queue_size, workers, use_multiprocessing)\u001b[0m\n\u001b[1;32m   1181\u001b[0m                 _r=1):\n\u001b[1;32m   1182\u001b[0m               \u001b[0mcallbacks\u001b[0m\u001b[0;34m.\u001b[0m\u001b[0mon_train_batch_begin\u001b[0m\u001b[0;34m(\u001b[0m\u001b[0mstep\u001b[0m\u001b[0;34m)\u001b[0m\u001b[0;34m\u001b[0m\u001b[0;34m\u001b[0m\u001b[0m\n\u001b[0;32m-> 1183\u001b[0;31m               \u001b[0mtmp_logs\u001b[0m \u001b[0;34m=\u001b[0m \u001b[0mself\u001b[0m\u001b[0;34m.\u001b[0m\u001b[0mtrain_function\u001b[0m\u001b[0;34m(\u001b[0m\u001b[0miterator\u001b[0m\u001b[0;34m)\u001b[0m\u001b[0;34m\u001b[0m\u001b[0;34m\u001b[0m\u001b[0m\n\u001b[0m\u001b[1;32m   1184\u001b[0m               \u001b[0;32mif\u001b[0m \u001b[0mdata_handler\u001b[0m\u001b[0;34m.\u001b[0m\u001b[0mshould_sync\u001b[0m\u001b[0;34m:\u001b[0m\u001b[0;34m\u001b[0m\u001b[0;34m\u001b[0m\u001b[0m\n\u001b[1;32m   1185\u001b[0m                 \u001b[0mcontext\u001b[0m\u001b[0;34m.\u001b[0m\u001b[0masync_wait\u001b[0m\u001b[0;34m(\u001b[0m\u001b[0;34m)\u001b[0m\u001b[0;34m\u001b[0m\u001b[0;34m\u001b[0m\u001b[0m\n",
            "\u001b[0;32m/usr/local/lib/python3.7/dist-packages/tensorflow/python/eager/def_function.py\u001b[0m in \u001b[0;36m__call__\u001b[0;34m(self, *args, **kwds)\u001b[0m\n\u001b[1;32m    887\u001b[0m \u001b[0;34m\u001b[0m\u001b[0m\n\u001b[1;32m    888\u001b[0m       \u001b[0;32mwith\u001b[0m \u001b[0mOptionalXlaContext\u001b[0m\u001b[0;34m(\u001b[0m\u001b[0mself\u001b[0m\u001b[0;34m.\u001b[0m\u001b[0m_jit_compile\u001b[0m\u001b[0;34m)\u001b[0m\u001b[0;34m:\u001b[0m\u001b[0;34m\u001b[0m\u001b[0;34m\u001b[0m\u001b[0m\n\u001b[0;32m--> 889\u001b[0;31m         \u001b[0mresult\u001b[0m \u001b[0;34m=\u001b[0m \u001b[0mself\u001b[0m\u001b[0;34m.\u001b[0m\u001b[0m_call\u001b[0m\u001b[0;34m(\u001b[0m\u001b[0;34m*\u001b[0m\u001b[0margs\u001b[0m\u001b[0;34m,\u001b[0m \u001b[0;34m**\u001b[0m\u001b[0mkwds\u001b[0m\u001b[0;34m)\u001b[0m\u001b[0;34m\u001b[0m\u001b[0;34m\u001b[0m\u001b[0m\n\u001b[0m\u001b[1;32m    890\u001b[0m \u001b[0;34m\u001b[0m\u001b[0m\n\u001b[1;32m    891\u001b[0m       \u001b[0mnew_tracing_count\u001b[0m \u001b[0;34m=\u001b[0m \u001b[0mself\u001b[0m\u001b[0;34m.\u001b[0m\u001b[0mexperimental_get_tracing_count\u001b[0m\u001b[0;34m(\u001b[0m\u001b[0;34m)\u001b[0m\u001b[0;34m\u001b[0m\u001b[0;34m\u001b[0m\u001b[0m\n",
            "\u001b[0;32m/usr/local/lib/python3.7/dist-packages/tensorflow/python/eager/def_function.py\u001b[0m in \u001b[0;36m_call\u001b[0;34m(self, *args, **kwds)\u001b[0m\n\u001b[1;32m    915\u001b[0m       \u001b[0;31m# In this case we have created variables on the first call, so we run the\u001b[0m\u001b[0;34m\u001b[0m\u001b[0;34m\u001b[0m\u001b[0;34m\u001b[0m\u001b[0m\n\u001b[1;32m    916\u001b[0m       \u001b[0;31m# defunned version which is guaranteed to never create variables.\u001b[0m\u001b[0;34m\u001b[0m\u001b[0;34m\u001b[0m\u001b[0;34m\u001b[0m\u001b[0m\n\u001b[0;32m--> 917\u001b[0;31m       \u001b[0;32mreturn\u001b[0m \u001b[0mself\u001b[0m\u001b[0;34m.\u001b[0m\u001b[0m_stateless_fn\u001b[0m\u001b[0;34m(\u001b[0m\u001b[0;34m*\u001b[0m\u001b[0margs\u001b[0m\u001b[0;34m,\u001b[0m \u001b[0;34m**\u001b[0m\u001b[0mkwds\u001b[0m\u001b[0;34m)\u001b[0m  \u001b[0;31m# pylint: disable=not-callable\u001b[0m\u001b[0;34m\u001b[0m\u001b[0;34m\u001b[0m\u001b[0m\n\u001b[0m\u001b[1;32m    918\u001b[0m     \u001b[0;32melif\u001b[0m \u001b[0mself\u001b[0m\u001b[0;34m.\u001b[0m\u001b[0m_stateful_fn\u001b[0m \u001b[0;32mis\u001b[0m \u001b[0;32mnot\u001b[0m \u001b[0;32mNone\u001b[0m\u001b[0;34m:\u001b[0m\u001b[0;34m\u001b[0m\u001b[0;34m\u001b[0m\u001b[0m\n\u001b[1;32m    919\u001b[0m       \u001b[0;31m# Release the lock early so that multiple threads can perform the call\u001b[0m\u001b[0;34m\u001b[0m\u001b[0;34m\u001b[0m\u001b[0;34m\u001b[0m\u001b[0m\n",
            "\u001b[0;32m/usr/local/lib/python3.7/dist-packages/tensorflow/python/eager/function.py\u001b[0m in \u001b[0;36m__call__\u001b[0;34m(self, *args, **kwargs)\u001b[0m\n\u001b[1;32m   3022\u001b[0m        filtered_flat_args) = self._maybe_define_function(args, kwargs)\n\u001b[1;32m   3023\u001b[0m     return graph_function._call_flat(\n\u001b[0;32m-> 3024\u001b[0;31m         filtered_flat_args, captured_inputs=graph_function.captured_inputs)  # pylint: disable=protected-access\n\u001b[0m\u001b[1;32m   3025\u001b[0m \u001b[0;34m\u001b[0m\u001b[0m\n\u001b[1;32m   3026\u001b[0m   \u001b[0;34m@\u001b[0m\u001b[0mproperty\u001b[0m\u001b[0;34m\u001b[0m\u001b[0;34m\u001b[0m\u001b[0m\n",
            "\u001b[0;32m/usr/local/lib/python3.7/dist-packages/tensorflow/python/eager/function.py\u001b[0m in \u001b[0;36m_call_flat\u001b[0;34m(self, args, captured_inputs, cancellation_manager)\u001b[0m\n\u001b[1;32m   1959\u001b[0m       \u001b[0;31m# No tape is watching; skip to running the function.\u001b[0m\u001b[0;34m\u001b[0m\u001b[0;34m\u001b[0m\u001b[0;34m\u001b[0m\u001b[0m\n\u001b[1;32m   1960\u001b[0m       return self._build_call_outputs(self._inference_function.call(\n\u001b[0;32m-> 1961\u001b[0;31m           ctx, args, cancellation_manager=cancellation_manager))\n\u001b[0m\u001b[1;32m   1962\u001b[0m     forward_backward = self._select_forward_and_backward_functions(\n\u001b[1;32m   1963\u001b[0m         \u001b[0margs\u001b[0m\u001b[0;34m,\u001b[0m\u001b[0;34m\u001b[0m\u001b[0;34m\u001b[0m\u001b[0m\n",
            "\u001b[0;32m/usr/local/lib/python3.7/dist-packages/tensorflow/python/eager/function.py\u001b[0m in \u001b[0;36mcall\u001b[0;34m(self, ctx, args, cancellation_manager)\u001b[0m\n\u001b[1;32m    594\u001b[0m               \u001b[0minputs\u001b[0m\u001b[0;34m=\u001b[0m\u001b[0margs\u001b[0m\u001b[0;34m,\u001b[0m\u001b[0;34m\u001b[0m\u001b[0;34m\u001b[0m\u001b[0m\n\u001b[1;32m    595\u001b[0m               \u001b[0mattrs\u001b[0m\u001b[0;34m=\u001b[0m\u001b[0mattrs\u001b[0m\u001b[0;34m,\u001b[0m\u001b[0;34m\u001b[0m\u001b[0;34m\u001b[0m\u001b[0m\n\u001b[0;32m--> 596\u001b[0;31m               ctx=ctx)\n\u001b[0m\u001b[1;32m    597\u001b[0m         \u001b[0;32melse\u001b[0m\u001b[0;34m:\u001b[0m\u001b[0;34m\u001b[0m\u001b[0;34m\u001b[0m\u001b[0m\n\u001b[1;32m    598\u001b[0m           outputs = execute.execute_with_cancellation(\n",
            "\u001b[0;32m/usr/local/lib/python3.7/dist-packages/tensorflow/python/eager/execute.py\u001b[0m in \u001b[0;36mquick_execute\u001b[0;34m(op_name, num_outputs, inputs, attrs, ctx, name)\u001b[0m\n\u001b[1;32m     58\u001b[0m     \u001b[0mctx\u001b[0m\u001b[0;34m.\u001b[0m\u001b[0mensure_initialized\u001b[0m\u001b[0;34m(\u001b[0m\u001b[0;34m)\u001b[0m\u001b[0;34m\u001b[0m\u001b[0;34m\u001b[0m\u001b[0m\n\u001b[1;32m     59\u001b[0m     tensors = pywrap_tfe.TFE_Py_Execute(ctx._handle, device_name, op_name,\n\u001b[0;32m---> 60\u001b[0;31m                                         inputs, attrs, num_outputs)\n\u001b[0m\u001b[1;32m     61\u001b[0m   \u001b[0;32mexcept\u001b[0m \u001b[0mcore\u001b[0m\u001b[0;34m.\u001b[0m\u001b[0m_NotOkStatusException\u001b[0m \u001b[0;32mas\u001b[0m \u001b[0me\u001b[0m\u001b[0;34m:\u001b[0m\u001b[0;34m\u001b[0m\u001b[0;34m\u001b[0m\u001b[0m\n\u001b[1;32m     62\u001b[0m     \u001b[0;32mif\u001b[0m \u001b[0mname\u001b[0m \u001b[0;32mis\u001b[0m \u001b[0;32mnot\u001b[0m \u001b[0;32mNone\u001b[0m\u001b[0;34m:\u001b[0m\u001b[0;34m\u001b[0m\u001b[0;34m\u001b[0m\u001b[0m\n",
            "\u001b[0;31mKeyboardInterrupt\u001b[0m: "
          ]
        }
      ]
    },
    {
      "cell_type": "code",
      "metadata": {
        "id": "Ch6NoP7jg4I-"
      },
      "source": [
        ""
      ],
      "execution_count": null,
      "outputs": []
    },
    {
      "cell_type": "markdown",
      "metadata": {
        "id": "Ax7oYxSyINl_"
      },
      "source": [
        "### Model with Embeddings"
      ]
    },
    {
      "cell_type": "code",
      "metadata": {
        "colab": {
          "base_uri": "https://localhost:8080/"
        },
        "id": "rnHD5vxC7tZh",
        "outputId": "f51ded45-e95d-4302-8779-12f5c8b8af9a"
      },
      "source": [
        "!pip install keras-tuner"
      ],
      "execution_count": null,
      "outputs": [
        {
          "output_type": "stream",
          "text": [
            "Requirement already satisfied: keras-tuner in /usr/local/lib/python3.7/dist-packages (1.0.2)\n",
            "Requirement already satisfied: colorama in /usr/local/lib/python3.7/dist-packages (from keras-tuner) (0.4.4)\n",
            "Requirement already satisfied: future in /usr/local/lib/python3.7/dist-packages (from keras-tuner) (0.16.0)\n",
            "Requirement already satisfied: scikit-learn in /usr/local/lib/python3.7/dist-packages (from keras-tuner) (0.22.2.post1)\n",
            "Requirement already satisfied: packaging in /usr/local/lib/python3.7/dist-packages (from keras-tuner) (20.9)\n",
            "Requirement already satisfied: scipy in /usr/local/lib/python3.7/dist-packages (from keras-tuner) (1.4.1)\n",
            "Requirement already satisfied: tabulate in /usr/local/lib/python3.7/dist-packages (from keras-tuner) (0.8.9)\n",
            "Requirement already satisfied: tqdm in /usr/local/lib/python3.7/dist-packages (from keras-tuner) (4.41.1)\n",
            "Requirement already satisfied: requests in /usr/local/lib/python3.7/dist-packages (from keras-tuner) (2.23.0)\n",
            "Requirement already satisfied: terminaltables in /usr/local/lib/python3.7/dist-packages (from keras-tuner) (3.1.0)\n",
            "Requirement already satisfied: numpy in /usr/local/lib/python3.7/dist-packages (from keras-tuner) (1.19.5)\n",
            "Requirement already satisfied: joblib>=0.11 in /usr/local/lib/python3.7/dist-packages (from scikit-learn->keras-tuner) (1.0.1)\n",
            "Requirement already satisfied: pyparsing>=2.0.2 in /usr/local/lib/python3.7/dist-packages (from packaging->keras-tuner) (2.4.7)\n",
            "Requirement already satisfied: urllib3!=1.25.0,!=1.25.1,<1.26,>=1.21.1 in /usr/local/lib/python3.7/dist-packages (from requests->keras-tuner) (1.24.3)\n",
            "Requirement already satisfied: idna<3,>=2.5 in /usr/local/lib/python3.7/dist-packages (from requests->keras-tuner) (2.10)\n",
            "Requirement already satisfied: chardet<4,>=3.0.2 in /usr/local/lib/python3.7/dist-packages (from requests->keras-tuner) (3.0.4)\n",
            "Requirement already satisfied: certifi>=2017.4.17 in /usr/local/lib/python3.7/dist-packages (from requests->keras-tuner) (2020.12.5)\n"
          ],
          "name": "stdout"
        }
      ]
    },
    {
      "cell_type": "code",
      "metadata": {
        "id": "7PIqPZ2l8fh1"
      },
      "source": [
        "from kerastuner.tuners import RandomSearch"
      ],
      "execution_count": null,
      "outputs": []
    },
    {
      "cell_type": "code",
      "metadata": {
        "id": "iziGcAdY9yHJ",
        "colab": {
          "base_uri": "https://localhost:8080/"
        },
        "outputId": "55a1c53b-1d12-4d6c-c818-9c24bbf9d648"
      },
      "source": [
        "embed_cols, len_embed_cols = [], []\n",
        "for c in categorical:\n",
        "    if categorical_dims[c]>2:\n",
        "        embed_cols.append(c)\n",
        "        len_embed_cols.append(categorical_dims[c])\n",
        "len_embed_cols"
      ],
      "execution_count": null,
      "outputs": [
        {
          "output_type": "execute_result",
          "data": {
            "text/plain": [
              "[3, 8, 8, 5, 6, 6, 19, 7, 58, 5, 4, 8, 3, 9, 11]"
            ]
          },
          "metadata": {
            "tags": []
          },
          "execution_count": 16
        }
      ]
    },
    {
      "cell_type": "code",
      "metadata": {
        "id": "Z76kaJnq9yOF"
      },
      "source": [
        "import tensorflow as tf \n",
        "import keras\n",
        "from keras.models import Sequential, Model\n",
        "from keras.layers import Activation, Dense, Flatten, BatchNormalization, Dropout, Input, Embedding, Reshape, Concatenate\n",
        "from keras.optimizers import SGD\n",
        "\n",
        "def make_model():\n",
        "    len_embed_cols = [3, 8, 8, 5, 6, 6, 19, 7, 58, 5, 4, 8, 3, 9, 11]\n",
        "    model_out = []\n",
        "    model_in  = []\n",
        "    for dim in len_embed_cols:\n",
        "        input_dim = Input(shape=(1,), dtype='int32')\n",
        "        embed_dim = Embedding(dim + 1, dim + 1//2, input_length=1)(input_dim)\n",
        "        embed_dim = Dropout(0.25)(embed_dim)\n",
        "        embed_dim = Reshape((dim + 1//2,))(embed_dim)\n",
        "        model_out.append(embed_dim)\n",
        "        model_in.append(input_dim)\n",
        "    \n",
        "    input_num = Input(shape=(419,), dtype='float32')\n",
        "    outputs = Concatenate(axis=1)([*model_out, input_num])\n",
        "    \n",
        "    outputs = (Dense(32))(outputs) \n",
        "    outputs = (Activation('relu'))(outputs)\n",
        "    outputs = (Dropout(.25))(outputs)\n",
        "    outputs = (Dense(192))(outputs)\n",
        "    outputs = (Activation('relu'))(outputs)\n",
        "    outputs = (Dropout(.15))(outputs)\n",
        "    outputs = (Dense(32))(outputs) \n",
        "    outputs = (Activation('relu'))(outputs)\n",
        "    outputs = (Dropout(.15))(outputs)\n",
        "    outputs = (Dense(1))(outputs)\n",
        "    outputs = (Activation('sigmoid'))(outputs)\n",
        "    \n",
        "    model = Model([*model_in, input_num], outputs)\n",
        "\n",
        "    model.compile(loss='binary_crossentropy', optimizer='adam')\n",
        "    \n",
        "    return model"
      ],
      "execution_count": null,
      "outputs": []
    },
    {
      "cell_type": "code",
      "metadata": {
        "id": "-8EcR-1N-GMn"
      },
      "source": [
        "import tensorflow as tf \n",
        "import keras\n",
        "from keras.models import Sequential, Model\n",
        "from keras.layers import Activation, Dense, Flatten, BatchNormalization, Dropout, Input, Embedding, Reshape, Concatenate\n",
        "from keras.optimizers import SGD\n",
        "\n",
        "def make_model():\n",
        "    len_embed_cols = [3, 8, 8, 5, 6, 6, 19, 7, 58, 5, 4, 8, 3, 9, 11]\n",
        "    model_out = []\n",
        "    model_in  = []\n",
        "    for dim in len_embed_cols:\n",
        "        input_dim = Input(shape=(1,), dtype='int32')\n",
        "        embed_dim = Embedding(dim + 1, dim + 1//2, input_length=1)(input_dim)\n",
        "        embed_dim = Dropout(0.25)(embed_dim)\n",
        "        embed_dim = Reshape((dim + 1//2,))(embed_dim)\n",
        "        model_out.append(embed_dim)\n",
        "        model_in.append(input_dim)\n",
        "    \n",
        "    input_num = Input(shape=(419,), dtype='float32')\n",
        "    outputs = Concatenate(axis=1)([*model_out, input_num])\n",
        "    \n",
        "    outputs = (Dense(128))(outputs) \n",
        "    outputs = (Activation('relu'))(outputs)\n",
        "    outputs = (Dropout(.4))(outputs)\n",
        "    outputs = (Dense(32))(outputs)\n",
        "    outputs = (Activation('relu'))(outputs)\n",
        "    outputs = (Dropout(.1))(outputs)\n",
        "    outputs = (Dense(192))(outputs) \n",
        "    outputs = (Activation('relu'))(outputs)\n",
        "    outputs = (Dropout(.1))(outputs)\n",
        "    outputs = (Dense(240))(outputs)\n",
        "    outputs = (Activation('relu'))(outputs)\n",
        "    outputs = (Dropout(.3))(outputs)\n",
        "    outputs = (Dense(32))(outputs)\n",
        "    outputs = (Activation('relu'))(outputs)\n",
        "    outputs = (Dropout(.3))(outputs)\n",
        "    outputs = (Dense(224))(outputs)\n",
        "    outputs = (Activation('relu'))(outputs)\n",
        "    outputs = (Dropout(.4))(outputs)\n",
        "    outputs = (Dense(112))(outputs)\n",
        "    outputs = (Activation('relu'))(outputs)\n",
        "    outputs = (Dropout(.2))(outputs)\n",
        "    outputs = (Dense(1))(outputs)\n",
        "    outputs = (Dropout(.2))(outputs)\n",
        "    outputs = (Activation('sigmoid'))(outputs)\n",
        "    \n",
        "    model = Model([*model_in, input_num], outputs)\n",
        "\n",
        "    model.compile(loss='binary_crossentropy', optimizer='adam', metrics=['AUC'])\n",
        "    \n",
        "    return model"
      ],
      "execution_count": null,
      "outputs": []
    },
    {
      "cell_type": "code",
      "metadata": {
        "id": "GDcKJSvV_p8B"
      },
      "source": [
        "from sklearn.model_selection import GridSearchCV"
      ],
      "execution_count": null,
      "outputs": []
    },
    {
      "cell_type": "code",
      "metadata": {
        "id": "enjDjtGG9yUT"
      },
      "source": [
        "def vectorize(X):\n",
        "    vectorized_X = []\n",
        "    for c in embed_cols:    \n",
        "        vectorized_X.append(X[c].values)\n",
        "    other_cols = [c for c in X.columns if (not c in embed_cols)]\n",
        "    vectorized_X.append(X[other_cols].values)\n",
        "    return vectorized_X"
      ],
      "execution_count": null,
      "outputs": []
    },
    {
      "cell_type": "code",
      "metadata": {
        "id": "3Gmyk2l-fFbL"
      },
      "source": [
        "from sklearn.model_selection import train_test_split\n",
        "\n",
        "train_X, valid_X, train_y, valid_y = train_test_split(X_train_le, y_train_le, test_size=0.25, random_state=42)"
      ],
      "execution_count": null,
      "outputs": []
    },
    {
      "cell_type": "code",
      "metadata": {
        "id": "RfgQzpMsCVQi"
      },
      "source": [
        "model = make_model(len_embed_cols)\n",
        "\n",
        "batch_size = [128, 256, 512, 1024, 4096]\n",
        "epochs = [20, 30, 50, 70]\n",
        "parameter_grid = dict(batch_size=batch_size, epochs=epochs)\n",
        "myGrid = GridSearchCV(estimator=model, param_grid=parameter_grid, n_jobs=-1, cv=3)"
      ],
      "execution_count": null,
      "outputs": []
    },
    {
      "cell_type": "code",
      "metadata": {
        "colab": {
          "base_uri": "https://localhost:8080/"
        },
        "id": "SZ9aol3FCdrM",
        "outputId": "17a40732-1d20-493f-f5e7-b1975201b3c2"
      },
      "source": [
        "from keras.callbacks import ModelCheckpoint, EarlyStopping\n",
        "n_epochs = 30\n",
        "model = make_model()\n",
        "model.fit(vectorize(X_train_le), y_train,\n",
        "           epochs=n_epochs,\n",
        "           batch_size=256,\n",
        "           verbose=1,\n",
        "           callbacks=[EarlyStopping(monitor='val_loss', patience=50)],\n",
        "           validation_data=(vectorize(X_test_le), y_test))"
      ],
      "execution_count": null,
      "outputs": [
        {
          "output_type": "stream",
          "text": [
            "Epoch 1/30\n",
            "1022/1022 [==============================] - 16s 12ms/step - loss: 0.3717 - auc: 0.5738 - val_loss: 0.2611 - val_auc: 0.7399\n",
            "Epoch 2/30\n",
            "1022/1022 [==============================] - 10s 10ms/step - loss: 0.3461 - auc: 0.6362 - val_loss: 0.2674 - val_auc: 0.7411\n",
            "Epoch 3/30\n",
            "1022/1022 [==============================] - 10s 10ms/step - loss: 0.3454 - auc: 0.6400 - val_loss: 0.2711 - val_auc: 0.7447\n",
            "Epoch 4/30\n",
            "1022/1022 [==============================] - 10s 10ms/step - loss: 0.3431 - auc: 0.6476 - val_loss: 0.2802 - val_auc: 0.7433\n",
            "Epoch 5/30\n",
            "1022/1022 [==============================] - 11s 10ms/step - loss: 0.3396 - auc: 0.6495 - val_loss: 0.2706 - val_auc: 0.7414\n",
            "Epoch 6/30\n",
            "1022/1022 [==============================] - 10s 10ms/step - loss: 0.3429 - auc: 0.6495 - val_loss: 0.2639 - val_auc: 0.7429\n",
            "Epoch 7/30\n",
            "1022/1022 [==============================] - 10s 10ms/step - loss: 0.3426 - auc: 0.6499 - val_loss: 0.2672 - val_auc: 0.7434\n",
            "Epoch 8/30\n",
            "1022/1022 [==============================] - 10s 10ms/step - loss: 0.3419 - auc: 0.6512 - val_loss: 0.2636 - val_auc: 0.7442\n",
            "Epoch 9/30\n",
            "1022/1022 [==============================] - 10s 10ms/step - loss: 0.3385 - auc: 0.6588 - val_loss: 0.2634 - val_auc: 0.7437\n",
            "Epoch 10/30\n",
            "1022/1022 [==============================] - 10s 10ms/step - loss: 0.3414 - auc: 0.6571 - val_loss: 0.2674 - val_auc: 0.7435\n",
            "Epoch 11/30\n",
            "1022/1022 [==============================] - 10s 10ms/step - loss: 0.3382 - auc: 0.6570 - val_loss: 0.2672 - val_auc: 0.7426\n",
            "Epoch 12/30\n",
            "1022/1022 [==============================] - 10s 10ms/step - loss: 0.3390 - auc: 0.6549 - val_loss: 0.2619 - val_auc: 0.7433\n",
            "Epoch 13/30\n",
            "1022/1022 [==============================] - 10s 10ms/step - loss: 0.3387 - auc: 0.6543 - val_loss: 0.2605 - val_auc: 0.7440\n",
            "Epoch 14/30\n",
            "1022/1022 [==============================] - 10s 10ms/step - loss: 0.3385 - auc: 0.6563 - val_loss: 0.2605 - val_auc: 0.7433\n",
            "Epoch 15/30\n",
            "1022/1022 [==============================] - 10s 10ms/step - loss: 0.3386 - auc: 0.6592 - val_loss: 0.2555 - val_auc: 0.7440\n",
            "Epoch 16/30\n",
            "1022/1022 [==============================] - 10s 10ms/step - loss: 0.3391 - auc: 0.6568 - val_loss: 0.2692 - val_auc: 0.7446\n",
            "Epoch 17/30\n",
            "1022/1022 [==============================] - 10s 10ms/step - loss: 0.3381 - auc: 0.6627 - val_loss: 0.2597 - val_auc: 0.7440\n",
            "Epoch 18/30\n",
            "1022/1022 [==============================] - 10s 10ms/step - loss: 0.3385 - auc: 0.6577 - val_loss: 0.2661 - val_auc: 0.7428\n",
            "Epoch 19/30\n",
            "1022/1022 [==============================] - 11s 10ms/step - loss: 0.3407 - auc: 0.6571 - val_loss: 0.2702 - val_auc: 0.7457\n",
            "Epoch 20/30\n",
            "1022/1022 [==============================] - 10s 10ms/step - loss: 0.3392 - auc: 0.6586 - val_loss: 0.2670 - val_auc: 0.7445\n",
            "Epoch 21/30\n",
            "1022/1022 [==============================] - 10s 10ms/step - loss: 0.3376 - auc: 0.6606 - val_loss: 0.2630 - val_auc: 0.7447\n",
            "Epoch 22/30\n",
            "1022/1022 [==============================] - 10s 10ms/step - loss: 0.3381 - auc: 0.6606 - val_loss: 0.2634 - val_auc: 0.7443\n",
            "Epoch 23/30\n",
            "1022/1022 [==============================] - 10s 10ms/step - loss: 0.3379 - auc: 0.6604 - val_loss: 0.2602 - val_auc: 0.7439\n",
            "Epoch 24/30\n",
            "1022/1022 [==============================] - 10s 10ms/step - loss: 0.3362 - auc: 0.6627 - val_loss: 0.2620 - val_auc: 0.7448\n",
            "Epoch 25/30\n",
            "1022/1022 [==============================] - 10s 10ms/step - loss: 0.3380 - auc: 0.6625 - val_loss: 0.2605 - val_auc: 0.7427\n",
            "Epoch 26/30\n",
            "1022/1022 [==============================] - 10s 10ms/step - loss: 0.3345 - auc: 0.6673 - val_loss: 0.2556 - val_auc: 0.7416\n",
            "Epoch 27/30\n",
            "1022/1022 [==============================] - 10s 10ms/step - loss: 0.3371 - auc: 0.6614 - val_loss: 0.2622 - val_auc: 0.7424\n",
            "Epoch 28/30\n",
            "1022/1022 [==============================] - 10s 10ms/step - loss: 0.3395 - auc: 0.6604 - val_loss: 0.2612 - val_auc: 0.7441\n",
            "Epoch 29/30\n",
            "1022/1022 [==============================] - 10s 10ms/step - loss: 0.3382 - auc: 0.6644 - val_loss: 0.2613 - val_auc: 0.7455\n",
            "Epoch 30/30\n",
            "1022/1022 [==============================] - 10s 10ms/step - loss: 0.3380 - auc: 0.6634 - val_loss: 0.2551 - val_auc: 0.7437\n"
          ],
          "name": "stdout"
        },
        {
          "output_type": "execute_result",
          "data": {
            "text/plain": [
              "<keras.callbacks.History at 0x7ff28a728c50>"
            ]
          },
          "metadata": {
            "tags": []
          },
          "execution_count": 36
        }
      ]
    },
    {
      "cell_type": "code",
      "metadata": {
        "id": "YjxJ3u7fCeaK"
      },
      "source": [
        "sample = pd.read_csv(path + '/sample_submission.csv')\n",
        "sample = sample.set_index('SK_ID_CURR')\n",
        "sample['TARGET'] = A['TARGET']\n",
        "sample.to_csv(path+'/my_submission_tuner.csv')"
      ],
      "execution_count": null,
      "outputs": []
    },
    {
      "cell_type": "code",
      "metadata": {
        "colab": {
          "base_uri": "https://localhost:8080/"
        },
        "id": "TrJdPmZofgOq",
        "outputId": "3293537c-3c40-40b4-96b1-16b947e2e968"
      },
      "source": [
        "from keras.callbacks import ModelCheckpoint, EarlyStopping\n",
        "n_epochs = 100\n",
        "model = make_model(len_embed_cols)\n",
        "model.fit(vectorize(train_X), train_y,\n",
        "           epochs=n_epochs,\n",
        "           batch_size=4096,\n",
        "           verbose=1,\n",
        "           callbacks=[EarlyStopping(monitor='val_loss', patience=50)],\n",
        "           validation_data=(vectorize(valid_X), valid_y))"
      ],
      "execution_count": null,
      "outputs": [
        {
          "output_type": "stream",
          "text": [
            "Epoch 1/100\n",
            "48/48 [==============================] - 8s 43ms/step - loss: 0.4077 - val_loss: 0.2743\n",
            "Epoch 2/100\n",
            "48/48 [==============================] - 1s 25ms/step - loss: 0.2876 - val_loss: 0.2633\n",
            "Epoch 3/100\n",
            "48/48 [==============================] - 1s 25ms/step - loss: 0.2737 - val_loss: 0.2558\n",
            "Epoch 4/100\n",
            "48/48 [==============================] - 1s 25ms/step - loss: 0.2661 - val_loss: 0.2492\n",
            "Epoch 5/100\n",
            "48/48 [==============================] - 1s 25ms/step - loss: 0.2593 - val_loss: 0.2479\n",
            "Epoch 6/100\n",
            "48/48 [==============================] - 1s 25ms/step - loss: 0.2572 - val_loss: 0.2466\n",
            "Epoch 7/100\n",
            "48/48 [==============================] - 1s 25ms/step - loss: 0.2547 - val_loss: 0.2466\n",
            "Epoch 8/100\n",
            "48/48 [==============================] - 1s 25ms/step - loss: 0.2542 - val_loss: 0.2461\n",
            "Epoch 9/100\n",
            "48/48 [==============================] - 1s 26ms/step - loss: 0.2522 - val_loss: 0.2467\n",
            "Epoch 10/100\n",
            "48/48 [==============================] - 1s 25ms/step - loss: 0.2520 - val_loss: 0.2483\n",
            "Epoch 11/100\n",
            "48/48 [==============================] - 1s 25ms/step - loss: 0.2529 - val_loss: 0.2453\n",
            "Epoch 12/100\n",
            "48/48 [==============================] - 1s 25ms/step - loss: 0.2529 - val_loss: 0.2457\n",
            "Epoch 13/100\n",
            "48/48 [==============================] - 1s 25ms/step - loss: 0.2495 - val_loss: 0.2453\n",
            "Epoch 14/100\n",
            "48/48 [==============================] - 1s 26ms/step - loss: 0.2503 - val_loss: 0.2455\n",
            "Epoch 15/100\n",
            "48/48 [==============================] - 1s 25ms/step - loss: 0.2490 - val_loss: 0.2453\n",
            "Epoch 16/100\n",
            "48/48 [==============================] - 1s 26ms/step - loss: 0.2481 - val_loss: 0.2450\n",
            "Epoch 17/100\n",
            "48/48 [==============================] - 1s 25ms/step - loss: 0.2482 - val_loss: 0.2459\n",
            "Epoch 18/100\n",
            "48/48 [==============================] - 1s 25ms/step - loss: 0.2455 - val_loss: 0.2448\n",
            "Epoch 19/100\n",
            "48/48 [==============================] - 1s 25ms/step - loss: 0.2492 - val_loss: 0.2449\n",
            "Epoch 20/100\n",
            "48/48 [==============================] - 1s 25ms/step - loss: 0.2477 - val_loss: 0.2456\n",
            "Epoch 21/100\n",
            "48/48 [==============================] - 1s 26ms/step - loss: 0.2475 - val_loss: 0.2451\n",
            "Epoch 22/100\n",
            "48/48 [==============================] - 1s 26ms/step - loss: 0.2472 - val_loss: 0.2449\n",
            "Epoch 23/100\n",
            "48/48 [==============================] - 1s 26ms/step - loss: 0.2480 - val_loss: 0.2452\n",
            "Epoch 24/100\n",
            "48/48 [==============================] - 1s 25ms/step - loss: 0.2470 - val_loss: 0.2456\n",
            "Epoch 25/100\n",
            "48/48 [==============================] - 1s 25ms/step - loss: 0.2430 - val_loss: 0.2452\n",
            "Epoch 26/100\n",
            "48/48 [==============================] - 1s 25ms/step - loss: 0.2468 - val_loss: 0.2450\n",
            "Epoch 27/100\n",
            "48/48 [==============================] - 1s 26ms/step - loss: 0.2453 - val_loss: 0.2451\n",
            "Epoch 28/100\n",
            "48/48 [==============================] - 1s 25ms/step - loss: 0.2453 - val_loss: 0.2452\n",
            "Epoch 29/100\n",
            "48/48 [==============================] - 1s 26ms/step - loss: 0.2420 - val_loss: 0.2455\n",
            "Epoch 30/100\n",
            "48/48 [==============================] - 1s 25ms/step - loss: 0.2445 - val_loss: 0.2468\n",
            "Epoch 31/100\n",
            "48/48 [==============================] - 1s 25ms/step - loss: 0.2416 - val_loss: 0.2454\n",
            "Epoch 32/100\n",
            "48/48 [==============================] - 1s 25ms/step - loss: 0.2442 - val_loss: 0.2455\n",
            "Epoch 33/100\n",
            "48/48 [==============================] - 1s 25ms/step - loss: 0.2427 - val_loss: 0.2461\n",
            "Epoch 34/100\n",
            "48/48 [==============================] - 1s 25ms/step - loss: 0.2396 - val_loss: 0.2465\n",
            "Epoch 35/100\n",
            "48/48 [==============================] - 1s 26ms/step - loss: 0.2436 - val_loss: 0.2463\n",
            "Epoch 36/100\n",
            "48/48 [==============================] - 1s 26ms/step - loss: 0.2406 - val_loss: 0.2470\n",
            "Epoch 37/100\n",
            "48/48 [==============================] - 1s 25ms/step - loss: 0.2424 - val_loss: 0.2469\n",
            "Epoch 38/100\n",
            "48/48 [==============================] - 1s 25ms/step - loss: 0.2392 - val_loss: 0.2468\n",
            "Epoch 39/100\n",
            "48/48 [==============================] - 1s 25ms/step - loss: 0.2406 - val_loss: 0.2476\n",
            "Epoch 40/100\n",
            "48/48 [==============================] - 1s 26ms/step - loss: 0.2364 - val_loss: 0.2471\n",
            "Epoch 41/100\n",
            "48/48 [==============================] - 1s 26ms/step - loss: 0.2410 - val_loss: 0.2486\n",
            "Epoch 42/100\n",
            "48/48 [==============================] - 1s 26ms/step - loss: 0.2385 - val_loss: 0.2486\n",
            "Epoch 43/100\n",
            "48/48 [==============================] - 1s 26ms/step - loss: 0.2361 - val_loss: 0.2485\n",
            "Epoch 44/100\n",
            "48/48 [==============================] - 1s 26ms/step - loss: 0.2367 - val_loss: 0.2481\n",
            "Epoch 45/100\n",
            "48/48 [==============================] - 1s 26ms/step - loss: 0.2364 - val_loss: 0.2486\n",
            "Epoch 46/100\n",
            "48/48 [==============================] - 1s 26ms/step - loss: 0.2354 - val_loss: 0.2502\n",
            "Epoch 47/100\n",
            "48/48 [==============================] - 1s 25ms/step - loss: 0.2354 - val_loss: 0.2496\n",
            "Epoch 48/100\n",
            "48/48 [==============================] - 1s 26ms/step - loss: 0.2377 - val_loss: 0.2490\n",
            "Epoch 49/100\n",
            "48/48 [==============================] - 1s 26ms/step - loss: 0.2357 - val_loss: 0.2491\n",
            "Epoch 50/100\n",
            "48/48 [==============================] - 1s 26ms/step - loss: 0.2342 - val_loss: 0.2499\n",
            "Epoch 51/100\n",
            "48/48 [==============================] - 1s 26ms/step - loss: 0.2329 - val_loss: 0.2490\n",
            "Epoch 52/100\n",
            "48/48 [==============================] - 1s 25ms/step - loss: 0.2330 - val_loss: 0.2514\n",
            "Epoch 53/100\n",
            "48/48 [==============================] - 1s 25ms/step - loss: 0.2360 - val_loss: 0.2507\n",
            "Epoch 54/100\n",
            "48/48 [==============================] - 1s 26ms/step - loss: 0.2323 - val_loss: 0.2503\n",
            "Epoch 55/100\n",
            "48/48 [==============================] - 1s 25ms/step - loss: 0.2336 - val_loss: 0.2516\n",
            "Epoch 56/100\n",
            "48/48 [==============================] - 1s 25ms/step - loss: 0.2313 - val_loss: 0.2520\n",
            "Epoch 57/100\n",
            "48/48 [==============================] - 1s 26ms/step - loss: 0.2333 - val_loss: 0.2524\n",
            "Epoch 58/100\n",
            "48/48 [==============================] - 1s 25ms/step - loss: 0.2315 - val_loss: 0.2530\n",
            "Epoch 59/100\n",
            "48/48 [==============================] - 1s 25ms/step - loss: 0.2316 - val_loss: 0.2515\n",
            "Epoch 60/100\n",
            "48/48 [==============================] - 1s 25ms/step - loss: 0.2300 - val_loss: 0.2527\n",
            "Epoch 61/100\n",
            "48/48 [==============================] - 1s 26ms/step - loss: 0.2311 - val_loss: 0.2532\n",
            "Epoch 62/100\n",
            "48/48 [==============================] - 1s 26ms/step - loss: 0.2286 - val_loss: 0.2536\n",
            "Epoch 63/100\n",
            "48/48 [==============================] - 1s 26ms/step - loss: 0.2295 - val_loss: 0.2538\n",
            "Epoch 64/100\n",
            "48/48 [==============================] - 1s 25ms/step - loss: 0.2282 - val_loss: 0.2538\n",
            "Epoch 65/100\n",
            "48/48 [==============================] - 1s 25ms/step - loss: 0.2294 - val_loss: 0.2543\n",
            "Epoch 66/100\n",
            "48/48 [==============================] - 1s 25ms/step - loss: 0.2294 - val_loss: 0.2542\n",
            "Epoch 67/100\n",
            "48/48 [==============================] - 1s 26ms/step - loss: 0.2281 - val_loss: 0.2543\n",
            "Epoch 68/100\n",
            "48/48 [==============================] - 1s 25ms/step - loss: 0.2292 - val_loss: 0.2560\n"
          ],
          "name": "stdout"
        },
        {
          "output_type": "execute_result",
          "data": {
            "text/plain": [
              "<tensorflow.python.keras.callbacks.History at 0x7f758e2dc990>"
            ]
          },
          "metadata": {
            "tags": []
          },
          "execution_count": 19
        }
      ]
    },
    {
      "cell_type": "code",
      "metadata": {
        "id": "RPVG9mmTfg6G"
      },
      "source": [
        "test_preds1 = model.predict(vectorize(X_test_le))[:,0]\n",
        "kaggle_test_preds1= model.predict(vectorize(kaggle_test_le))[:,0]"
      ],
      "execution_count": null,
      "outputs": []
    },
    {
      "cell_type": "code",
      "metadata": {
        "colab": {
          "base_uri": "https://localhost:8080/"
        },
        "id": "1oxJWnRxfhwX",
        "outputId": "bb8b64b5-8228-41d9-ac97-a0c66b35a926"
      },
      "source": [
        "from sklearn.metrics import roc_auc_score\n",
        "roc_auc_score(y_test, test_preds1)"
      ],
      "execution_count": null,
      "outputs": [
        {
          "output_type": "execute_result",
          "data": {
            "text/plain": [
              "0.7107619106809343"
            ]
          },
          "metadata": {
            "tags": []
          },
          "execution_count": 21
        }
      ]
    },
    {
      "cell_type": "code",
      "metadata": {
        "colab": {
          "base_uri": "https://localhost:8080/"
        },
        "id": "fLZWCycI9yZZ",
        "outputId": "a4df90f0-05a8-41ac-da50-be234e5427bb"
      },
      "source": [
        "gini = 2*roc_auc_score(y_test, test_preds1) - 1\n",
        "gini"
      ],
      "execution_count": null,
      "outputs": [
        {
          "output_type": "execute_result",
          "data": {
            "text/plain": [
              "0.4215238213618686"
            ]
          },
          "metadata": {
            "tags": []
          },
          "execution_count": 22
        }
      ]
    },
    {
      "cell_type": "code",
      "metadata": {
        "colab": {
          "base_uri": "https://localhost:8080/",
          "height": 76
        },
        "id": "Dqzr-3hE9yje",
        "outputId": "8de35455-ba95-46b5-9e1c-0b73c83ffb3a"
      },
      "source": [
        "kaggle_test1 = pd.read_csv(path + '/kaggle_test.csv')\n",
        "ids = kaggle_test1['SK_ID_CURR'].values\n",
        "A = pd.DataFrame(ids)\n",
        "A['TARGET'] = kaggle_test_preds1\n",
        "A['SK_ID_CURR'] = ids\n",
        "A = A.set_index('SK_ID_CURR')\n",
        "A[A['TARGET']<0]"
      ],
      "execution_count": null,
      "outputs": [
        {
          "output_type": "execute_result",
          "data": {
            "text/html": [
              "<div>\n",
              "<style scoped>\n",
              "    .dataframe tbody tr th:only-of-type {\n",
              "        vertical-align: middle;\n",
              "    }\n",
              "\n",
              "    .dataframe tbody tr th {\n",
              "        vertical-align: top;\n",
              "    }\n",
              "\n",
              "    .dataframe thead th {\n",
              "        text-align: right;\n",
              "    }\n",
              "</style>\n",
              "<table border=\"1\" class=\"dataframe\">\n",
              "  <thead>\n",
              "    <tr style=\"text-align: right;\">\n",
              "      <th></th>\n",
              "      <th>0</th>\n",
              "      <th>TARGET</th>\n",
              "    </tr>\n",
              "    <tr>\n",
              "      <th>SK_ID_CURR</th>\n",
              "      <th></th>\n",
              "      <th></th>\n",
              "    </tr>\n",
              "  </thead>\n",
              "  <tbody>\n",
              "  </tbody>\n",
              "</table>\n",
              "</div>"
            ],
            "text/plain": [
              "Empty DataFrame\n",
              "Columns: [0, TARGET]\n",
              "Index: []"
            ]
          },
          "metadata": {
            "tags": []
          },
          "execution_count": 23
        }
      ]
    },
    {
      "cell_type": "code",
      "metadata": {
        "id": "6uCV5gTY9ymG"
      },
      "source": [
        "sample = pd.read_csv(path + '/sample_submission.csv')\n",
        "sample = sample.set_index('SK_ID_CURR')\n",
        "sample['TARGET'] = A['TARGET']\n",
        "sample.to_csv(path+'/my_submission2.csv')\n",
        "\n",
        "# зашла на 0.69204"
      ],
      "execution_count": null,
      "outputs": []
    },
    {
      "cell_type": "code",
      "metadata": {
        "id": "_QSjuJ0u9yvR"
      },
      "source": [
        "y_test_preds = np.mean(test_preds, axis=1)\n",
        "y_kaggle_test_preds = np.mean(kaggle_test_preds, axis=1)"
      ],
      "execution_count": null,
      "outputs": []
    },
    {
      "cell_type": "code",
      "metadata": {
        "id": "FzbyW7ka9yyE"
      },
      "source": [
        "roc_auc_score(y_test, y_test_preds)"
      ],
      "execution_count": null,
      "outputs": []
    },
    {
      "cell_type": "code",
      "metadata": {
        "id": "NZX86cCj9y09"
      },
      "source": [
        "sample['TARGET'] = y_kaggle_test_preds\n",
        "sample.to_csv(path+'/my_submission4.csv')"
      ],
      "execution_count": null,
      "outputs": []
    },
    {
      "cell_type": "code",
      "metadata": {
        "id": "_vDRF5Fy9y3U"
      },
      "source": [
        "sample"
      ],
      "execution_count": null,
      "outputs": []
    },
    {
      "cell_type": "markdown",
      "metadata": {
        "id": "mN8gKZmCnfkZ"
      },
      "source": [
        "### TabNet"
      ]
    },
    {
      "cell_type": "markdown",
      "metadata": {
        "id": "UG_XIySEzXIP"
      },
      "source": [
        ""
      ]
    },
    {
      "cell_type": "code",
      "metadata": {
        "colab": {
          "base_uri": "https://localhost:8080/"
        },
        "id": "2T_hc7Cn9y4g",
        "outputId": "9236d48c-16f0-4e6f-d5ea-36b563950793"
      },
      "source": [
        "!pip install pytorch_tabnet"
      ],
      "execution_count": 26,
      "outputs": [
        {
          "output_type": "stream",
          "text": [
            "Collecting pytorch_tabnet\n",
            "  Downloading https://files.pythonhosted.org/packages/94/e5/2a808d611a5d44e3c997c0d07362c04a56c70002208e00aec9eee3d923b5/pytorch_tabnet-3.1.1-py3-none-any.whl\n",
            "Requirement already satisfied: scikit_learn>0.21 in /usr/local/lib/python3.7/dist-packages (from pytorch_tabnet) (0.22.2.post1)\n",
            "Requirement already satisfied: scipy>1.4 in /usr/local/lib/python3.7/dist-packages (from pytorch_tabnet) (1.4.1)\n",
            "Requirement already satisfied: numpy<2.0,>=1.17 in /usr/local/lib/python3.7/dist-packages (from pytorch_tabnet) (1.19.5)\n",
            "Requirement already satisfied: tqdm<5.0,>=4.36 in /usr/local/lib/python3.7/dist-packages (from pytorch_tabnet) (4.41.1)\n",
            "Requirement already satisfied: torch<2.0,>=1.2 in /usr/local/lib/python3.7/dist-packages (from pytorch_tabnet) (1.8.1+cu101)\n",
            "Requirement already satisfied: joblib>=0.11 in /usr/local/lib/python3.7/dist-packages (from scikit_learn>0.21->pytorch_tabnet) (1.0.1)\n",
            "Requirement already satisfied: typing-extensions in /usr/local/lib/python3.7/dist-packages (from torch<2.0,>=1.2->pytorch_tabnet) (3.7.4.3)\n",
            "Installing collected packages: pytorch-tabnet\n",
            "Successfully installed pytorch-tabnet-3.1.1\n"
          ],
          "name": "stdout"
        }
      ]
    },
    {
      "cell_type": "code",
      "metadata": {
        "id": "tpo96-Wa9y6o"
      },
      "source": [
        "from pytorch_tabnet.tab_model import TabNetClassifier"
      ],
      "execution_count": 27,
      "outputs": []
    },
    {
      "cell_type": "code",
      "metadata": {
        "id": "7dhU0fei9y8w"
      },
      "source": [
        "cat_idxs = [ i for i, f in enumerate(features) if f in categorical]\n",
        "cat_dims = [ categorical_dims[f] for i, f in enumerate(features) if f in categorical]"
      ],
      "execution_count": 28,
      "outputs": []
    },
    {
      "cell_type": "code",
      "metadata": {
        "id": "Dtkg0XpU9y_g"
      },
      "source": [
        "from sklearn.model_selection import train_test_split\n",
        "\n",
        "train_X, valid_X, train_y, valid_y = train_test_split(X_train_le, y_train_le, test_size=0.25, random_state=42)"
      ],
      "execution_count": 29,
      "outputs": []
    },
    {
      "cell_type": "code",
      "metadata": {
        "id": "WKCPUfEPlapL"
      },
      "source": [
        "train_X = train_X.to_numpy()\n",
        "valid_X = valid_X.to_numpy()\n",
        "train_y = train_y.to_numpy()\n",
        "valid_y = valid_y.to_numpy()\n",
        "\n",
        "test_X = X_test_le.to_numpy()"
      ],
      "execution_count": 30,
      "outputs": []
    },
    {
      "cell_type": "code",
      "metadata": {
        "id": "dDDRxSNvmoco"
      },
      "source": [
        ""
      ],
      "execution_count": null,
      "outputs": []
    },
    {
      "cell_type": "code",
      "metadata": {
        "colab": {
          "base_uri": "https://localhost:8080/"
        },
        "id": "6ZXKTiB6dnUc",
        "outputId": "0ff416b9-2f1d-4066-833e-7240196ef854"
      },
      "source": [
        "import torch\n",
        "\n",
        "max_epochs = 15\n",
        "batch_size = 512\n",
        "clf = TabNetClassifier(n_a = 16,\n",
        "                       n_d =16,\n",
        "                       cat_idxs=cat_idxs,\n",
        "                       cat_dims=cat_dims,\n",
        "                       cat_emb_dim=1,\n",
        "                       optimizer_fn=torch.optim.Adam,\n",
        "                       optimizer_params=dict(lr=1e-4),\n",
        "                       scheduler_fn=torch.optim.lr_scheduler.OneCycleLR,\n",
        "                       scheduler_params={\"is_batch_level\":True,\n",
        "                                         \"max_lr\":2e-2,\n",
        "                                         \"steps_per_epoch\":int(X_train_le.shape[0] / batch_size)+1,\n",
        "                                         \"epochs\":max_epochs\n",
        "                                          },\n",
        "                       mask_type='entmax',\n",
        "                      )\n"
      ],
      "execution_count": 38,
      "outputs": [
        {
          "output_type": "stream",
          "text": [
            "Device used : cuda\n"
          ],
          "name": "stdout"
        }
      ]
    },
    {
      "cell_type": "code",
      "metadata": {
        "id": "RP8Ti7BxFlee"
      },
      "source": [
        "from pytorch_tabnet.metrics import Metric\n",
        "from sklearn.metrics import roc_auc_score\n",
        "\n",
        "class Gini(Metric):\n",
        "    def __init__(self):\n",
        "        self._name = \"gini\"\n",
        "        self._maximize = True\n",
        "\n",
        "    def __call__(self, y_true, y_score):\n",
        "        auc = roc_auc_score(y_true, y_score[:, 1])\n",
        "        return max(2*auc - 1, 0.)"
      ],
      "execution_count": 32,
      "outputs": []
    },
    {
      "cell_type": "code",
      "metadata": {
        "id": "Osr8p2S6snU2",
        "colab": {
          "base_uri": "https://localhost:8080/",
          "height": 303
        },
        "outputId": "42dea2ee-24bd-42dd-d5cc-b71567cc37fa"
      },
      "source": [
        "preds = clf.predict_proba(test_X)[:,1]\n",
        "\n",
        "from sklearn.metrics import roc_auc_score\n",
        "roc_auc_score(y_test, preds)"
      ],
      "execution_count": 39,
      "outputs": [
        {
          "output_type": "error",
          "ename": "AttributeError",
          "evalue": "ignored",
          "traceback": [
            "\u001b[0;31m---------------------------------------------------------------------------\u001b[0m",
            "\u001b[0;31mAttributeError\u001b[0m                            Traceback (most recent call last)",
            "\u001b[0;32m<ipython-input-39-a7be2004b408>\u001b[0m in \u001b[0;36m<module>\u001b[0;34m()\u001b[0m\n\u001b[0;32m----> 1\u001b[0;31m \u001b[0mpreds\u001b[0m \u001b[0;34m=\u001b[0m \u001b[0mclf\u001b[0m\u001b[0;34m.\u001b[0m\u001b[0mpredict_proba\u001b[0m\u001b[0;34m(\u001b[0m\u001b[0mtest_X\u001b[0m\u001b[0;34m)\u001b[0m\u001b[0;34m[\u001b[0m\u001b[0;34m:\u001b[0m\u001b[0;34m,\u001b[0m\u001b[0;36m1\u001b[0m\u001b[0;34m]\u001b[0m\u001b[0;34m\u001b[0m\u001b[0;34m\u001b[0m\u001b[0m\n\u001b[0m\u001b[1;32m      2\u001b[0m \u001b[0;34m\u001b[0m\u001b[0m\n\u001b[1;32m      3\u001b[0m \u001b[0;32mfrom\u001b[0m \u001b[0msklearn\u001b[0m\u001b[0;34m.\u001b[0m\u001b[0mmetrics\u001b[0m \u001b[0;32mimport\u001b[0m \u001b[0mroc_auc_score\u001b[0m\u001b[0;34m\u001b[0m\u001b[0;34m\u001b[0m\u001b[0m\n\u001b[1;32m      4\u001b[0m \u001b[0mroc_auc_score\u001b[0m\u001b[0;34m(\u001b[0m\u001b[0my_test\u001b[0m\u001b[0;34m,\u001b[0m \u001b[0mpreds\u001b[0m\u001b[0;34m)\u001b[0m\u001b[0;34m\u001b[0m\u001b[0;34m\u001b[0m\u001b[0m\n",
            "\u001b[0;32m/usr/local/lib/python3.7/dist-packages/pytorch_tabnet/tab_model.py\u001b[0m in \u001b[0;36mpredict_proba\u001b[0;34m(self, X)\u001b[0m\n\u001b[1;32m     88\u001b[0m \u001b[0;34m\u001b[0m\u001b[0m\n\u001b[1;32m     89\u001b[0m         \"\"\"\n\u001b[0;32m---> 90\u001b[0;31m         \u001b[0mself\u001b[0m\u001b[0;34m.\u001b[0m\u001b[0mnetwork\u001b[0m\u001b[0;34m.\u001b[0m\u001b[0meval\u001b[0m\u001b[0;34m(\u001b[0m\u001b[0;34m)\u001b[0m\u001b[0;34m\u001b[0m\u001b[0;34m\u001b[0m\u001b[0m\n\u001b[0m\u001b[1;32m     91\u001b[0m \u001b[0;34m\u001b[0m\u001b[0m\n\u001b[1;32m     92\u001b[0m         dataloader = DataLoader(\n",
            "\u001b[0;31mAttributeError\u001b[0m: 'TabNetClassifier' object has no attribute 'network'"
          ]
        }
      ]
    },
    {
      "cell_type": "code",
      "metadata": {
        "id": "9CbEdRT3lkBg"
      },
      "source": [
        "batch_size = [10, 20, 40, 60, 80, 100]\n",
        "epochs = [10, 50, 100]\n",
        "param_grid = dict(batch_size=batch_size, epochs=epochs)\n",
        "grid = GridSearchCV(estimator=model, param_grid=param_grid, n_jobs=-1, cv=3)\n",
        "grid_result = grid.fit(X, Y)"
      ],
      "execution_count": null,
      "outputs": []
    },
    {
      "cell_type": "code",
      "metadata": {
        "colab": {
          "base_uri": "https://localhost:8080/",
          "height": 158
        },
        "id": "0680sUHC9zHr",
        "outputId": "1017bb9e-291b-404e-ad76-bc400466c9be"
      },
      "source": [
        "y_preds = classifier.predict(X_test)[:,0]"
      ],
      "execution_count": null,
      "outputs": [
        {
          "output_type": "error",
          "ename": "NameError",
          "evalue": "ignored",
          "traceback": [
            "\u001b[0;31m---------------------------------------------------------------------------\u001b[0m",
            "\u001b[0;31mNameError\u001b[0m                                 Traceback (most recent call last)",
            "\u001b[0;32m<ipython-input-1-ad8b97beabda>\u001b[0m in \u001b[0;36m<module>\u001b[0;34m()\u001b[0m\n\u001b[0;32m----> 1\u001b[0;31m \u001b[0my_preds\u001b[0m \u001b[0;34m=\u001b[0m \u001b[0mclassifier\u001b[0m\u001b[0;34m.\u001b[0m\u001b[0mpredict\u001b[0m\u001b[0;34m(\u001b[0m\u001b[0mX_test\u001b[0m\u001b[0;34m)\u001b[0m\u001b[0;34m[\u001b[0m\u001b[0;34m:\u001b[0m\u001b[0;34m,\u001b[0m\u001b[0;36m0\u001b[0m\u001b[0;34m]\u001b[0m\u001b[0;34m\u001b[0m\u001b[0;34m\u001b[0m\u001b[0m\n\u001b[0m",
            "\u001b[0;31mNameError\u001b[0m: name 'classifier' is not defined"
          ]
        }
      ]
    },
    {
      "cell_type": "code",
      "metadata": {
        "colab": {
          "base_uri": "https://localhost:8080/",
          "height": 168
        },
        "id": "361mksG-Vwaa",
        "outputId": "929d47e4-3641-460c-e421-646cc81b5705"
      },
      "source": [
        "print(pytorch_tabnet.__version__)"
      ],
      "execution_count": 41,
      "outputs": [
        {
          "output_type": "error",
          "ename": "NameError",
          "evalue": "ignored",
          "traceback": [
            "\u001b[0;31m---------------------------------------------------------------------------\u001b[0m",
            "\u001b[0;31mNameError\u001b[0m                                 Traceback (most recent call last)",
            "\u001b[0;32m<ipython-input-41-9042e059b4a4>\u001b[0m in \u001b[0;36m<module>\u001b[0;34m()\u001b[0m\n\u001b[1;32m      1\u001b[0m \u001b[0;32mimport\u001b[0m \u001b[0mpandas\u001b[0m\u001b[0;34m\u001b[0m\u001b[0;34m\u001b[0m\u001b[0m\n\u001b[0;32m----> 2\u001b[0;31m \u001b[0mprint\u001b[0m\u001b[0;34m(\u001b[0m\u001b[0mpytorch_tabnet\u001b[0m\u001b[0;34m.\u001b[0m\u001b[0m__version__\u001b[0m\u001b[0;34m)\u001b[0m\u001b[0;34m\u001b[0m\u001b[0;34m\u001b[0m\u001b[0m\n\u001b[0m",
            "\u001b[0;31mNameError\u001b[0m: name 'pytorch_tabnet' is not defined"
          ]
        }
      ]
    },
    {
      "cell_type": "code",
      "metadata": {
        "colab": {
          "base_uri": "https://localhost:8080/",
          "height": 384
        },
        "id": "3drjd4HDZAFw",
        "outputId": "2526b971-df36-415b-a411-634f7e647b98"
      },
      "source": [
        "!pip install pandas==0.25.3"
      ],
      "execution_count": null,
      "outputs": [
        {
          "output_type": "stream",
          "text": [
            "Collecting pandas==0.25.3\n",
            "\u001b[?25l  Downloading https://files.pythonhosted.org/packages/63/e0/a1b39cdcb2c391f087a1538bc8a6d62a82d0439693192aef541d7b123769/pandas-0.25.3-cp37-cp37m-manylinux1_x86_64.whl (10.4MB)\n",
            "\u001b[K     |████████████████████████████████| 10.4MB 4.1MB/s \n",
            "\u001b[?25hRequirement already satisfied: pytz>=2017.2 in /usr/local/lib/python3.7/dist-packages (from pandas==0.25.3) (2018.9)\n",
            "Requirement already satisfied: python-dateutil>=2.6.1 in /usr/local/lib/python3.7/dist-packages (from pandas==0.25.3) (2.8.1)\n",
            "Requirement already satisfied: numpy>=1.13.3 in /usr/local/lib/python3.7/dist-packages (from pandas==0.25.3) (1.19.5)\n",
            "Requirement already satisfied: six>=1.5 in /usr/local/lib/python3.7/dist-packages (from python-dateutil>=2.6.1->pandas==0.25.3) (1.15.0)\n",
            "\u001b[31mERROR: xarray 0.18.0 has requirement pandas>=1.0, but you'll have pandas 0.25.3 which is incompatible.\u001b[0m\n",
            "\u001b[31mERROR: google-colab 1.0.0 has requirement pandas~=1.1.0; python_version >= \"3.0\", but you'll have pandas 0.25.3 which is incompatible.\u001b[0m\n",
            "\u001b[31mERROR: fbprophet 0.7.1 has requirement pandas>=1.0.4, but you'll have pandas 0.25.3 which is incompatible.\u001b[0m\n",
            "Installing collected packages: pandas\n",
            "  Found existing installation: pandas 1.1.5\n",
            "    Uninstalling pandas-1.1.5:\n",
            "      Successfully uninstalled pandas-1.1.5\n",
            "Successfully installed pandas-0.25.3\n"
          ],
          "name": "stdout"
        },
        {
          "output_type": "display_data",
          "data": {
            "application/vnd.colab-display-data+json": {
              "pip_warning": {
                "packages": [
                  "pandas"
                ]
              }
            }
          },
          "metadata": {
            "tags": []
          }
        }
      ]
    }
  ]
}